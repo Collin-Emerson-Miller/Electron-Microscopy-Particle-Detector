{
 "cells": [
  {
   "cell_type": "markdown",
   "metadata": {},
   "source": [
    "# An End to End Machine Learning Pipeline/Approach to Joint Object Detection & Segmentation\n",
    "\n",
    "This notebook is to serve as a tutorial on how to use \"Insert Name here.\""
   ]
  },
  {
   "cell_type": "markdown",
   "metadata": {},
   "source": [
    "### Python Imports "
   ]
  },
  {
   "cell_type": "code",
   "execution_count": 2,
   "metadata": {
    "collapsed": true
   },
   "outputs": [],
   "source": [
    "from __future__ import absolute_import\n",
    "from __future__ import division\n",
    "from __future__ import print_function\n",
    "\n",
    "import joint\n",
    "import matplotlib.pyplot\n",
    "import numpy as np"
   ]
  },
  {
   "cell_type": "code",
   "execution_count": 4,
   "metadata": {
    "collapsed": true
   },
   "outputs": [],
   "source": [
    "%matplotlib inline"
   ]
  },
  {
   "cell_type": "code",
   "execution_count": null,
   "metadata": {
    "collapsed": true
   },
   "outputs": [],
   "source": [
    "joint.Jds()\n",
    "\n",
    "'''\n",
    "This will create the joint detection and segmentation object.\n",
    "'''\n",
    "\n",
    ">>> jds = joint.Jds()"
   ]
  },
  {
   "cell_type": "code",
   "execution_count": null,
   "metadata": {
    "collapsed": true
   },
   "outputs": [],
   "source": [
    "jds.detection_input_path\n",
    "\n",
    "'''\n",
    "This property would have two functions: 1) Set the path of \n",
    "the folder containing the full images and 2) Get the path of \n",
    "the folder containing the full images.\n",
    "'''\n",
    "\n",
    ">>> jds.detection_input_path = \"joint/detection/input\""
   ]
  },
  {
   "cell_type": "code",
   "execution_count": null,
   "metadata": {
    "collapsed": true
   },
   "outputs": [],
   "source": [
    "jds.detection_output_path\n",
    "\n",
    "'''\n",
    "This property would have two functions: 1) Set the path of \n",
    "the folder containing the full images and 2) Get the path of \n",
    "the folder containing the full images.\n",
    "'''\n",
    "\n",
    ">>> jds.detection_output_path = \"joint/detection/output\""
   ]
  },
  {
   "cell_type": "code",
   "execution_count": null,
   "metadata": {
    "collapsed": true
   },
   "outputs": [],
   "source": [
    "jds.segmentation_input_path\n",
    "\n",
    "'''\n",
    "This property would have two functions: 1) Set the path of \n",
    "the folder containing the detected objects and 2) Get the path of \n",
    "the folder containing the detected objects.\n",
    "'''\n",
    "\n",
    ">>> jds.segmentation_input_path = \"joint/segmentation/input\""
   ]
  },
  {
   "cell_type": "code",
   "execution_count": null,
   "metadata": {
    "collapsed": true
   },
   "outputs": [],
   "source": [
    "jds.segmentation_output_path\n",
    "\n",
    "'''\n",
    "This property would have two functions: 1) Set the path of \n",
    "the folder containing the detected objects and 2) Get the path of \n",
    "the folder containing the detected objects.\n",
    "'''\n",
    ">>> jds.segmentation_input_path = \"joint/segmentation/output\""
   ]
  },
  {
   "cell_type": "code",
   "execution_count": null,
   "metadata": {
    "collapsed": true
   },
   "outputs": [],
   "source": [
    "jds.train_detection(X, y)\n",
    "\n",
    "'''\n",
    "This function will train the detection classifier.\n",
    "The input will be a `numpy` array of images and \n",
    "their labels(ex. positive or negative.)\n",
    "'''\n",
    "\n",
    ">>> jds.train_detection(X, y)"
   ]
  },
  {
   "cell_type": "code",
   "execution_count": null,
   "metadata": {
    "collapsed": true
   },
   "outputs": [],
   "source": [
    "jds.train_segmentation(X, y)\n",
    "'''\n",
    "Trains the segmentation model.\n",
    "\n",
    "The input is a `numpy` array of training images\n",
    "with their ground truth segmentations.\n",
    "'''\n",
    "\n",
    ">>> jds.train_segmentation(X, y)"
   ]
  },
  {
   "cell_type": "code",
   "execution_count": null,
   "metadata": {
    "collapsed": true
   },
   "outputs": [],
   "source": [
    "jds.train_boundary_probabilites(X, y)\n",
    "'''\n",
    "Trains the boundary probability model.\n",
    "\n",
    "The input is a `numpy` array of training images\n",
    "with their ground truth boundaries.\n",
    "'''\n",
    "\n",
    ">>> jds.train_boundary_probabilites(X, y)"
   ]
  },
  {
   "cell_type": "code",
   "execution_count": null,
   "metadata": {
    "collapsed": true
   },
   "outputs": [],
   "source": [
    "jds.detect(images)\n",
    "\n",
    "'''\n",
    "This function takes in a list of images\n",
    "and return a list of lists.  The outer list will be\n",
    "a list of the list of detections.\n",
    "'''\n",
    "\n",
    ">>> detections = jds.detect(images)"
   ]
  },
  {
   "cell_type": "code",
   "execution_count": null,
   "metadata": {
    "collapsed": true
   },
   "outputs": [],
   "source": [
    "jds.segment(images)\n",
    "\n",
    "'''\n",
    "This function takes in a list of images \n",
    "to segment and return a list segmentations.  These \n",
    "segmentations will be a `numpy` array that is the same\n",
    "size of the images but the elements will be the segmentation\n",
    "label.\n",
    "'''\n",
    "\n",
    ">>> segmentations = jds.segment(images)"
   ]
  }
 ],
 "metadata": {
  "kernelspec": {
   "display_name": "Python 2",
   "language": "python",
   "name": "python2"
  },
  "language_info": {
   "codemirror_mode": {
    "name": "ipython",
    "version": 2
   },
   "file_extension": ".py",
   "mimetype": "text/x-python",
   "name": "python",
   "nbconvert_exporter": "python",
   "pygments_lexer": "ipython2",
   "version": "2.7.13"
  }
 },
 "nbformat": 4,
 "nbformat_minor": 2
}
