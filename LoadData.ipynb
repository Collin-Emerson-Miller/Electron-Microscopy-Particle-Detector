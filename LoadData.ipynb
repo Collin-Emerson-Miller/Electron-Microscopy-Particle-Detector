{
 "cells": [
  {
   "cell_type": "code",
   "execution_count": 153,
   "metadata": {
    "collapsed": false
   },
   "outputs": [
    {
     "name": "stderr",
     "output_type": "stream",
     "text": [
      "/home/collin/anaconda2/lib/python2.7/site-packages/ipykernel/__main__.py:45: VisibleDeprecationWarning: using a non-integer number instead of an integer will result in an error in the future\n",
      "/home/collin/anaconda2/lib/python2.7/site-packages/ipykernel/__main__.py:46: VisibleDeprecationWarning: using a non-integer number instead of an integer will result in an error in the future\n",
      "/home/collin/anaconda2/lib/python2.7/site-packages/ipykernel/__main__.py:47: VisibleDeprecationWarning: using a non-integer number instead of an integer will result in an error in the future\n",
      "/home/collin/anaconda2/lib/python2.7/site-packages/ipykernel/__main__.py:48: VisibleDeprecationWarning: using a non-integer number instead of an integer will result in an error in the future\n"
     ]
    }
   ],
   "source": [
    "from os import listdir\n",
    "from os.path import isfile, join\n",
    "import cv2\n",
    "import numpy as np\n",
    "import math\n",
    "\n",
    "#Read all images from folder\n",
    "pospath = \"/home/collin/Desktop/Positives\"\n",
    "positives = [f for f in listdir(pospath) if isfile(join(pospath, f))]\n",
    "\n",
    "negpath = \"/home/collin/Desktop/Negatives\"\n",
    "negatives = [f for f in listdir(negpath) if isfile(join(negpath, f))]\n",
    "\n",
    "#create array to hold all data\n",
    "numImages = len(positives) + len(negatives)\n",
    "data = np.zeros((numImages, 1025))\n",
    "\n",
    "#choose 80/20 ratio for splitting data because of Pareto principle\n",
    "split = math.floor(numImages * 0.8)\n",
    "\n",
    "#load Positives\n",
    "for i in range(len(positives)):\n",
    "    path = \"/home/collin/Desktop/Positives/\" + positives[i]\n",
    "    particle = cv2.imread(path)\n",
    "    particle = cv2.cvtColor(particle, cv2.COLOR_BGR2GRAY)\n",
    "    \n",
    "    particle = particle.flatten()\n",
    "    particle = np.insert(particle, 1024, 1)\n",
    "    data[i] = particle\n",
    "    \n",
    "#load Negatives\n",
    "for i in range(len(negatives)):\n",
    "    path = \"/home/collin/Desktop/Negatives/\" + negatives[i]\n",
    "    particle = cv2.imread(path)\n",
    "    particle = cv2.cvtColor(particle, cv2.COLOR_BGR2GRAY)\n",
    "    \n",
    "    particle = particle.flatten()\n",
    "    particle = np.insert(particle, 1024, 0)\n",
    "    data[len(positives) + i] = particle\n",
    "\n",
    "#shuffle examples\n",
    "np.random.shuffle(data)\n",
    "\n",
    "#split data into training and testing sets\n",
    "X_train = data[0:split, 0:1024]\n",
    "y_train = data[0:split, 1024]\n",
    "X_test = data[split:,0:1024]\n",
    "y_test = data[split:, 1024]\n",
    "\n",
    "#reshape images to be routed to classifier\n",
    "X_train = np.reshape(X_train, (split, 32, 32))\n",
    "X_test = np.reshape(X_test, (numImages - split, 32, 32))\n"
   ]
  },
  {
   "cell_type": "code",
   "execution_count": null,
   "metadata": {
    "collapsed": true
   },
   "outputs": [],
   "source": []
  }
 ],
 "metadata": {
  "anaconda-cloud": {},
  "kernelspec": {
   "display_name": "Python [conda root]",
   "language": "python",
   "name": "conda-root-py"
  },
  "language_info": {
   "codemirror_mode": {
    "name": "ipython",
    "version": 2
   },
   "file_extension": ".py",
   "mimetype": "text/x-python",
   "name": "python",
   "nbconvert_exporter": "python",
   "pygments_lexer": "ipython2",
   "version": "2.7.12"
  }
 },
 "nbformat": 4,
 "nbformat_minor": 1
}
