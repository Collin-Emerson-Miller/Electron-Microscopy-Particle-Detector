{
 "cells": [
  {
   "cell_type": "code",
   "execution_count": 1,
   "metadata": {},
   "outputs": [
    {
     "name": "stderr",
     "output_type": "stream",
     "text": [
      "Using TensorFlow backend.\n"
     ]
    }
   ],
   "source": [
    "#Handle Imports\n",
    "import cv2\n",
    "import numpy as np\n",
    "import math\n",
    "import os\n",
    "import pylab as pl\n",
    "import matplotlib.pyplot as plt\n",
    "import random\n",
    "\n",
    "from keras.models import model_from_json\n",
    "\n",
    "from __future__ import print_function\n",
    "from __future__ import division\n",
    "np.random.seed(1337)  # for reproducibility\n",
    "\n",
    "%matplotlib inline"
   ]
  },
  {
   "cell_type": "code",
   "execution_count": 2,
   "metadata": {
    "collapsed": true
   },
   "outputs": [],
   "source": [
    "windowsize = 32\n",
    "batch_size = 128\n",
    "epochs = 5\n",
    "target_size = (32, 32)\n",
    "model_path = 'models/'\n",
    "model_name = 'model'\n",
    "full_image_path = 'data/validation/full_images/'\n",
    "detection_image_path = 'data/validation/full_images_detected'\n",
    "detected_particles_path = \"data/validation/detected_particles\"\n",
    "segmented_particles_path = \"data/validation/segmented_particles\""
   ]
  },
  {
   "cell_type": "code",
   "execution_count": null,
   "metadata": {
    "collapsed": true
   },
   "outputs": [],
   "source": [
    "pyramid = [(.5, 3), (1, 3), (1.25, 3), (1.5, 3), (1.7, 3)]"
   ]
  },
  {
   "cell_type": "code",
   "execution_count": null,
   "metadata": {},
   "outputs": [
    {
     "name": "stdout",
     "output_type": "stream",
     "text": [
      "Loaded model from disk\n"
     ]
    }
   ],
   "source": [
    "# load json and create model\n",
    "json_file = open(os.path.join(model_path, model_name + \".json\"), 'r')\n",
    "loaded_model_json = json_file.read()\n",
    "json_file.close()\n",
    "model = model_from_json(loaded_model_json)\n",
    "# load weights into new model\n",
    "model.load_weights(os.path.join(model_path, model_name + \".h5\"))\n",
    "print(\"Loaded model from disk\")"
   ]
  },
  {
   "cell_type": "code",
   "execution_count": null,
   "metadata": {
    "scrolled": true
   },
   "outputs": [],
   "source": [
    "if not os.path.isdir(detected_particles_path):\n",
    "    os.makedirs(detected_particles_path)\n",
    "\n",
    "detections = []\n",
    "\n",
    "for f_name in os.listdir(full_image_path):\n",
    "    original = cv2.imread(os.path.join(full_image_path, f_name), 0) / 255\n",
    "    \n",
    "    for scale, stride in pyramid:\n",
    "    \n",
    "        img = cv2.resize(original, (int(original.shape[1] * scale), int(original.shape[0] * scale)))\n",
    "\n",
    "        if not os.path.isdir(detected_particles_path):\n",
    "            os.makedirs(detected_particles_path)\n",
    "\n",
    "        height = windowsize\n",
    "        width = windowsize\n",
    "\n",
    "        coords = []\n",
    "\n",
    "        for x in xrange(0, img.shape[1] - width, stride):\n",
    "            for y in xrange(0, img.shape[0] - height, stride):\n",
    "                coords.append([x, y, x + width, y + height])\n",
    "\n",
    "        coords = np.stack(coords)\n",
    "\n",
    "        imgs = []\n",
    "\n",
    "        for coord in coords:\n",
    "            x_start = coord[0]\n",
    "            y_start = coord[1]\n",
    "            x_end = coord[2]\n",
    "            y_end = coord[3]\n",
    "            imgs.append(img[y_start:y_end, x_start:x_end, ...])\n",
    "\n",
    "        imgs = np.stack(imgs)\n",
    "\n",
    "        imgs = np.expand_dims(imgs, -1)\n",
    "\n",
    "        preds = model.predict(imgs, verbose=1)\n",
    "        p_coords = coords[np.isin(preds[:, 1], 1)]\n",
    "\n",
    "        pick = non_max_suppression_fast(p_coords, 0.4)\n",
    "        post_suppress = np.copy(original)\n",
    "        for coord in pick:\n",
    "            x_start = coord[0]\n",
    "            y_start = coord[1]\n",
    "            x_end = coord[2]\n",
    "            y_end = coord[3]\n",
    "             \n",
    "            detections.append((coord, img[y_start:y_end, x_start:x_end, ...] * 255))\n",
    "            \n",
    "#             cv2.imwrite(os.path.join(detected_particles_path, '{}_{}_{}_{}_{}.jpg'.format(f_name, x_start, y_start, x_end, y_end)), img[y_start:y_end, x_start:x_end, ...] * 255)\n",
    "#             cv2.rectangle(post_suppress, (int(x_start // scale), int(y_start // scale)), (int(x_end // scale), int(y_end // scale)), (0, 255, 0), 2)\n",
    "\n",
    "    if not os.path.exists(detection_image_path):\n",
    "        os.mkdir(detection_image_path)\n",
    "        \n",
    "    cv2.imwrite(os.path.join(detection_image_path, f_name), post_suppress * 255)"
   ]
  },
  {
   "cell_type": "code",
   "execution_count": 20,
   "metadata": {
    "collapsed": true
   },
   "outputs": [],
   "source": [
    "## Imports"
   ]
  },
  {
   "cell_type": "code",
   "execution_count": 22,
   "metadata": {},
   "outputs": [
    {
     "name": "stdout",
     "output_type": "stream",
     "text": [
      "/home/collin/anaconda2/bin:/home/collin/anaconda2/bin:~/bin:~/anaconda/bin:~/anaconda/bin:/home/collin/bin:/usr/local/sbin:/usr/local/bin:/usr/sbin:/usr/bin:/sbin:/bin:/usr/games:/usr/local/games:/snap/bin:/home/collin/anaconda2/lib/python2.7/site-packages/cv2\n"
     ]
    }
   ],
   "source": [
    "import os\n",
    "print(os.environ['PATH'])  # make sure the path is in the Particle-Detector directory\n",
    "\n",
    "from scipy import ndimage as ndi\n",
    "\n",
    "import matplotlib.pyplot as plt\n",
    "from matplotlib.spines import Spine\n",
    "from matplotlib.path import Path\n",
    "\n",
    "from skimage.morphology import watershed, disk\n",
    "from skimage.filters import rank\n",
    "from skimage.util import img_as_ubyte\n",
    "\n",
    "import numpy as np\n",
    "\n",
    "import cv2\n",
    "\n"
   ]
  },
  {
   "cell_type": "markdown",
   "metadata": {},
   "source": [
    "### Outline the particles"
   ]
  },
  {
   "cell_type": "code",
   "execution_count": 23,
   "metadata": {
    "collapsed": true
   },
   "outputs": [],
   "source": [
    "Base_address = \"\"# \"/home/seyed/Documents/COMP 496ML/\""
   ]
  },
  {
   "cell_type": "markdown",
   "metadata": {},
   "source": [
    "### getting the right folders"
   ]
  },
  {
   "cell_type": "markdown",
   "metadata": {},
   "source": [
    "### Read images to be processed from the Observed file"
   ]
  },
  {
   "cell_type": "code",
   "execution_count": 24,
   "metadata": {},
   "outputs": [],
   "source": [
    "particles = []\n",
    "names = []\n",
    "\n",
    "#load Positives\n",
    "for f_name in os.listdir(detected_particles_path):\n",
    "    particle = cv2.imread(os.path.join(detected_particles_path, f_name), 0)\n",
    "    particles.append(particle)\n",
    "    names.append(f_name)\n",
    "    \n",
    "particles = np.stack(particles)"
   ]
  },
  {
   "cell_type": "markdown",
   "metadata": {},
   "source": [
    "### Modify files in Observed to a Threshhold using the Otsu algorithm"
   ]
  },
  {
   "cell_type": "code",
   "execution_count": 25,
   "metadata": {},
   "outputs": [
    {
     "name": "stdout",
     "output_type": "stream",
     "text": [
      "[[255 255 255 ..., 255 255 255]\n",
      " [255 255 255 ..., 255 255 255]\n",
      " [255 255 255 ..., 255 255 255]\n",
      " ..., \n",
      " [255 255 255 ..., 255 255 255]\n",
      " [255 255 255 ..., 255 255 255]\n",
      " [255 255 255 ..., 255 255 255]]\n",
      "[[255 255   0 ...,   0   0   0]\n",
      " [255 255   0 ...,   0   0   0]\n",
      " [255 255   0 ...,   0   0   0]\n",
      " ..., \n",
      " [255 255 255 ..., 255 255 255]\n",
      " [255 255 255 ..., 255 255 255]\n",
      " [255 255 255 ..., 255 255 255]]\n",
      "[[255 255 255 ..., 255 255 255]\n",
      " [255 255 255 ..., 255 255 255]\n",
      " [255 255 255 ..., 255 255 255]\n",
      " ..., \n",
      " [255 255 255 ..., 255 255 255]\n",
      " [255 255 255 ..., 255 255 255]\n",
      " [255 255 255 ..., 255 255 255]]\n",
      "[[  0   0   0 ..., 255 255 255]\n",
      " [  0   0   0 ..., 255 255 255]\n",
      " [  0   0   0 ..., 255 255 255]\n",
      " ..., \n",
      " [255 255 255 ..., 255 255 255]\n",
      " [255 255 255 ..., 255 255 255]\n",
      " [255 255 255 ..., 255 255 255]]\n",
      "[[255 255 255 ..., 255 255 255]\n",
      " [255 255 255 ..., 255 255 255]\n",
      " [255 255 255 ..., 255 255 255]\n",
      " ..., \n",
      " [255 255 255 ..., 255 255 255]\n",
      " [255 255 255 ..., 255 255 255]\n",
      " [255 255 255 ..., 255 255 255]]\n",
      "[[255 255 255 ...,   0   0   0]\n",
      " [255 255 255 ...,   0   0   0]\n",
      " [255 255 255 ...,   0   0   0]\n",
      " ..., \n",
      " [255 255 255 ..., 255 255 255]\n",
      " [255 255 255 ..., 255 255 255]\n",
      " [255 255 255 ..., 255 255 255]]\n",
      "[[  0   0   0 ...,   0   0   0]\n",
      " [  0   0   0 ...,   0   0   0]\n",
      " [  0   0   0 ...,   0   0   0]\n",
      " ..., \n",
      " [255 255 255 ..., 255 255 255]\n",
      " [255 255 255 ..., 255 255 255]\n",
      " [255 255 255 ..., 255 255 255]]\n",
      "[[255 255 255 ..., 255 255 255]\n",
      " [255 255 255 ..., 255 255 255]\n",
      " [255 255 255 ..., 255 255 255]\n",
      " ..., \n",
      " [255 255 255 ..., 255 255 255]\n",
      " [255 255 255 ..., 255 255 255]\n",
      " [255 255 255 ..., 255 255 255]]\n",
      "[[255 255 255 ...,   0   0 255]\n",
      " [255 255 255 ...,   0   0 255]\n",
      " [255 255 255 ...,   0   0   0]\n",
      " ..., \n",
      " [255 255 255 ..., 255 255 255]\n",
      " [255 255 255 ..., 255 255 255]\n",
      " [255 255 255 ..., 255 255 255]]\n",
      "[[255 255 255 ..., 255 255 255]\n",
      " [255 255 255 ..., 255 255 255]\n",
      " [255 255 255 ..., 255 255 255]\n",
      " ..., \n",
      " [255 255 255 ..., 255 255 255]\n",
      " [255 255 255 ..., 255 255 255]\n",
      " [255 255 255 ..., 255 255 255]]\n",
      "[[255 255 255 ..., 255 255 255]\n",
      " [255 255 255 ..., 255 255 255]\n",
      " [255 255 255 ..., 255 255 255]\n",
      " ..., \n",
      " [255 255 255 ..., 255 255 255]\n",
      " [255 255 255 ..., 255 255 255]\n",
      " [255 255 255 ..., 255 255 255]]\n",
      "[[255 255 255 ...,   0   0   0]\n",
      " [255 255 255 ...,   0   0   0]\n",
      " [255 255 255 ...,   0   0   0]\n",
      " ..., \n",
      " [255 255 255 ..., 255 255 255]\n",
      " [255 255 255 ..., 255 255 255]\n",
      " [255 255 255 ..., 255 255 255]]\n",
      "[[255 255 255 ..., 255 255 255]\n",
      " [255 255 255 ..., 255 255 255]\n",
      " [255 255 255 ..., 255 255 255]\n",
      " ..., \n",
      " [255 255 255 ..., 255 255 255]\n",
      " [255 255 255 ..., 255 255 255]\n",
      " [255 255 255 ..., 255 255 255]]\n",
      "[[255 255 255 ..., 255 255 255]\n",
      " [255 255 255 ..., 255 255 255]\n",
      " [255 255 255 ..., 255 255 255]\n",
      " ..., \n",
      " [255 255 255 ..., 255 255 255]\n",
      " [255 255 255 ..., 255 255 255]\n",
      " [255 255 255 ..., 255 255 255]]\n",
      "[[255 255 255 ..., 255 255 255]\n",
      " [255 255 255 ..., 255 255 255]\n",
      " [255 255 255 ..., 255 255 255]\n",
      " ..., \n",
      " [255 255 255 ..., 255 255 255]\n",
      " [255 255 255 ..., 255 255 255]\n",
      " [255 255 255 ..., 255 255 255]]\n",
      "[[255 255 255 ..., 255 255 255]\n",
      " [255 255 255 ..., 255 255 255]\n",
      " [255 255 255 ..., 255 255 255]\n",
      " ..., \n",
      " [255 255 255 ..., 255 255 255]\n",
      " [255 255 255 ..., 255 255 255]\n",
      " [255 255 255 ..., 255 255 255]]\n",
      "[[255 255 255 ..., 255 255 255]\n",
      " [255 255 255 ..., 255 255 255]\n",
      " [255 255 255 ..., 255 255 255]\n",
      " ..., \n",
      " [255 255 255 ..., 255 255 255]\n",
      " [255 255 255 ..., 255 255 255]\n",
      " [255 255 255 ..., 255 255 255]]\n",
      "[[  0   0   0 ...,   0   0   0]\n",
      " [  0   0   0 ...,   0   0   0]\n",
      " [  0   0   0 ...,   0   0   0]\n",
      " ..., \n",
      " [255 255 255 ..., 255 255 255]\n",
      " [255 255 255 ..., 255 255 255]\n",
      " [255 255 255 ..., 255 255 255]]\n",
      "[[255 255 255 ..., 255 255 255]\n",
      " [255 255 255 ..., 255 255 255]\n",
      " [255 255 255 ..., 255 255 255]\n",
      " ..., \n",
      " [255 255 255 ..., 255 255 255]\n",
      " [255 255 255 ..., 255 255 255]\n",
      " [255 255 255 ..., 255 255 255]]\n",
      "[[255   0   0 ..., 255 255 255]\n",
      " [255   0   0 ..., 255 255 255]\n",
      " [  0   0   0 ..., 255 255 255]\n",
      " ..., \n",
      " [255 255 255 ..., 255 255 255]\n",
      " [255 255 255 ..., 255 255 255]\n",
      " [255 255 255 ..., 255 255 255]]\n",
      "[[255 255 255 ..., 255 255   0]\n",
      " [255 255 255 ..., 255 255   0]\n",
      " [255 255 255 ..., 255   0   0]\n",
      " ..., \n",
      " [255 255 255 ..., 255 255 255]\n",
      " [255 255 255 ..., 255 255 255]\n",
      " [255 255 255 ..., 255 255 255]]\n",
      "[[255 255 255 ..., 255 255 255]\n",
      " [255 255 255 ..., 255 255 255]\n",
      " [255 255 255 ...,   0 255 255]\n",
      " ..., \n",
      " [255 255 255 ..., 255 255 255]\n",
      " [255 255 255 ..., 255 255 255]\n",
      " [255 255 255 ..., 255 255 255]]\n",
      "[[  0   0   0 ...,   0   0   0]\n",
      " [  0   0   0 ...,   0   0   0]\n",
      " [  0   0   0 ...,   0   0   0]\n",
      " ..., \n",
      " [255 255 255 ..., 255 255 255]\n",
      " [255 255 255 ..., 255 255 255]\n",
      " [255 255 255 ..., 255 255 255]]\n",
      "[[  0   0   0 ..., 255 255 255]\n",
      " [  0   0   0 ..., 255 255 255]\n",
      " [  0   0   0 ..., 255 255 255]\n",
      " ..., \n",
      " [255 255 255 ..., 255 255 255]\n",
      " [255 255 255 ..., 255 255 255]\n",
      " [255 255 255 ..., 255 255 255]]\n",
      "[[  0   0   0 ...,   0   0   0]\n",
      " [  0   0   0 ...,   0   0   0]\n",
      " [  0   0   0 ...,   0   0   0]\n",
      " ..., \n",
      " [255 255 255 ..., 255 255 255]\n",
      " [255 255 255 ..., 255 255 255]\n",
      " [255 255 255 ..., 255 255 255]]\n",
      "[[255 255 255 ..., 255 255 255]\n",
      " [255 255 255 ...,   0 255 255]\n",
      " [255 255 255 ...,   0   0 255]\n",
      " ..., \n",
      " [255 255 255 ..., 255 255 255]\n",
      " [255 255 255 ..., 255 255 255]\n",
      " [255 255 255 ..., 255 255 255]]\n",
      "[[255 255 255 ...,   0   0   0]\n",
      " [255 255 255 ...,   0   0   0]\n",
      " [255 255 255 ...,   0   0   0]\n",
      " ..., \n",
      " [255 255 255 ..., 255 255 255]\n",
      " [255 255 255 ..., 255 255 255]\n",
      " [255 255 255 ..., 255 255 255]]\n",
      "[[255 255 255 ..., 255 255 255]\n",
      " [255 255 255 ..., 255 255 255]\n",
      " [255 255 255 ..., 255 255 255]\n",
      " ..., \n",
      " [255 255 255 ..., 255 255 255]\n",
      " [255 255 255 ..., 255 255 255]\n",
      " [255 255 255 ..., 255 255 255]]\n",
      "[[255 255 255 ..., 255 255 255]\n",
      " [255 255 255 ..., 255 255 255]\n",
      " [255 255 255 ..., 255 255 255]\n",
      " ..., \n",
      " [255 255 255 ..., 255 255 255]\n",
      " [255 255 255 ..., 255 255 255]\n",
      " [255 255 255 ..., 255 255 255]]\n",
      "[[255 255 255 ..., 255 255 255]\n",
      " [255 255 255 ..., 255 255 255]\n",
      " [255 255 255 ..., 255 255 255]\n",
      " ..., \n",
      " [255 255 255 ..., 255 255 255]\n",
      " [255 255 255 ..., 255 255 255]\n",
      " [255 255 255 ..., 255 255 255]]\n",
      "[[255 255 255 ..., 255 255 255]\n",
      " [255 255 255 ..., 255 255 255]\n",
      " [255 255 255 ...,   0 255 255]\n",
      " ..., \n",
      " [255 255 255 ..., 255 255 255]\n",
      " [255 255 255 ..., 255 255 255]\n",
      " [255 255 255 ..., 255 255 255]]\n",
      "[[255 255 255 ..., 255 255 255]\n",
      " [255 255 255 ..., 255 255 255]\n",
      " [255 255 255 ...,   0 255 255]\n",
      " ..., \n",
      " [255 255 255 ..., 255 255 255]\n",
      " [255 255 255 ..., 255 255 255]\n",
      " [255 255 255 ..., 255 255 255]]\n",
      "[[255 255 255 ..., 255 255 255]\n",
      " [255 255 255 ..., 255 255 255]\n",
      " [255 255 255 ..., 255 255 255]\n",
      " ..., \n",
      " [255 255 255 ..., 255 255 255]\n",
      " [255 255 255 ..., 255 255 255]\n",
      " [255 255 255 ..., 255 255 255]]\n"
     ]
    }
   ],
   "source": [
    "gradient_data = []\n",
    "np.set_printoptions(threshold=5)\n",
    "\n",
    "for d in particles:\n",
    "    \n",
    "    img = np.array(d)\n",
    "    #blur = cv2.bilateralFilter(img,9,75,75)\n",
    "    blur = cv2.GaussianBlur(img,(5,5),0)\n",
    "    #blur = cv2.blur(img, (5,5))\n",
    "    ret, thres = cv2.threshold(blur,0,255, cv2.THRESH_BINARY+cv2.THRESH_OTSU)\n",
    "    \n",
    "    print(thres)\n",
    "    \n",
    "    gradient_data.append(thres)"
   ]
  },
  {
   "cell_type": "markdown",
   "metadata": {},
   "source": [
    "### Chanvese processing"
   ]
  },
  {
   "cell_type": "code",
   "execution_count": 26,
   "metadata": {
    "collapsed": true
   },
   "outputs": [],
   "source": [
    "def showim(imgpassed):\n",
    "    \n",
    "    cv2.imshow('image', imgpassed)\n",
    "    k = cv2.waitKey(0)\n",
    "    if k == 27:         # wait for ESC key to exit\n",
    "        cv2.destroyAllWindows()\n",
    "    elif k == ord('s'): # wait for 's' key to save and exit\n",
    "        cv2.imwrite('particle',img)\n",
    "        cv2.destroyAllWindows()\n",
    "    "
   ]
  },
  {
   "cell_type": "code",
   "execution_count": 27,
   "metadata": {
    "scrolled": true
   },
   "outputs": [
    {
     "name": "stdout",
     "output_type": "stream",
     "text": [
      "iteration: 0\n",
      "iteration: 50\n",
      "iteration: 100\n",
      "iteration: 150\n"
     ]
    },
    {
     "name": "stderr",
     "output_type": "stream",
     "text": [
      "/home/collin/anaconda2/lib/python2.7/site-packages/ipykernel_launcher.py:267: DeprecationWarning: numpy boolean subtract, the `-` operator, is deprecated, use the bitwise_xor, the `^` operator, or the logical_xor function instead.\n"
     ]
    },
    {
     "name": "stdout",
     "output_type": "stream",
     "text": [
      "iteration: 200\n",
      "iteration: 250\n",
      "iteration: 300\n",
      "iteration: 350\n",
      "iteration: 400\n",
      "iteration: 450\n",
      "iteration: 500\n",
      "iteration: 550\n",
      "iteration: 600\n",
      "iteration: 650\n",
      "iteration: 700\n",
      "iteration: 750\n",
      "iteration: 800\n",
      "iteration: 850\n",
      "iteration: 900\n",
      "iteration: 950\n",
      "saving file\n",
      "iteration: 0\n",
      "iteration: 50\n",
      "iteration: 100\n",
      "iteration: 150\n",
      "iteration: 200\n",
      "iteration: 250\n",
      "iteration: 300\n",
      "iteration: 350\n",
      "iteration: 400\n",
      "iteration: 450\n",
      "iteration: 500\n",
      "iteration: 550\n",
      "iteration: 600\n",
      "iteration: 650\n",
      "iteration: 700\n",
      "iteration: 750\n",
      "iteration: 800\n",
      "iteration: 850\n",
      "iteration: 900\n",
      "iteration: 950\n",
      "saving file\n",
      "iteration: 0\n",
      "iteration: 50\n",
      "iteration: 100\n",
      "iteration: 150\n",
      "iteration: 200\n",
      "iteration: 250\n",
      "iteration: 300\n",
      "iteration: 350\n",
      "iteration: 400\n",
      "iteration: 450\n",
      "iteration: 500\n",
      "iteration: 550\n",
      "iteration: 600\n",
      "iteration: 650\n",
      "iteration: 700\n",
      "iteration: 750\n",
      "iteration: 800\n",
      "iteration: 850\n",
      "iteration: 900\n",
      "iteration: 950\n",
      "saving file\n",
      "iteration: 0\n",
      "iteration: 50\n",
      "iteration: 100\n",
      "iteration: 150\n",
      "iteration: 200\n",
      "iteration: 250\n",
      "iteration: 300\n",
      "iteration: 350\n",
      "iteration: 400\n",
      "iteration: 450\n",
      "iteration: 500\n",
      "iteration: 550\n",
      "iteration: 600\n",
      "iteration: 650\n",
      "iteration: 700\n",
      "iteration: 750\n",
      "iteration: 800\n",
      "iteration: 850\n",
      "iteration: 900\n",
      "iteration: 950\n",
      "saving file\n",
      "iteration: 0\n",
      "iteration: 50\n",
      "iteration: 100\n",
      "iteration: 150\n",
      "iteration: 200\n",
      "iteration: 250\n",
      "iteration: 300\n",
      "iteration: 350\n",
      "iteration: 400\n",
      "iteration: 450\n",
      "iteration: 500\n",
      "iteration: 550\n",
      "iteration: 600\n",
      "iteration: 650\n",
      "iteration: 700\n",
      "iteration: 750\n",
      "iteration: 800\n",
      "iteration: 850\n",
      "iteration: 900\n",
      "iteration: 950\n",
      "saving file\n",
      "iteration: 0\n",
      "iteration: 50\n",
      "iteration: 100\n",
      "iteration: 150\n",
      "iteration: 200\n",
      "iteration: 250\n",
      "iteration: 300\n",
      "iteration: 350\n",
      "iteration: 400\n",
      "iteration: 450\n",
      "iteration: 500\n",
      "iteration: 550\n",
      "iteration: 600\n",
      "iteration: 650\n",
      "iteration: 700\n",
      "iteration: 750\n",
      "iteration: 800\n",
      "iteration: 850\n",
      "iteration: 900\n",
      "iteration: 950\n",
      "saving file\n",
      "iteration: 0\n",
      "iteration: 50\n",
      "iteration: 100\n",
      "iteration: 150\n",
      "iteration: 200\n",
      "iteration: 250\n",
      "iteration: 300\n",
      "iteration: 350\n",
      "iteration: 400\n",
      "iteration: 450\n",
      "iteration: 500\n",
      "iteration: 550\n",
      "iteration: 600\n",
      "iteration: 650\n",
      "iteration: 700\n",
      "iteration: 750\n",
      "iteration: 800\n",
      "iteration: 850\n",
      "iteration: 900\n",
      "iteration: 950\n",
      "saving file\n",
      "iteration: 0\n",
      "iteration: 50\n",
      "iteration: 100\n",
      "iteration: 150\n",
      "iteration: 200\n",
      "iteration: 250\n",
      "iteration: 300\n",
      "iteration: 350\n",
      "iteration: 400\n",
      "iteration: 450\n",
      "iteration: 500\n",
      "iteration: 550\n",
      "iteration: 600\n",
      "iteration: 650\n",
      "iteration: 700\n",
      "iteration: 750\n",
      "iteration: 800\n",
      "iteration: 850\n",
      "iteration: 900\n",
      "iteration: 950\n",
      "saving file\n",
      "iteration: 0\n",
      "iteration: 50\n",
      "iteration: 100\n",
      "iteration: 150\n",
      "iteration: 200\n",
      "iteration: 250\n",
      "iteration: 300\n",
      "iteration: 350\n",
      "iteration: 400\n",
      "iteration: 450\n",
      "iteration: 500\n",
      "iteration: 550\n",
      "iteration: 600\n",
      "iteration: 650\n",
      "iteration: 700\n",
      "iteration: 750\n",
      "iteration: 800\n",
      "iteration: 850\n",
      "iteration: 900\n",
      "iteration: 950\n",
      "saving file\n",
      "iteration: 0\n",
      "iteration: 50\n",
      "iteration: 100\n",
      "iteration: 150\n",
      "iteration: 200\n",
      "iteration: 250\n",
      "iteration: 300\n",
      "iteration: 350\n",
      "iteration: 400\n",
      "iteration: 450\n",
      "iteration: 500\n",
      "iteration: 550\n",
      "iteration: 600\n",
      "iteration: 650\n",
      "iteration: 700\n",
      "iteration: 750\n",
      "iteration: 800\n",
      "iteration: 850\n",
      "iteration: 900\n",
      "iteration: 950\n",
      "saving file\n",
      "iteration: 0\n",
      "iteration: 50\n",
      "iteration: 100\n",
      "iteration: 150\n",
      "iteration: 200\n",
      "iteration: 250\n",
      "iteration: 300\n",
      "iteration: 350\n",
      "iteration: 400\n",
      "iteration: 450\n",
      "iteration: 500\n",
      "iteration: 550\n",
      "iteration: 600\n",
      "iteration: 650\n",
      "iteration: 700\n",
      "iteration: 750\n",
      "iteration: 800\n",
      "iteration: 850\n",
      "iteration: 900\n",
      "iteration: 950\n",
      "saving file\n",
      "iteration: 0\n",
      "iteration: 50\n",
      "iteration: 100\n",
      "iteration: 150\n",
      "iteration: 200\n",
      "iteration: 250\n",
      "iteration: 300\n",
      "iteration: 350\n",
      "iteration: 400\n",
      "iteration: 450\n",
      "iteration: 500\n",
      "iteration: 550\n",
      "iteration: 600\n",
      "iteration: 650\n",
      "iteration: 700\n",
      "iteration: 750\n",
      "iteration: 800\n",
      "iteration: 850\n",
      "iteration: 900\n",
      "iteration: 950\n",
      "saving file\n",
      "iteration: 0\n",
      "iteration: 50\n",
      "iteration: 100\n",
      "iteration: 150\n",
      "iteration: 200\n",
      "iteration: 250\n",
      "iteration: 300\n",
      "iteration: 350\n",
      "iteration: 400\n",
      "iteration: 450\n",
      "iteration: 500\n",
      "iteration: 550\n",
      "iteration: 600\n",
      "iteration: 650\n",
      "iteration: 700\n",
      "iteration: 750\n",
      "iteration: 800\n",
      "iteration: 850\n",
      "iteration: 900\n",
      "iteration: 950\n",
      "saving file\n",
      "iteration: 0\n",
      "iteration: 50\n",
      "iteration: 100\n",
      "iteration: 150\n",
      "iteration: 200\n",
      "iteration: 250\n",
      "iteration: 300\n",
      "iteration: 350\n",
      "iteration: 400\n",
      "iteration: 450\n",
      "iteration: 500\n",
      "iteration: 550\n",
      "iteration: 600\n",
      "iteration: 650\n",
      "iteration: 700\n",
      "iteration: 750\n",
      "iteration: 800\n",
      "iteration: 850\n",
      "iteration: 900\n",
      "iteration: 950\n",
      "saving file\n",
      "iteration: 0\n",
      "iteration: 50\n",
      "iteration: 100\n",
      "iteration: 150\n",
      "iteration: 200\n",
      "iteration: 250\n",
      "iteration: 300\n",
      "iteration: 350\n",
      "iteration: 400\n",
      "iteration: 450\n",
      "iteration: 500\n",
      "iteration: 550\n",
      "iteration: 600\n",
      "iteration: 650\n",
      "iteration: 700\n",
      "iteration: 750\n",
      "iteration: 800\n",
      "iteration: 850\n",
      "iteration: 900\n",
      "iteration: 950\n",
      "saving file\n",
      "iteration: 0\n",
      "iteration: 50\n",
      "iteration: 100\n",
      "iteration: 150\n",
      "iteration: 200\n",
      "iteration: 250\n",
      "iteration: 300\n",
      "iteration: 350\n",
      "iteration: 400\n",
      "iteration: 450\n",
      "iteration: 500\n",
      "iteration: 550\n",
      "iteration: 600\n",
      "iteration: 650\n",
      "iteration: 700\n",
      "iteration: 750\n",
      "iteration: 800\n",
      "iteration: 850\n",
      "iteration: 900\n",
      "iteration: 950\n",
      "saving file\n",
      "iteration: 0\n",
      "iteration: 50\n",
      "iteration: 100\n",
      "iteration: 150\n",
      "iteration: 200\n",
      "iteration: 250\n",
      "iteration: 300\n",
      "iteration: 350\n",
      "iteration: 400\n",
      "iteration: 450\n",
      "iteration: 500\n",
      "iteration: 550\n",
      "iteration: 600\n",
      "iteration: 650\n",
      "iteration: 700\n",
      "iteration: 750\n",
      "iteration: 800\n",
      "iteration: 850\n",
      "iteration: 900\n",
      "iteration: 950\n",
      "saving file\n",
      "iteration: 0\n",
      "iteration: 50\n",
      "iteration: 100\n",
      "iteration: 150\n",
      "iteration: 200\n",
      "iteration: 250\n",
      "iteration: 300\n",
      "iteration: 350\n",
      "iteration: 400\n",
      "iteration: 450\n",
      "iteration: 500\n",
      "iteration: 550\n",
      "iteration: 600\n",
      "iteration: 650\n",
      "iteration: 700\n",
      "iteration: 750\n",
      "iteration: 800\n",
      "iteration: 850\n",
      "iteration: 900\n",
      "iteration: 950\n",
      "saving file\n",
      "iteration: 0\n",
      "iteration: 50\n",
      "iteration: 100\n",
      "iteration: 150\n",
      "iteration: 200\n",
      "iteration: 250\n",
      "iteration: 300\n",
      "iteration: 350\n",
      "iteration: 400\n",
      "iteration: 450\n",
      "iteration: 500\n",
      "iteration: 550\n",
      "iteration: 600\n",
      "iteration: 650\n",
      "iteration: 700\n",
      "iteration: 750\n",
      "iteration: 800\n",
      "iteration: 850\n",
      "iteration: 900\n",
      "iteration: 950\n",
      "saving file\n",
      "iteration: 0\n",
      "iteration: 50\n",
      "iteration: 100\n",
      "iteration: 150\n",
      "iteration: 200\n",
      "iteration: 250\n",
      "iteration: 300\n",
      "iteration: 350\n",
      "iteration: 400\n",
      "iteration: 450\n",
      "iteration: 500\n",
      "iteration: 550\n",
      "iteration: 600\n",
      "iteration: 650\n",
      "iteration: 700\n",
      "iteration: 750\n",
      "iteration: 800\n",
      "iteration: 850\n",
      "iteration: 900\n",
      "iteration: 950\n",
      "saving file\n",
      "iteration: 0\n"
     ]
    },
    {
     "name": "stderr",
     "output_type": "stream",
     "text": [
      "/home/collin/anaconda2/lib/python2.7/site-packages/matplotlib/pyplot.py:524: RuntimeWarning: More than 20 figures have been opened. Figures created through the pyplot interface (`matplotlib.pyplot.figure`) are retained until explicitly closed and may consume too much memory. (To control this warning, see the rcParam `figure.max_open_warning`).\n",
      "  max_open_warning, RuntimeWarning)\n"
     ]
    },
    {
     "name": "stdout",
     "output_type": "stream",
     "text": [
      "iteration: 50\n",
      "iteration: 100\n",
      "iteration: 150\n",
      "iteration: 200\n",
      "iteration: 250\n",
      "iteration: 300\n",
      "iteration: 350\n",
      "iteration: 400\n",
      "iteration: 450\n",
      "iteration: 500\n",
      "iteration: 550\n",
      "iteration: 600\n",
      "iteration: 650\n",
      "iteration: 700\n",
      "iteration: 750\n",
      "iteration: 800\n",
      "iteration: 850\n",
      "iteration: 900\n",
      "iteration: 950\n",
      "saving file\n",
      "iteration: 0\n",
      "iteration: 50\n",
      "iteration: 100\n",
      "iteration: 150\n",
      "iteration: 200\n",
      "iteration: 250\n",
      "iteration: 300\n",
      "iteration: 350\n",
      "iteration: 400\n",
      "iteration: 450\n",
      "iteration: 500\n",
      "iteration: 550\n",
      "iteration: 600\n",
      "iteration: 650\n",
      "iteration: 700\n",
      "iteration: 750\n",
      "iteration: 800\n",
      "iteration: 850\n",
      "iteration: 900\n",
      "iteration: 950\n",
      "saving file\n",
      "iteration: 0\n",
      "iteration: 50\n",
      "iteration: 100\n",
      "iteration: 150\n",
      "iteration: 200\n",
      "iteration: 250\n",
      "iteration: 300\n",
      "iteration: 350\n",
      "iteration: 400\n",
      "iteration: 450\n",
      "iteration: 500\n",
      "iteration: 550\n",
      "iteration: 600\n",
      "iteration: 650\n",
      "iteration: 700\n",
      "iteration: 750\n",
      "iteration: 800\n",
      "iteration: 850\n",
      "iteration: 900\n",
      "iteration: 950\n",
      "saving file\n",
      "iteration: 0\n",
      "iteration: 50\n",
      "iteration: 100\n",
      "iteration: 150\n",
      "iteration: 200\n",
      "iteration: 250\n",
      "iteration: 300\n",
      "iteration: 350\n",
      "iteration: 400\n",
      "iteration: 450\n",
      "iteration: 500\n",
      "iteration: 550\n",
      "iteration: 600\n",
      "iteration: 650\n",
      "iteration: 700\n",
      "iteration: 750\n",
      "iteration: 800\n",
      "iteration: 850\n",
      "iteration: 900\n",
      "iteration: 950\n",
      "saving file\n",
      "iteration: 0\n",
      "iteration: 50\n",
      "iteration: 100\n",
      "iteration: 150\n",
      "iteration: 200\n",
      "iteration: 250\n",
      "iteration: 300\n",
      "iteration: 350\n",
      "iteration: 400\n",
      "iteration: 450\n",
      "iteration: 500\n",
      "iteration: 550\n",
      "iteration: 600\n",
      "iteration: 650\n",
      "iteration: 700\n",
      "iteration: 750\n",
      "iteration: 800\n",
      "iteration: 850\n",
      "iteration: 900\n",
      "iteration: 950\n",
      "saving file\n",
      "iteration: 0\n",
      "iteration: 50\n",
      "iteration: 100\n",
      "iteration: 150\n",
      "iteration: 200\n",
      "iteration: 250\n",
      "iteration: 300\n",
      "iteration: 350\n",
      "iteration: 400\n",
      "iteration: 450\n",
      "iteration: 500\n",
      "iteration: 550\n",
      "iteration: 600\n",
      "iteration: 650\n",
      "iteration: 700\n",
      "iteration: 750\n",
      "iteration: 800\n",
      "iteration: 850\n",
      "iteration: 900\n",
      "iteration: 950\n",
      "saving file\n",
      "iteration: 0\n",
      "iteration: 50\n",
      "iteration: 100\n",
      "iteration: 150\n",
      "iteration: 200\n",
      "iteration: 250\n",
      "iteration: 300\n",
      "iteration: 350\n",
      "iteration: 400\n",
      "iteration: 450\n",
      "iteration: 500\n",
      "iteration: 550\n",
      "iteration: 600\n",
      "iteration: 650\n",
      "iteration: 700\n",
      "iteration: 750\n",
      "iteration: 800\n",
      "iteration: 850\n",
      "iteration: 900\n",
      "iteration: 950\n",
      "saving file\n",
      "iteration: 0\n",
      "iteration: 50\n",
      "iteration: 100\n",
      "iteration: 150\n",
      "iteration: 200\n",
      "iteration: 250\n",
      "iteration: 300\n",
      "iteration: 350\n",
      "iteration: 400\n",
      "iteration: 450\n",
      "iteration: 500\n",
      "iteration: 550\n",
      "iteration: 600\n",
      "iteration: 650\n",
      "iteration: 700\n",
      "iteration: 750\n",
      "iteration: 800\n",
      "iteration: 850\n",
      "iteration: 900\n",
      "iteration: 950\n",
      "saving file\n",
      "iteration: 0\n",
      "iteration: 50\n",
      "iteration: 100\n",
      "iteration: 150\n",
      "iteration: 200\n",
      "iteration: 250\n",
      "iteration: 300\n",
      "iteration: 350\n",
      "iteration: 400\n",
      "iteration: 450\n",
      "iteration: 500\n",
      "iteration: 550\n",
      "iteration: 600\n",
      "iteration: 650\n",
      "iteration: 700\n",
      "iteration: 750\n",
      "iteration: 800\n",
      "iteration: 850\n",
      "iteration: 900\n",
      "iteration: 950\n",
      "saving file\n",
      "iteration: 0\n",
      "iteration: 50\n",
      "iteration: 100\n",
      "iteration: 150\n",
      "iteration: 200\n",
      "iteration: 250\n",
      "iteration: 300\n",
      "iteration: 350\n",
      "iteration: 400\n",
      "iteration: 450\n",
      "iteration: 500\n",
      "iteration: 550\n",
      "iteration: 600\n",
      "iteration: 650\n",
      "iteration: 700\n",
      "iteration: 750\n",
      "iteration: 800\n",
      "iteration: 850\n",
      "iteration: 900\n",
      "iteration: 950\n",
      "saving file\n",
      "iteration: 0\n",
      "iteration: 50\n",
      "iteration: 100\n",
      "iteration: 150\n",
      "iteration: 200\n",
      "iteration: 250\n",
      "iteration: 300\n",
      "iteration: 350\n",
      "iteration: 400\n",
      "iteration: 450\n",
      "iteration: 500\n",
      "iteration: 550\n",
      "iteration: 600\n",
      "iteration: 650\n",
      "iteration: 700\n",
      "iteration: 750\n",
      "iteration: 800\n",
      "iteration: 850\n",
      "iteration: 900\n",
      "iteration: 950\n",
      "saving file\n",
      "iteration: 0\n",
      "iteration: 50\n",
      "iteration: 100\n",
      "iteration: 150\n",
      "iteration: 200\n",
      "iteration: 250\n",
      "iteration: 300\n",
      "iteration: 350\n",
      "iteration: 400\n",
      "iteration: 450\n",
      "iteration: 500\n",
      "iteration: 550\n",
      "iteration: 600\n",
      "iteration: 650\n",
      "iteration: 700\n",
      "iteration: 750\n",
      "iteration: 800\n",
      "iteration: 850\n",
      "iteration: 900\n",
      "iteration: 950\n",
      "saving file\n",
      "iteration: 0\n",
      "iteration: 50\n",
      "iteration: 100\n",
      "iteration: 150\n",
      "iteration: 200\n",
      "iteration: 250\n",
      "iteration: 300\n",
      "iteration: 350\n",
      "iteration: 400\n",
      "iteration: 450\n",
      "iteration: 500\n",
      "iteration: 550\n",
      "iteration: 600\n",
      "iteration: 650\n",
      "iteration: 700\n",
      "iteration: 750\n",
      "iteration: 800\n",
      "iteration: 850\n",
      "iteration: 900\n",
      "iteration: 950\n",
      "saving file\n"
     ]
    },
    {
     "data": {
      "image/png": "[encoded data removed]",
      "text/plain": [
       "<matplotlib.figure.Figure at 0x7f7d4b4c7e50>"
      ]
     },
     "metadata": {},
     "output_type": "display_data"
    },
    {
     "data": {
      "image/png": "[encoded data removed]",
      "text/plain": [
       "<matplotlib.figure.Figure at 0x7f7ce8381190>"
      ]
     },
     "metadata": {},
     "output_type": "display_data"
    },
    {
     "data": {
      "image/png": "[encoded data removed]",
      "text/plain": [
       "<matplotlib.figure.Figure at 0x7f7d480cbf50>"
      ]
     },
     "metadata": {},
     "output_type": "display_data"
    },
    {
     "data": {
      "image/png": "[encoded data removed]",
      "text/plain": [
       "<matplotlib.figure.Figure at 0x7f7d302dd910>"
      ]
     },
     "metadata": {},
     "output_type": "display_data"
    },
    {
     "data": {
      "image/png": "[encoded data removed]",
      "text/plain": [
       "<matplotlib.figure.Figure at 0x7f7d30706990>"
      ]
     },
     "metadata": {},
     "output_type": "display_data"
    },
    {
     "data": {
      "image/png": "[encoded data removed]",
      "text/plain": [
       "<matplotlib.figure.Figure at 0x7f7d482fab10>"
      ]
     },
     "metadata": {},
     "output_type": "display_data"
    },
    {
     "data": {
      "image/png": "[encoded data removed]",
      "text/plain": [
       "<matplotlib.figure.Figure at 0x7f7d3060a250>"
      ]
     },
     "metadata": {},
     "output_type": "display_data"
    },
    {
     "data": {
      "image/png": "[encoded data removed]",
      "text/plain": [
       "<matplotlib.figure.Figure at 0x7f7d482fa110>"
      ]
     },
     "metadata": {},
     "output_type": "display_data"
    },
    {
     "data": {
      "image/png": "[encoded data removed]",
      "text/plain": [
       "<matplotlib.figure.Figure at 0x7f7d303417d0>"
      ]
     },
     "metadata": {},
     "output_type": "display_data"
    },
    {
     "data": {
      "image/png": "[encoded data removed]",
      "text/plain": [
       "<matplotlib.figure.Figure at 0x7f7d482fa0d0>"
      ]
     },
     "metadata": {},
     "output_type": "display_data"
    },
    {
     "data": {
      "image/png": "[encoded data removed]",
      "text/plain": [
       "<matplotlib.figure.Figure at 0x7f7d483cc190>"
      ]
     },
     "metadata": {},
     "output_type": "display_data"
    },
    {
     "data": {
      "image/png": "[encoded data removed]",
      "text/plain": [
       "<matplotlib.figure.Figure at 0x7f7d303a5550>"
      ]
     },
     "metadata": {},
     "output_type": "display_data"
    },
    {
     "data": {
      "image/png": "[encoded data removed]",
      "text/plain": [
       "<matplotlib.figure.Figure at 0x7f7d0911fc90>"
      ]
     },
     "metadata": {},
     "output_type": "display_data"
    },
    {
     "data": {
      "image/png": "[encoded data removed]",
      "text/plain": [
       "<matplotlib.figure.Figure at 0x7f7d0927e810>"
      ]
     },
     "metadata": {},
     "output_type": "display_data"
    },
    {
     "data": {
      "image/png": "[encoded data removed]",
      "text/plain": [
       "<matplotlib.figure.Figure at 0x7f7d3071b210>"
      ]
     },
     "metadata": {},
     "output_type": "display_data"
    },
    {
     "data": {
      "image/png": "[encoded data removed]",
      "text/plain": [
       "<matplotlib.figure.Figure at 0x7f7d3046f650>"
      ]
     },
     "metadata": {},
     "output_type": "display_data"
    },
    {
     "data": {
      "image/png": "[encoded data removed]",
      "text/plain": [
       "<matplotlib.figure.Figure at 0x7f7d483b17d0>"
      ]
     },
     "metadata": {},
     "output_type": "display_data"
    },
    {
     "data": {
      "image/png": "[encoded data removed]",
      "text/plain": [
       "<matplotlib.figure.Figure at 0x7f7ce849e2d0>"
      ]
     },
     "metadata": {},
     "output_type": "display_data"
    },
    {
     "data": {
      "image/png": "[encoded data removed]",
      "text/plain": [
       "<matplotlib.figure.Figure at 0x7f7ce83f5ad0>"
      ]
     },
     "metadata": {},
     "output_type": "display_data"
    },
    {
     "data": {
      "image/png": "[encoded data removed]",
      "text/plain": [
       "<matplotlib.figure.Figure at 0x7f7ce80fc890>"
      ]
     },
     "metadata": {},
     "output_type": "display_data"
    },
    {
     "data": {
      "image/png": "[encoded data removed]",
      "text/plain": [
       "<matplotlib.figure.Figure at 0x7f7d3077e210>"
      ]
     },
     "metadata": {},
     "output_type": "display_data"
    },
    {
     "data": {
      "image/png": "[encoded data removed]",
      "text/plain": [
       "<matplotlib.figure.Figure at 0x7f7ce19b7910>"
      ]
     },
     "metadata": {},
     "output_type": "display_data"
    },
    {
     "data": {
      "image/png": "[encoded data removed]",
      "text/plain": [
       "<matplotlib.figure.Figure at 0x7f7ce853ecd0>"
      ]
     },
     "metadata": {},
     "output_type": "display_data"
    },
    {
     "data": {
      "image/png": "[encoded data removed]",
      "text/plain": [
       "<matplotlib.figure.Figure at 0x7f7ce184f050>"
      ]
     },
     "metadata": {},
     "output_type": "display_data"
    },
    {
     "data": {
      "image/png": "[encoded data removed]",
      "text/plain": [
       "<matplotlib.figure.Figure at 0x7f7ce163a390>"
      ]
     },
     "metadata": {},
     "output_type": "display_data"
    },
    {
     "data": {
      "image/png": "[encoded data removed]",
      "text/plain": [
       "<matplotlib.figure.Figure at 0x7f7ce138cbd0>"
      ]
     },
     "metadata": {},
     "output_type": "display_data"
    },
    {
     "data": {
      "image/png": "[encoded data removed]",
      "text/plain": [
       "<matplotlib.figure.Figure at 0x7f7d092483d0>"
      ]
     },
     "metadata": {},
     "output_type": "display_data"
    },
    {
     "data": {
      "image/png": "[encoded data removed]",
      "text/plain": [
       "<matplotlib.figure.Figure at 0x7f7d09252a10>"
      ]
     },
     "metadata": {},
     "output_type": "display_data"
    },
    {
     "data": {
      "image/png": "[encoded data removed]",
      "text/plain": [
       "<matplotlib.figure.Figure at 0x7f7d091e64d0>"
      ]
     },
     "metadata": {},
     "output_type": "display_data"
    },
    {
     "data": {
      "image/png": "[encoded data removed]",
      "text/plain": [
       "<matplotlib.figure.Figure at 0x7f7ce1164e10>"
      ]
     },
     "metadata": {},
     "output_type": "display_data"
    },
    {
     "data": {
      "image/png": "[encoded data removed]",
      "text/plain": [
       "<matplotlib.figure.Figure at 0x7f7ce1051790>"
      ]
     },
     "metadata": {},
     "output_type": "display_data"
    },
    {
     "data": {
      "image/png": "[encoded data removed]",
      "text/plain": [
       "<matplotlib.figure.Figure at 0x7f7ce104c7d0>"
      ]
     },
     "metadata": {},
     "output_type": "display_data"
    },
    {
     "data": {
      "image/png": "[encoded data removed]",
      "text/plain": [
       "<matplotlib.figure.Figure at 0x7f7ce0df0650>"
      ]
     },
     "metadata": {},
     "output_type": "display_data"
    }
   ],
   "source": [
    "import numpy as np\n",
    "import scipy.ndimage as nd\n",
    "import matplotlib.pyplot as plt\n",
    "\n",
    "count = 0\n",
    "circled_data = []\n",
    "eps = np.finfo(float).eps\n",
    "max_its = 1000\n",
    "figure_size = 32\n",
    "\n",
    "phi_set = []\n",
    "\n",
    "\n",
    "def chanvese(I, original_I, init_mask, max_its=200, alpha=0.2,\n",
    "             thresh=0, color='r', display=False):\n",
    "    I = I.astype(np.float)\n",
    "\n",
    "    # Create a signed distance map (SDF) from mask\n",
    "    phi = mask2phi(init_mask)\n",
    "\n",
    "    if display:\n",
    "        plt.ion()\n",
    "        fig = plt.figure(figsize=(1,1))\n",
    "        ax = fig.add_subplot(111)\n",
    "        ax.seton=False\n",
    "        \n",
    "        #fig, axes = plt.subplots(ncols=1)\n",
    "        show_curve_and_phi(fig, I, original_I, phi, color)\n",
    "        plt.savefig('levelset_start.png', bbox_inches='tight')\n",
    "\n",
    "    # Main loop\n",
    "    its = 0\n",
    "    stop = False\n",
    "    prev_mask = init_mask\n",
    "    c = 0\n",
    "\n",
    "    while (its < max_its and not stop):\n",
    "        # Get the curve's narrow band\n",
    "        idx = np.flatnonzero(np.logical_and(phi <= 1.2, phi >= -1.2))\n",
    "\n",
    "        if len(idx) > 0:\n",
    "            # Intermediate output\n",
    "            if display:\n",
    "                if np.mod(its, 50) == 0:\n",
    "                    print('iteration: {0}'.format(its))\n",
    "                    show_curve_and_phi(fig, I, original_I, phi, color)\n",
    "            else:\n",
    "                if np.mod(its, 10) == 0:\n",
    "                    print('iteration: {0}'.format(its))\n",
    "\n",
    "            # Find interior and exterior mean\n",
    "            upts = np.flatnonzero(phi <= 0)  # interior points\n",
    "            vpts = np.flatnonzero(phi > 0)  # exterior points\n",
    "            u = np.sum(I.flat[upts]) / (len(upts) + eps)  # interior mean\n",
    "            v = np.sum(I.flat[vpts]) / (len(vpts) + eps)  # exterior mean\n",
    "\n",
    "            # Force from image information\n",
    "            F = (I.flat[idx] - u)**2 - (I.flat[idx] - v)**2\n",
    "            # Force from curvature penalty\n",
    "            curvature = get_curvature(phi, idx)\n",
    "\n",
    "            # Gradient descent to minimize energy\n",
    "            dphidt = F / np.max(np.abs(F)) + alpha * curvature\n",
    "\n",
    "            # Maintain the CFL condition\n",
    "            dt = 0.45 / (np.max(np.abs(dphidt)) + eps)\n",
    "\n",
    "            # Evolve the curve\n",
    "            phi.flat[idx] += dt * dphidt\n",
    "\n",
    "            # Keep SDF smooth\n",
    "            phi = sussman(phi, 0.5)\n",
    "\n",
    "            new_mask = phi <= 0\n",
    "            c = convergence(prev_mask, new_mask, thresh, c)\n",
    "\n",
    "            if c <= 5:\n",
    "                its = its + 1\n",
    "                prev_mask = new_mask\n",
    "            else:\n",
    "                stop = True\n",
    "\n",
    "        else:\n",
    "            break\n",
    "\n",
    "    # Final output\n",
    "    if display:\n",
    "        \n",
    "        print('saving file')\n",
    "        ####### saving to file 'segmented particle' with the \n",
    "        global count \n",
    "        Observed_name = names[count]\n",
    "        \n",
    "        if not os.path.exists(segmented_particles_path):\n",
    "            os.mkdir(segmented_particles_path)\n",
    "        \n",
    "        Segmented_path = os.path.join(segmented_particles_path, Observed_name)\n",
    "        x_start = Observed_name[0]\n",
    "        y_start = Observed_name[1]\n",
    "        filename = Segmented_path + '{}_{}.jpg'.format(x_start, y_start)\n",
    "        count = count + 1\n",
    "        \n",
    "        plt.savefig(filename, bbox_inches='tight',pad_inches = 0, dpi=64)\n",
    "            \n",
    "        show_curve_and_phi(fig, I, original_I, phi, color)\n",
    "        \n",
    "        \n",
    "        \n",
    "        #plt.savefig('levelset_end.png', bbox_inches='tight')\n",
    "\n",
    "    # Make mask from SDF\n",
    "    seg = phi <= 0  # Get mask from levelset\n",
    "\n",
    "    return seg, phi, its\n",
    "\n",
    "\n",
    "# ---------------------------------------------------------------------\n",
    "# ---------------------- AUXILIARY FUNCTIONS --------------------------\n",
    "# ---------------------------------------------------------------------\n",
    "\n",
    "def bwdist(a):\n",
    "    \"\"\"\n",
    "    Intermediary function. 'a' has only True/False vals,\n",
    "    so we convert them into 0/1 values - in reverse.\n",
    "    True is 0, False is 1, distance_transform_edt wants it that way.\n",
    "    \"\"\"\n",
    "    return nd.distance_transform_edt(a == 0)\n",
    "\n",
    "\n",
    "# Displays the image with curve superimposed\n",
    "def show_curve_and_phi(fig, I, original_I, phi, color):\n",
    "    \n",
    "    #fig.tight_layout(pad=0)\n",
    "    \n",
    "\n",
    "    for spine in plt.gca().spines.values():\n",
    "        spine.set_visible(False)\n",
    "        \n",
    "    fig.axes[0].cla()\n",
    "    fig.axes[0].set_axis_off()\n",
    "    fig.axes[0].imshow(original_I, cmap='gray')\n",
    "    fig.axes[0].contour(phi, 0, colors=color)\n",
    "    \n",
    "    plt.draw()\n",
    "    \n",
    "    \n",
    "    # Now we can save it to a numpy array.\n",
    "    #data = np.fromstring(fig.canvas.tostring_rgb(), dtype=np.uint8, sep='')\n",
    "    #data = data.reshape((fig.canvas.get_width_height()[::-1] + (3,)))\n",
    "    \n",
    "    #circled_data.append(data)\n",
    "    \n",
    "    \n",
    "    \n",
    "    plt.pause(0.001)\n",
    "\n",
    "\n",
    "def im2double(a):\n",
    "    a = a.astype(np.float)\n",
    "    a /= np.abs(a).max()\n",
    "    return a\n",
    "\n",
    "\n",
    "# Converts a mask to a SDF\n",
    "def mask2phi(init_a):\n",
    "    phi = bwdist(init_a) - bwdist(1 - init_a) + im2double(init_a) - 0.5\n",
    "    return phi\n",
    "\n",
    "\n",
    "# Compute curvature along SDF\n",
    "def get_curvature(phi, idx):\n",
    "    dimy, dimx = phi.shape\n",
    "    yx = np.array([np.unravel_index(i, phi.shape) for i in idx])  # subscripts\n",
    "    y = yx[:, 0]\n",
    "    x = yx[:, 1]\n",
    "\n",
    "    # Get subscripts of neighbors\n",
    "    ym1 = y - 1\n",
    "    xm1 = x - 1\n",
    "    yp1 = y + 1\n",
    "    xp1 = x + 1\n",
    "\n",
    "    # Bounds checking\n",
    "    ym1[ym1 < 0] = 0\n",
    "    xm1[xm1 < 0] = 0\n",
    "    yp1[yp1 >= dimy] = dimy - 1\n",
    "    xp1[xp1 >= dimx] = dimx - 1\n",
    "\n",
    "    # Get indexes for 8 neighbors\n",
    "    idup = np.ravel_multi_index((yp1, x), phi.shape)\n",
    "    iddn = np.ravel_multi_index((ym1, x), phi.shape)\n",
    "    idlt = np.ravel_multi_index((y, xm1), phi.shape)\n",
    "    idrt = np.ravel_multi_index((y, xp1), phi.shape)\n",
    "    idul = np.ravel_multi_index((yp1, xm1), phi.shape)\n",
    "    idur = np.ravel_multi_index((yp1, xp1), phi.shape)\n",
    "    iddl = np.ravel_multi_index((ym1, xm1), phi.shape)\n",
    "    iddr = np.ravel_multi_index((ym1, xp1), phi.shape)\n",
    "\n",
    "    # Get central derivatives of SDF at x,y\n",
    "    phi_x = -phi.flat[idlt] + phi.flat[idrt]\n",
    "    phi_y = -phi.flat[iddn] + phi.flat[idup]\n",
    "    phi_xx = phi.flat[idlt] - 2 * phi.flat[idx] + phi.flat[idrt]\n",
    "    phi_yy = phi.flat[iddn] - 2 * phi.flat[idx] + phi.flat[idup]\n",
    "    phi_xy = 0.25 * (- phi.flat[iddl] - phi.flat[idur] +\n",
    "                     phi.flat[iddr] + phi.flat[idul])\n",
    "    phi_x2 = phi_x**2\n",
    "    phi_y2 = phi_y**2\n",
    "\n",
    "    # Compute curvature (Kappa)\n",
    "    curvature = ((phi_x2 * phi_yy + phi_y2 * phi_xx - 2 * phi_x * phi_y * phi_xy) /\n",
    "                 (phi_x2 + phi_y2 + eps) ** 1.5) * (phi_x2 + phi_y2) ** 0.5\n",
    "\n",
    "    return curvature\n",
    "\n",
    "\n",
    "# Level set re-initialization by the sussman method\n",
    "def sussman(D, dt):\n",
    "    # forward/backward differences\n",
    "    a = D - np.roll(D, 1, axis=1)\n",
    "    b = np.roll(D, -1, axis=1) - D\n",
    "    c = D - np.roll(D, -1, axis=0)\n",
    "    d = np.roll(D, 1, axis=0) - D\n",
    "\n",
    "    a_p = np.clip(a, 0, np.inf)\n",
    "    a_n = np.clip(a, -np.inf, 0)\n",
    "    b_p = np.clip(b, 0, np.inf)\n",
    "    b_n = np.clip(b, -np.inf, 0)\n",
    "    c_p = np.clip(c, 0, np.inf)\n",
    "    c_n = np.clip(c, -np.inf, 0)\n",
    "    d_p = np.clip(d, 0, np.inf)\n",
    "    d_n = np.clip(d, -np.inf, 0)\n",
    "\n",
    "    a_p[a < 0] = 0\n",
    "    a_n[a > 0] = 0\n",
    "    b_p[b < 0] = 0\n",
    "    b_n[b > 0] = 0\n",
    "    c_p[c < 0] = 0\n",
    "    c_n[c > 0] = 0\n",
    "    d_p[d < 0] = 0\n",
    "    d_n[d > 0] = 0\n",
    "\n",
    "    dD = np.zeros_like(D)\n",
    "    D_neg_ind = np.flatnonzero(D < 0)\n",
    "    D_pos_ind = np.flatnonzero(D > 0)\n",
    "\n",
    "    dD.flat[D_pos_ind] = np.sqrt(\n",
    "        np.max(np.concatenate(\n",
    "            ([a_p.flat[D_pos_ind]**2], [b_n.flat[D_pos_ind]**2])), axis=0) +\n",
    "        np.max(np.concatenate(\n",
    "            ([c_p.flat[D_pos_ind]**2], [d_n.flat[D_pos_ind]**2])), axis=0)) - 1\n",
    "    dD.flat[D_neg_ind] = np.sqrt(\n",
    "        np.max(np.concatenate(\n",
    "            ([a_n.flat[D_neg_ind]**2], [b_p.flat[D_neg_ind]**2])), axis=0) +\n",
    "        np.max(np.concatenate(\n",
    "            ([c_n.flat[D_neg_ind]**2], [d_p.flat[D_neg_ind]**2])), axis=0)) - 1\n",
    "\n",
    "    D = D - dt * sussman_sign(D) * dD\n",
    "    return D\n",
    "\n",
    "\n",
    "def sussman_sign(D):\n",
    "    return D / np.sqrt(D**2 + 1)\n",
    "\n",
    "\n",
    "# Convergence Test\n",
    "def convergence(p_mask, n_mask, thresh, c):\n",
    "    diff = p_mask - n_mask\n",
    "    n_diff = np.sum(np.abs(diff))\n",
    "    if n_diff < thresh:\n",
    "        c = c + 1\n",
    "    else:\n",
    "        c = 0\n",
    "    return c\n",
    "\n",
    "\n",
    "if __name__ == \"__main__\":\n",
    "    #img = nd.imread('gradient_1.jpg', flatten=True)\n",
    "    \n",
    "    for original_image, gradient_image in zip(particles, gradient_data):\n",
    "        \n",
    "        mask = np.zeros(gradient_image.shape)\n",
    "        mask[20:100, 20:100] = 1\n",
    "        \n",
    "\n",
    "        chanvese(gradient_image, original_image, mask, max_its=1000, display=True, alpha=1.0)"
   ]
  },
  {
   "cell_type": "markdown",
   "metadata": {},
   "source": [
    "### Read images from the Post_Processing folder"
   ]
  },
  {
   "cell_type": "code",
   "execution_count": 66,
   "metadata": {},
   "outputs": [],
   "source": [
    "segmented_data = []\n",
    "\n",
    "for Segment in os.listdir(segmented_particles_path):\n",
    "    particle = cv2.imread(os.path.join(segmented_particles_path, Segment))\n",
    "    segmented_data.append(particle)"
   ]
  },
  {
   "cell_type": "markdown",
   "metadata": {},
   "source": [
    "### Cut the white bounding boxes from mathplotlibs output"
   ]
  },
  {
   "cell_type": "code",
   "execution_count": 67,
   "metadata": {
    "collapsed": true
   },
   "outputs": [],
   "source": [
    "counttop = 3\n",
    "countright = 3\n",
    "countleft = 17\n",
    "countbottom = 15\n",
    "\n",
    "toresize = []\n",
    "\n",
    "for segmented in segmented_data:\n",
    "    \n",
    "    \n",
    "    arr = segmented\n",
    "    \n",
    "    for i in range(counttop):\n",
    "        arr = np.delete(arr, (0), axis=0 )    \n",
    "        \n",
    "    for i in range(countright):\n",
    "        arr = np.delete(arr, (arr.shape[1]-1), axis=1 )\n",
    "    \n",
    "    for i in range(countleft):\n",
    "        arr = np.delete(arr, (0), axis=1 )\n",
    "        \n",
    "    for i in range(countbottom):\n",
    "        arr = np.arr = np.delete(arr, (arr.shape[0]-1), axis=0 )\n",
    "\n",
    "    \n",
    "    toresize.append(arr)\n"
   ]
  },
  {
   "cell_type": "markdown",
   "metadata": {},
   "source": [
    "### Resize file to 32, 32"
   ]
  },
  {
   "cell_type": "code",
   "execution_count": 68,
   "metadata": {
    "collapsed": true
   },
   "outputs": [],
   "source": [
    "segmented = []\n",
    "\n",
    "for resize in toresize:\n",
    "    im = resize\n",
    "    resize = cv2.resize(im, (32,32))\n",
    "    segmented.append(resize)"
   ]
  },
  {
   "cell_type": "code",
   "execution_count": 51,
   "metadata": {},
   "outputs": [
    {
     "data": {
      "text/html": [
       "<h1>Save file to \"Segmented_Particle\"</h1>"
      ],
      "text/plain": [
       "<IPython.core.display.HTML object>"
      ]
     },
     "metadata": {},
     "output_type": "display_data"
    }
   ],
   "source": [
    "display(HTML('<h1>Save file to \"Segmented_Particle\"</h1>'))"
   ]
  },
  {
   "cell_type": "code",
   "execution_count": 52,
   "metadata": {
    "collapsed": true
   },
   "outputs": [],
   "source": [
    "countin = 0\n",
    "\n",
    "for i in range(len(segmented)):\n",
    "    Segmented_particle = Base_address + 'Segmented_Particle/'\n",
    "    x_start = name_set[i][0]\n",
    "    y_start = name_set[i][1]\n",
    "    \n",
    "    output_file_name = '{}_{}.jpg'.format(x_start, y_start)\n",
    "    output_full_path = Segmented_particle + output_file_name\n",
    "    \n",
    "    cv2.imwrite(output_full_path, segmented[i])"
   ]
  },
  {
   "cell_type": "code",
   "execution_count": null,
   "metadata": {
    "collapsed": true
   },
   "outputs": [],
   "source": []
  },
  {
   "cell_type": "code",
   "execution_count": 53,
   "metadata": {},
   "outputs": [
    {
     "data": {
      "text/html": [
       "<h1>Contour extraction\"</h1>"
      ],
      "text/plain": [
       "<IPython.core.display.HTML object>"
      ]
     },
     "metadata": {},
     "output_type": "display_data"
    }
   ],
   "source": [
    "display(HTML('<h1>Contour extraction\"</h1>'))"
   ]
  },
  {
   "cell_type": "code",
   "execution_count": 55,
   "metadata": {},
   "outputs": [
    {
     "data": {
      "text/html": [
       "<script>requirejs.config({paths: { 'plotly': ['https://cdn.plot.ly/plotly-latest.min']},});if(!window.Plotly) {{require(['plotly'],function(plotly) {window.Plotly=plotly;});}}</script>"
      ],
      "text/vnd.plotly.v1+html": [
       "<script>requirejs.config({paths: { 'plotly': ['https://cdn.plot.ly/plotly-latest.min']},});if(!window.Plotly) {{require(['plotly'],function(plotly) {window.Plotly=plotly;});}}</script>"
      ]
     },
     "metadata": {},
     "output_type": "display_data"
    },
    {
     "name": "stderr",
     "output_type": "stream",
     "text": [
      "IOPub data rate exceeded.\n",
      "The notebook server will temporarily stop sending output\n",
      "to the client in order to avoid crashing it.\n",
      "To change this limit, set the config variable\n",
      "`--NotebookApp.iopub_data_rate_limit`.\n"
     ]
    }
   ],
   "source": [
    "%matplotlib inline\n",
    "import cv2\n",
    "import numpy as np\n",
    "import matplotlib.pyplot as plt\n",
    "import os\n",
    "import pandas as pd\n",
    "\n",
    "import cufflinks as cf\n",
    "from plotly.offline import download_plotlyjs, init_notebook_mode, plot, iplot\n",
    "init_notebook_mode(connected=True)\n",
    "cf.go_offline()"
   ]
  },
  {
   "cell_type": "code",
   "execution_count": 56,
   "metadata": {},
   "outputs": [
    {
     "data": {
      "text/html": [
       "<h1>Helper functions\"</h1>"
      ],
      "text/plain": [
       "<IPython.core.display.HTML object>"
      ]
     },
     "metadata": {},
     "output_type": "display_data"
    }
   ],
   "source": [
    "display(HTML('<h1>Helper functions\"</h1>'))"
   ]
  },
  {
   "cell_type": "code",
   "execution_count": 57,
   "metadata": {
    "collapsed": true
   },
   "outputs": [],
   "source": [
    "def showim(imgpassed):\n",
    "    \n",
    "    cv2.imshow('image', imgpassed)\n",
    "    k = cv2.waitKey(0)\n",
    "    if k == 27:         # wait for ESC key to exit\n",
    "        cv2.destroyAllWindows()\n",
    "    elif k == ord('s'): # wait for 's' key to save and exit\n",
    "        cv2.imwrite('particle',img)\n",
    "        cv2.destroyAllWindows()\n",
    "    "
   ]
  },
  {
   "cell_type": "code",
   "execution_count": 58,
   "metadata": {},
   "outputs": [
    {
     "data": {
      "text/html": [
       "<h1>checking the proper directories\"</h1>"
      ],
      "text/plain": [
       "<IPython.core.display.HTML object>"
      ]
     },
     "metadata": {},
     "output_type": "display_data"
    }
   ],
   "source": [
    "display(HTML('<h1>checking the proper directories\"</h1>'))"
   ]
  },
  {
   "cell_type": "code",
   "execution_count": 59,
   "metadata": {
    "collapsed": true
   },
   "outputs": [],
   "source": [
    "Base_address = \"\"\n",
    "Segmented_Particle_path = \"Segmented_Particle/\"\n",
    "Segmented_Particle_Rectangle_path = \"Segmented_Particle_Rectangle/\""
   ]
  },
  {
   "cell_type": "code",
   "execution_count": null,
   "metadata": {
    "collapsed": true
   },
   "outputs": [],
   "source": []
  },
  {
   "cell_type": "code",
   "execution_count": 60,
   "metadata": {
    "collapsed": true
   },
   "outputs": [],
   "source": [
    "Segmented_Particle_Rectangle_dir = os.path.dirname(Base_address + Segmented_Particle_Rectangle_path)\n",
    "\n",
    "if not os.path.exists(Segmented_Particle_Rectangle_dir):\n",
    "    os.makedirs(Segmented_Particle_Rectangle_dir)\n",
    "    print(\"Making Segmented_Particle_Rectangle file.\")\n",
    "    "
   ]
  },
  {
   "cell_type": "code",
   "execution_count": 61,
   "metadata": {},
   "outputs": [
    {
     "data": {
      "text/html": [
       "<h1>Loading from directory</h1>"
      ],
      "text/plain": [
       "<IPython.core.display.HTML object>"
      ]
     },
     "metadata": {},
     "output_type": "display_data"
    }
   ],
   "source": [
    "display(HTML('<h1>Loading from directory</h1>'))"
   ]
  },
  {
   "cell_type": "code",
   "execution_count": 62,
   "metadata": {
    "collapsed": true
   },
   "outputs": [],
   "source": [
    "direc = Base_address + Segmented_Particle_path\n",
    "\n",
    "Segmented = [f for f in os.listdir(direc) if os.path.isfile(os.path.join(direc, f))]\n",
    "\n",
    "data = []\n",
    "name_set = []\n",
    "\n",
    "#load Positives\n",
    "for Segment in Segmented:\n",
    "    path = direc + Segment\n",
    "    \n",
    "    particle = cv2.imread(path, 1)\n",
    "    \n",
    "    \n",
    "    file_name = Segment\n",
    "    replace = file_name.replace('.','_')\n",
    "    array_offsets = replace.split('_')\n",
    "    \n",
    "    x_offset = int(array_offsets[0])\n",
    "    y_offset = int(array_offsets[1])\n",
    "    \n",
    "    name_set.append([x_offset, y_offset])\n",
    "    data.append(particle)\n",
    "    "
   ]
  },
  {
   "cell_type": "code",
   "execution_count": 63,
   "metadata": {},
   "outputs": [
    {
     "data": {
      "text/html": [
       "<h1>Mask boundaries\"</h1>"
      ],
      "text/plain": [
       "<IPython.core.display.HTML object>"
      ]
     },
     "metadata": {},
     "output_type": "display_data"
    }
   ],
   "source": [
    "display(HTML('<h1>Mask boundaries\"</h1>'))"
   ]
  },
  {
   "cell_type": "code",
   "execution_count": 64,
   "metadata": {
    "collapsed": true
   },
   "outputs": [],
   "source": [
    "lower = np.array([0, 15, 100])\n",
    "upper = np.array([255, 80, 255])"
   ]
  },
  {
   "cell_type": "code",
   "execution_count": 65,
   "metadata": {},
   "outputs": [
    {
     "data": {
      "text/html": [
       "<h1>Calculating the size distribution for the segmented particles</h1>"
      ],
      "text/plain": [
       "<IPython.core.display.HTML object>"
      ]
     },
     "metadata": {},
     "output_type": "display_data"
    }
   ],
   "source": [
    "display(HTML('<h1>Calculating the size distribution for the segmented particles</h1>'))"
   ]
  },
  {
   "cell_type": "code",
   "execution_count": 66,
   "metadata": {
    "collapsed": true
   },
   "outputs": [],
   "source": [
    "size_dist = []\n",
    "images = []\n",
    "\n",
    "for d in data:\n",
    "\n",
    "    image = d\n",
    "\n",
    "    mask = cv2.inRange(image, lower, upper)\n",
    "    output = cv2.bitwise_and(image, image, mask=mask)\n",
    "    width, height = output.shape[:2]\n",
    "\n",
    "    img = cv2.cvtColor(output, cv2.COLOR_BGR2GRAY)\n",
    "\n",
    "    blur = cv2.GaussianBlur(img,(5,5),0)\n",
    "    ret3,th3 = cv2.threshold(blur,0,255,cv2.THRESH_BINARY+cv2.THRESH_OTSU)\n",
    "\n",
    "    im2, contours, hierarchy = cv2.findContours(th3, cv2.RETR_TREE, cv2.CHAIN_APPROX_SIMPLE)\n",
    "\n",
    "\n",
    "    largest_area = 0\n",
    "\n",
    "    for contour in contours:\n",
    "\n",
    "        cnt = contour\n",
    "        x,y,w,h = cv2.boundingRect(cnt)\n",
    "        area = w*h\n",
    "\n",
    "        if (area > largest_area):\n",
    "\n",
    "            largest_area = area\n",
    "            index_of_largest_area = contour\n",
    "            largest_cnt = cnt\n",
    "\n",
    "        #cv2.rectangle(img,(x,y),(x+w,y+h),(0,255,0),2)\n",
    "\n",
    "    rect = cv2.minAreaRect(largest_cnt)\n",
    "    box = cv2.boxPoints(rect)\n",
    "    p1, p2, p3, p4 = np.int0(box)\n",
    "    \n",
    "    # start shoelace calculation\n",
    "    area = ((p1[0]*p2[1] - p2[0]*p1[1]) + (p2[0]*p3[1] - p3[0]*p2[1]) + (p3[0]*p4[1] - p4[0]*p3[1]) + (p4[0]*p1[1] - p1[0]*p4[1]))/2\n",
    "    box = np.int0(box)\n",
    "\n",
    "    cv2.drawContours(image,[box],0,(0,255,0),1)\n",
    "    #showim(image)\n",
    "    \n",
    "    images.append(image)\n",
    "\n",
    "    size_dist.append(area)"
   ]
  },
  {
   "cell_type": "code",
   "execution_count": null,
   "metadata": {
    "collapsed": true
   },
   "outputs": [],
   "source": []
  },
  {
   "cell_type": "code",
   "execution_count": 67,
   "metadata": {},
   "outputs": [
    {
     "data": {
      "text/html": [
       "<h1>Generating the distribution Dataframe & plots</h1>"
      ],
      "text/plain": [
       "<IPython.core.display.HTML object>"
      ]
     },
     "metadata": {},
     "output_type": "display_data"
    }
   ],
   "source": [
    "display(HTML('<h1>Generating the distribution Dataframe & plots</h1>'))"
   ]
  },
  {
   "cell_type": "code",
   "execution_count": 68,
   "metadata": {
    "collapsed": true
   },
   "outputs": [],
   "source": [
    "df = pd.DataFrame(size_dist, columns=['Area'])"
   ]
  },
  {
   "cell_type": "code",
   "execution_count": 69,
   "metadata": {},
   "outputs": [
    {
     "data": {
      "application/vnd.plotly.v1+json": {
       "data": [
        {
         "histfunc": "count",
         "histnorm": "",
         "marker": {
          "color": "rgba(255, 153, 51, 1.0)",
          "line": {
           "color": "#4D5663",
           "width": 1.3
          }
         },
         "name": "Area",
         "opacity": 0.8,
         "orientation": "v",
         "type": "histogram",
         "x": [
          480.5,
          700,
          384,
          567
         ]
        }
       ],
       "layout": {
        "barmode": "overlay",
        "legend": {
         "bgcolor": "#F5F6F9",
         "font": {
          "color": "#4D5663"
         }
        },
        "paper_bgcolor": "#F5F6F9",
        "plot_bgcolor": "#F5F6F9",
        "titlefont": {
         "color": "#4D5663"
        },
        "xaxis1": {
         "gridcolor": "#E1E5ED",
         "showgrid": true,
         "tickfont": {
          "color": "#4D5663"
         },
         "title": "Size of Particle",
         "titlefont": {
          "color": "#4D5663"
         },
         "zerolinecolor": "#E1E5ED"
        },
        "yaxis1": {
         "gridcolor": "#E1E5ED",
         "showgrid": true,
         "tickfont": {
          "color": "#4D5663"
         },
         "title": "Frequency of Size",
         "titlefont": {
          "color": "#4D5663"
         },
         "zerolinecolor": "#E1E5ED"
        }
       }
      },
      "text/html": [
       "<div id=\"fa0de3f2-240f-43f4-b145-3690f65da460\" style=\"height: 525px; width: 100%;\" class=\"plotly-graph-div\"></div><script type=\"text/javascript\">require([\"plotly\"], function(Plotly) { window.PLOTLYENV=window.PLOTLYENV || {};window.PLOTLYENV.BASE_URL=\"https://plot.ly\";Plotly.newPlot(\"fa0de3f2-240f-43f4-b145-3690f65da460\", [{\"type\": \"histogram\", \"x\": [480.5, 700.0, 384.0, 567.0], \"name\": \"Area\", \"marker\": {\"color\": \"rgba(255, 153, 51, 1.0)\", \"line\": {\"width\": 1.3, \"color\": \"#4D5663\"}}, \"orientation\": \"v\", \"opacity\": 0.8, \"histfunc\": \"count\", \"histnorm\": \"\"}], {\"legend\": {\"bgcolor\": \"#F5F6F9\", \"font\": {\"color\": \"#4D5663\"}}, \"paper_bgcolor\": \"#F5F6F9\", \"plot_bgcolor\": \"#F5F6F9\", \"yaxis1\": {\"tickfont\": {\"color\": \"#4D5663\"}, \"gridcolor\": \"#E1E5ED\", \"titlefont\": {\"color\": \"#4D5663\"}, \"zerolinecolor\": \"#E1E5ED\", \"showgrid\": true, \"title\": \"Frequency of Size\"}, \"xaxis1\": {\"tickfont\": {\"color\": \"#4D5663\"}, \"gridcolor\": \"#E1E5ED\", \"titlefont\": {\"color\": \"#4D5663\"}, \"zerolinecolor\": \"#E1E5ED\", \"showgrid\": true, \"title\": \"Size of Particle\"}, \"titlefont\": {\"color\": \"#4D5663\"}, \"barmode\": \"overlay\"}, {\"showLink\": true, \"linkText\": \"Export to plot.ly\"})});</script>"
      ],
      "text/vnd.plotly.v1+html": [
       "<div id=\"fa0de3f2-240f-43f4-b145-3690f65da460\" style=\"height: 525px; width: 100%;\" class=\"plotly-graph-div\"></div><script type=\"text/javascript\">require([\"plotly\"], function(Plotly) { window.PLOTLYENV=window.PLOTLYENV || {};window.PLOTLYENV.BASE_URL=\"https://plot.ly\";Plotly.newPlot(\"fa0de3f2-240f-43f4-b145-3690f65da460\", [{\"type\": \"histogram\", \"x\": [480.5, 700.0, 384.0, 567.0], \"name\": \"Area\", \"marker\": {\"color\": \"rgba(255, 153, 51, 1.0)\", \"line\": {\"width\": 1.3, \"color\": \"#4D5663\"}}, \"orientation\": \"v\", \"opacity\": 0.8, \"histfunc\": \"count\", \"histnorm\": \"\"}], {\"legend\": {\"bgcolor\": \"#F5F6F9\", \"font\": {\"color\": \"#4D5663\"}}, \"paper_bgcolor\": \"#F5F6F9\", \"plot_bgcolor\": \"#F5F6F9\", \"yaxis1\": {\"tickfont\": {\"color\": \"#4D5663\"}, \"gridcolor\": \"#E1E5ED\", \"titlefont\": {\"color\": \"#4D5663\"}, \"zerolinecolor\": \"#E1E5ED\", \"showgrid\": true, \"title\": \"Frequency of Size\"}, \"xaxis1\": {\"tickfont\": {\"color\": \"#4D5663\"}, \"gridcolor\": \"#E1E5ED\", \"titlefont\": {\"color\": \"#4D5663\"}, \"zerolinecolor\": \"#E1E5ED\", \"showgrid\": true, \"title\": \"Size of Particle\"}, \"titlefont\": {\"color\": \"#4D5663\"}, \"barmode\": \"overlay\"}, {\"showLink\": true, \"linkText\": \"Export to plot.ly\"})});</script>"
      ]
     },
     "metadata": {},
     "output_type": "display_data"
    }
   ],
   "source": [
    "df.iplot(kind='hist', xTitle='Size of Particle', yTitle='Frequency of Size')"
   ]
  },
  {
   "cell_type": "code",
   "execution_count": 70,
   "metadata": {},
   "outputs": [
    {
     "data": {
      "text/plain": [
       "<matplotlib.axes._subplots.AxesSubplot at 0x7f974f821e48>"
      ]
     },
     "execution_count": 70,
     "metadata": {},
     "output_type": "execute_result"
    },
    {
     "data": {
      "image/png": "[encoded data removed]",
      "text/plain": [
       "<matplotlib.figure.Figure at 0x7f974f8219b0>"
      ]
     },
     "metadata": {},
     "output_type": "display_data"
    }
   ],
   "source": [
    "df.plot.bar()"
   ]
  },
  {
   "cell_type": "code",
   "execution_count": 71,
   "metadata": {},
   "outputs": [
    {
     "data": {
      "application/vnd.plotly.v1+json": {
       "data": [
        {
         "histfunc": "count",
         "histnorm": "",
         "marker": {
          "color": "rgba(255, 153, 51, 1.0)",
          "line": {
           "color": "#4D5663",
           "width": 1.3
          }
         },
         "name": "Area",
         "opacity": 0.8,
         "orientation": "v",
         "type": "histogram",
         "x": [
          480.5,
          700,
          384,
          567
         ]
        }
       ],
       "layout": {
        "barmode": "overlay",
        "legend": {
         "bgcolor": "#F5F6F9",
         "font": {
          "color": "#4D5663"
         }
        },
        "paper_bgcolor": "#F5F6F9",
        "plot_bgcolor": "#F5F6F9",
        "titlefont": {
         "color": "#4D5663"
        },
        "xaxis1": {
         "gridcolor": "#E1E5ED",
         "showgrid": true,
         "tickfont": {
          "color": "#4D5663"
         },
         "title": "Size of Particle",
         "titlefont": {
          "color": "#4D5663"
         },
         "zerolinecolor": "#E1E5ED"
        },
        "yaxis1": {
         "gridcolor": "#E1E5ED",
         "showgrid": true,
         "tickfont": {
          "color": "#4D5663"
         },
         "title": "Frequency of Size",
         "titlefont": {
          "color": "#4D5663"
         },
         "zerolinecolor": "#E1E5ED"
        }
       }
      },
      "text/html": [
       "<div id=\"ea1b28c2-6da3-4842-8414-2944880faa00\" style=\"height: 525px; width: 100%;\" class=\"plotly-graph-div\"></div><script type=\"text/javascript\">require([\"plotly\"], function(Plotly) { window.PLOTLYENV=window.PLOTLYENV || {};window.PLOTLYENV.BASE_URL=\"https://plot.ly\";Plotly.newPlot(\"ea1b28c2-6da3-4842-8414-2944880faa00\", [{\"type\": \"histogram\", \"x\": [480.5, 700.0, 384.0, 567.0], \"name\": \"Area\", \"marker\": {\"color\": \"rgba(255, 153, 51, 1.0)\", \"line\": {\"width\": 1.3, \"color\": \"#4D5663\"}}, \"orientation\": \"v\", \"opacity\": 0.8, \"histfunc\": \"count\", \"histnorm\": \"\"}], {\"legend\": {\"bgcolor\": \"#F5F6F9\", \"font\": {\"color\": \"#4D5663\"}}, \"paper_bgcolor\": \"#F5F6F9\", \"plot_bgcolor\": \"#F5F6F9\", \"yaxis1\": {\"tickfont\": {\"color\": \"#4D5663\"}, \"gridcolor\": \"#E1E5ED\", \"titlefont\": {\"color\": \"#4D5663\"}, \"zerolinecolor\": \"#E1E5ED\", \"showgrid\": true, \"title\": \"Frequency of Size\"}, \"xaxis1\": {\"tickfont\": {\"color\": \"#4D5663\"}, \"gridcolor\": \"#E1E5ED\", \"titlefont\": {\"color\": \"#4D5663\"}, \"zerolinecolor\": \"#E1E5ED\", \"showgrid\": true, \"title\": \"Size of Particle\"}, \"titlefont\": {\"color\": \"#4D5663\"}, \"barmode\": \"overlay\"}, {\"showLink\": true, \"linkText\": \"Export to plot.ly\"})});</script>"
      ],
      "text/vnd.plotly.v1+html": [
       "<div id=\"ea1b28c2-6da3-4842-8414-2944880faa00\" style=\"height: 525px; width: 100%;\" class=\"plotly-graph-div\"></div><script type=\"text/javascript\">require([\"plotly\"], function(Plotly) { window.PLOTLYENV=window.PLOTLYENV || {};window.PLOTLYENV.BASE_URL=\"https://plot.ly\";Plotly.newPlot(\"ea1b28c2-6da3-4842-8414-2944880faa00\", [{\"type\": \"histogram\", \"x\": [480.5, 700.0, 384.0, 567.0], \"name\": \"Area\", \"marker\": {\"color\": \"rgba(255, 153, 51, 1.0)\", \"line\": {\"width\": 1.3, \"color\": \"#4D5663\"}}, \"orientation\": \"v\", \"opacity\": 0.8, \"histfunc\": \"count\", \"histnorm\": \"\"}], {\"legend\": {\"bgcolor\": \"#F5F6F9\", \"font\": {\"color\": \"#4D5663\"}}, \"paper_bgcolor\": \"#F5F6F9\", \"plot_bgcolor\": \"#F5F6F9\", \"yaxis1\": {\"tickfont\": {\"color\": \"#4D5663\"}, \"gridcolor\": \"#E1E5ED\", \"titlefont\": {\"color\": \"#4D5663\"}, \"zerolinecolor\": \"#E1E5ED\", \"showgrid\": true, \"title\": \"Frequency of Size\"}, \"xaxis1\": {\"tickfont\": {\"color\": \"#4D5663\"}, \"gridcolor\": \"#E1E5ED\", \"titlefont\": {\"color\": \"#4D5663\"}, \"zerolinecolor\": \"#E1E5ED\", \"showgrid\": true, \"title\": \"Size of Particle\"}, \"titlefont\": {\"color\": \"#4D5663\"}, \"barmode\": \"overlay\"}, {\"showLink\": true, \"linkText\": \"Export to plot.ly\"})});</script>"
      ]
     },
     "metadata": {},
     "output_type": "display_data"
    }
   ],
   "source": [
    "df.iplot(kind='hist', xTitle='Size of Particle', yTitle='Frequency of Size')"
   ]
  },
  {
   "cell_type": "code",
   "execution_count": 72,
   "metadata": {},
   "outputs": [
    {
     "data": {
      "text/html": [
       "<h1>Saving files to \"Segmented_Particle_rectangle\" folder</h1>"
      ],
      "text/plain": [
       "<IPython.core.display.HTML object>"
      ]
     },
     "metadata": {},
     "output_type": "display_data"
    }
   ],
   "source": [
    "display(HTML('<h1>Saving files to \"Segmented_Particle_rectangle\" folder</h1>'))"
   ]
  },
  {
   "cell_type": "code",
   "execution_count": 73,
   "metadata": {
    "collapsed": true
   },
   "outputs": [],
   "source": [
    "for i in range(len(size_dist)):\n",
    "    Segmented_particle = Base_address + 'Segmented_Particle_Rectangle/'\n",
    "    x_start = name_set[i][0]\n",
    "    y_start = name_set[i][1]\n",
    "    \n",
    "    output_file_name = '{}_{}_size.jpg'.format(x_start, y_start)\n",
    "    output_full_path = Segmented_particle + output_file_name\n",
    "    \n",
    "    cv2.imwrite(output_full_path, images[i])"
   ]
  },
  {
   "cell_type": "code",
   "execution_count": null,
   "metadata": {
    "collapsed": true
   },
   "outputs": [],
   "source": []
  }
 ],
 "metadata": {
  "anaconda-cloud": {},
  "kernelspec": {
   "display_name": "Python 2",
   "language": "python",
   "name": "python2"
  },
  "language_info": {
   "codemirror_mode": {
    "name": "ipython",
    "version": 2
   },
   "file_extension": ".py",
   "mimetype": "text/x-python",
   "name": "python",
   "nbconvert_exporter": "python",
   "pygments_lexer": "ipython2",
   "version": "2.7.13"
  }
 },
 "nbformat": 4,
 "nbformat_minor": 1
}
