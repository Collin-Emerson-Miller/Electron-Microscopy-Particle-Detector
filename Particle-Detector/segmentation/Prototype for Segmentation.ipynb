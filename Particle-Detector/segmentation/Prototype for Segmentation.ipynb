{
 "cells": [
  {
   "cell_type": "markdown",
   "metadata": {},
   "source": [
    "This notebook will serve as a prototype for the segmentation class.\n",
    "\n",
    "I plan to create the segmentation class and fill in all of the methods defined in the\n",
    "example notebook for how to use the class.\n",
    "\n",
    "First I am going to implement the most needed methods.  The priority of the methodes go as such:\n",
    "\n",
    "1. segment\n",
    "2. boundary_probabilities\n",
    "3. train"
   ]
  },
  {
   "cell_type": "code",
   "execution_count": 2,
   "metadata": {},
   "outputs": [
    {
     "name": "stderr",
     "output_type": "stream",
     "text": [
      "Using TensorFlow backend.\n"
     ]
    }
   ],
   "source": [
    "#import chanvese\n",
    "from models import BachNet\n",
    "from models import ChopinNet\n",
    "from utils import prediction_utils"
   ]
  },
  {
   "cell_type": "code",
   "execution_count": 3,
   "metadata": {
    "collapsed": true
   },
   "outputs": [],
   "source": [
    "class Segmentation:\n",
    "    \n",
    "    def __init__(self):\n",
    "        self.chopin = ChopinNet.Chopin()\n",
    "        bach = BachNet.BachNet()\n",
    "    \n",
    "    def segment(self, images, seeds):\n",
    "        \"\"\"Segments an image.\n",
    "        \n",
    "        Args:\n",
    "            images: A `numpy` array of input images.\n",
    "            seeds: A list of seed locations to start region growing.\n",
    "            \n",
    "        Returns:\n",
    "            A `numpy` array of sagmentation labels.\n",
    "        \"\"\"\n",
    "        \n",
    "        for image in images:\n",
    "            graph = graph_utils.prims_initialize(image)\n",
    "            msf = prediction_utils.minimum_spanning_forest(self.chopin,\n",
    "                                                           image, graph,\n",
    "                                                           seeds)\n",
    "\n",
    "            segmentations = display_utils.assignments(image, msf, seeds)\n",
    "        \n",
    "        return segmentations\n",
    "    \n",
    "    def boundary_probabilities(self, X):\n",
    "        \"\"\"Predicts the boundary probabilities of an image.\n",
    "        \n",
    "        Args:\n",
    "            X: A `numpy` array of input images.\n",
    "            \n",
    "        Returns:\n",
    "            A `numpy` array of boundary probabilities.\n",
    "        \n",
    "        \"\"\"\n",
    "    \n",
    "    def train_boundary_probabilities(X, y):\n",
    "        \"\"\"Trains the boundary probability model for segmentation.\n",
    "        \n",
    "        Args:\n",
    "            X: A `numpy` array of training data.\n",
    "            y: A `numpy` array of training labels.\n",
    "        \"\"\"\n",
    "        \n",
    "    "
   ]
  },
  {
   "cell_type": "code",
   "execution_count": 4,
   "metadata": {
    "collapsed": true
   },
   "outputs": [],
   "source": [
    "s = Segmentation()"
   ]
  },
  {
   "cell_type": "code",
   "execution_count": 10,
   "metadata": {
    "collapsed": true
   },
   "outputs": [],
   "source": [
    "import cv2\n",
    "from utils import preprocessing_utils\n",
    "import re"
   ]
  },
  {
   "cell_type": "code",
   "execution_count": 6,
   "metadata": {
    "collapsed": true
   },
   "outputs": [],
   "source": [
    "img = cv2.imread(\"slice_0/img\")"
   ]
  },
  {
   "cell_type": "code",
   "execution_count": 11,
   "metadata": {},
   "outputs": [],
   "source": [
    "seed = []\n",
    "f = open(\"slice_0/seeds.txt\", 'r')\n",
    "for line in f:\n",
    "    y = int(float(re.split(' ', line)[0]))\n",
    "    x = int(float(re.split(' ', line)[1]))\n",
    "    s = (x - 1, y - 1)\n",
    "    seed.append(s)\n",
    "\n",
    "seed = seed[1:]"
   ]
  },
  {
   "cell_type": "code",
   "execution_count": null,
   "metadata": {
    "collapsed": true
   },
   "outputs": [],
   "source": [
    "images = cs"
   ]
  },
  {
   "cell_type": "code",
   "execution_count": null,
   "metadata": {
    "collapsed": true
   },
   "outputs": [],
   "source": [
    "s.segment()"
   ]
  }
 ],
 "metadata": {
  "kernelspec": {
   "display_name": "Python 2",
   "language": "python",
   "name": "python2"
  },
  "language_info": {
   "codemirror_mode": {
    "name": "ipython",
    "version": 2
   },
   "file_extension": ".py",
   "mimetype": "text/x-python",
   "name": "python",
   "nbconvert_exporter": "python",
   "pygments_lexer": "ipython2",
   "version": "2.7.13"
  }
 },
 "nbformat": 4,
 "nbformat_minor": 2
}
