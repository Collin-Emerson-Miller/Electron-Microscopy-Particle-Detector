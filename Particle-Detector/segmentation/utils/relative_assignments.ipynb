{
 "cells": [
  {
   "cell_type": "code",
   "execution_count": 1,
   "metadata": {},
   "outputs": [
    {
     "ename": "ImportError",
     "evalue": "No module named preprocessing_utils",
     "output_type": "error",
     "traceback": [
      "\u001b[0;31m---------------------------------------------------------------------------\u001b[0m",
      "\u001b[0;31mImportError\u001b[0m                               Traceback (most recent call last)",
      "\u001b[0;32m<ipython-input-1-dbb127425b61>\u001b[0m in \u001b[0;36m<module>\u001b[0;34m()\u001b[0m\n\u001b[1;32m      3\u001b[0m \u001b[0;32mfrom\u001b[0m \u001b[0m__future__\u001b[0m \u001b[0;32mimport\u001b[0m \u001b[0mprint_function\u001b[0m\u001b[0;34m\u001b[0m\u001b[0m\n\u001b[1;32m      4\u001b[0m \u001b[0;34m\u001b[0m\u001b[0m\n\u001b[0;32m----> 5\u001b[0;31m \u001b[0;32mimport\u001b[0m \u001b[0mpreprocessing_utils\u001b[0m\u001b[0;34m\u001b[0m\u001b[0m\n\u001b[0m",
      "\u001b[0;31mImportError\u001b[0m: No module named preprocessing_utils"
     ]
    }
   ],
   "source": [
    "from __future__ import absolute_import\n",
    "from __future__ import division\n",
    "from __future__ import print_function\n",
    "\n",
    "import preprocessing_utils"
   ]
  },
  {
   "cell_type": "code",
   "execution_count": null,
   "metadata": {
    "collapsed": true
   },
   "outputs": [],
   "source": [
    "class RelativeAssignments:\n",
    "    def __init__(self, seeds, image_size, receptive_field_shape):\n",
    "        self.receptive_field_shape = receptive_field_shape\n",
    "        self.seeds = seeds\n",
    "        self.image_size = image_size\n",
    "        self._rgb = np.zeros((len(seeds), image_size[0], image_size[1], 3))\n",
    "        self._rgb[:, :, :] = [0, 0, 1]\n",
    "\n",
    "        npad = ((0, 0), (receptive_field_shape[0] // 2, receptive_field_shape[1] // 2),\n",
    "                (receptive_field_shape[0] // 2, receptive_field_shape[1] // 2), (0, 0))\n",
    "\n",
    "        self._padded_rgb = np.pad(self._rgb, npad, 'edge')\n",
    "\n",
    "    def assign_node(self, node, seed_index):\n",
    "        x = node[0] + self.receptive_field_shape[0] // 2\n",
    "        y = node[1] + self.receptive_field_shape[1] // 2\n",
    "\n",
    "        self._padded_rgb[:seed_index, x, y] = [1, 0, 0]\n",
    "        self._padded_rgb[seed_index, x, y] = [0, 1, 0]\n",
    "        self._padded_rgb[seed_index + 1:, x, y] = [1, 0, 0]\n",
    "\n",
    "        return\n",
    "\n",
    "    def get_node_image(self, node, seed):\n",
    "        seed_index = self.seeds.index(seed)\n",
    "\n",
    "        return utils.crop_2d(self._padded_rgb[seed_index], node,\n",
    "                             self.receptive_field_shape[0],\n",
    "                             self.receptive_field_shape[1])"
   ]
  }
 ],
 "metadata": {
  "kernelspec": {
   "display_name": "Python 2",
   "language": "python",
   "name": "python2"
  }
 },
 "nbformat": 4,
 "nbformat_minor": 2
}
