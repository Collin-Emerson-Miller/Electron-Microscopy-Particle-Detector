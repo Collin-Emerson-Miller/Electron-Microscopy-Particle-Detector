{
 "cells": [
  {
   "cell_type": "code",
   "execution_count": 1,
   "metadata": {},
   "outputs": [
    {
     "name": "stderr",
     "output_type": "stream",
     "text": [
      "Using TensorFlow backend.\n"
     ]
    }
   ],
   "source": [
    "from __future__ import print_function\n",
    "from __future__ import division\n",
    "\n",
    "#Handle Imports\n",
    "import cv2\n",
    "import numpy as np\n",
    "import math\n",
    "import os\n",
    "import re\n",
    "import shutil\n",
    "import configparser\n",
    "\n",
    "import utils\n",
    "import detection\n",
    "import segmentation\n",
    "\n",
    "from learnedwatershed.utils import prediction_utils, display_utils\n",
    "\n",
    "import matplotlib.pyplot as plt\n",
    "%matplotlib inline"
   ]
  },
  {
   "cell_type": "markdown",
   "metadata": {},
   "source": [
    "## Set Path Variables\n",
    "\n",
    "First let's declare where all of the files will be stored."
   ]
  },
  {
   "cell_type": "code",
   "execution_count": 13,
   "metadata": {
    "collapsed": true
   },
   "outputs": [],
   "source": [
    "config = configparser.ConfigParser()\n",
    "\n",
    "config['DEFAULT'] = {\n",
    "    'detection_model_path':'models/model',\n",
    "    'full_image_path':'data/train/full_images/',\n",
    "    'detection_image_path':'data/train/full_images_detected',\n",
    "    'detected_particles_path':\"data/train/detected_particles\",\n",
    "    'segmented_particles_path':\"data/train/segmentation_labels/\",\n",
    "}\n",
    "\n",
    "with open('config.ini', 'w') as config_file:\n",
    "    config.write(config_file)"
   ]
  },
  {
   "cell_type": "code",
   "execution_count": 14,
   "metadata": {
    "collapsed": true
   },
   "outputs": [],
   "source": [
    "# The path for the detection model.\n",
    "detection_model_path = config['DEFAULT']['detection_model_path']\n",
    "\n",
    "# The path containing all of the images to detect and segment.\n",
    "full_image_path = config['DEFAULT']['full_image_path']\n",
    "\n",
    "# The path to save an image with boxes drawn around the detections.\n",
    "detection_image_path = config['DEFAULT']['detection_image_path']\n",
    "\n",
    "# The path to save all of the detected particles.\n",
    "detected_particles_path = config['DEFAULT']['detected_particles_path']\n",
    "\n",
    "# The path to save all of the particle segmentations.\n",
    "segmented_particles_path = config['DEFAULT']['segmented_particles_path']"
   ]
  },
  {
   "cell_type": "code",
   "execution_count": 15,
   "metadata": {
    "collapsed": true
   },
   "outputs": [],
   "source": [
    "pyramid = [(.5, 5), (.7, 5), (1, 3), (1.3, 3)]"
   ]
  },
  {
   "cell_type": "code",
   "execution_count": 16,
   "metadata": {
    "collapsed": true
   },
   "outputs": [],
   "source": [
    "pyramid = [(.7, 5)]"
   ]
  },
  {
   "cell_type": "code",
   "execution_count": 17,
   "metadata": {},
   "outputs": [],
   "source": [
    "images = []\n",
    "names = []\n",
    "    \n",
    "for f_name in os.listdir(full_image_path):\n",
    "    \n",
    "    # Read image.\n",
    "    original = cv2.imread(os.path.join(full_image_path, f_name), 0) / 255\n",
    "    \n",
    "    images.append(original)\n",
    "    \n",
    "    file_extension = f_name.split('.')[-1]\n",
    "    f_name = '_'.join(f_name.split('.')[:-1])\n",
    "    \n",
    "    names.append(f_name)\n",
    "    \n",
    "    \n",
    "images = np.stack(images)"
   ]
  },
  {
   "cell_type": "code",
   "execution_count": 18,
   "metadata": {},
   "outputs": [
    {
     "name": "stdout",
     "output_type": "stream",
     "text": [
      "Loaded model from disk\n",
      "22080/22144 [============================>.] - ETA: 0s0\n",
      "22080/22144 [============================>.] - ETA: 0s0\n",
      "22144/22144 [==============================] - 2s     \n",
      "7\n",
      "22144/22144 [==============================] - 2s     \n",
      "0\n",
      "21984/22144 [============================>.] - ETA: 0s0\n",
      "21856/22144 [============================>.] - ETA: 0s1\n",
      "21984/22144 [============================>.] - ETA: 0s2\n",
      "22048/22144 [============================>.] - ETA: 0s14\n"
     ]
    }
   ],
   "source": [
    "coordinates, particles = detection.detect_particles(images, pyramid, detection_model_path, suppression=0.1)"
   ]
  },
  {
   "cell_type": "code",
   "execution_count": 19,
   "metadata": {
    "collapsed": true
   },
   "outputs": [],
   "source": [
    "if not os.path.isdir(detected_particles_path):\n",
    "    os.makedirs(detected_particles_path)\n",
    "    \n",
    "if not os.path.exists(detection_image_path):\n",
    "    os.mkdir(detection_image_path)\n",
    "\n",
    "for f_name, i in zip(names, images):\n",
    "    \n",
    "    img = i.copy()\n",
    "    \n",
    "    for c, p in zip(coordinates, particles):\n",
    "        \n",
    "        # Save the detected detections to disk.\n",
    "        x_start = c[0]\n",
    "        y_start = c[1]\n",
    "        x_end = c[2]\n",
    "        y_end = c[3]\n",
    "\n",
    "        dp_f_name = '{}_{}_{}_{}_{}.{}'.format(f_name, x_start, y_start, x_end, y_end, \"jpg\")\n",
    "\n",
    "        cv2.imwrite(os.path.join(detected_particles_path, dp_f_name), p)\n",
    "        \n",
    "        # Place square around detection.\n",
    "        cv2.rectangle(img, (x_start, y_start), (x_end, y_end), (0, 255, 0), 2)\n",
    "\n",
    "    # Save full detection image to disk.\n",
    "    cv2.imwrite(os.path.join(detection_image_path, '{}.{}'.format(f_name, file_extension)), img * 255)"
   ]
  },
  {
   "cell_type": "markdown",
   "metadata": {},
   "source": [
    "## Chanvese Segmentation"
   ]
  },
  {
   "cell_type": "code",
   "execution_count": 20,
   "metadata": {
    "scrolled": true
   },
   "outputs": [],
   "source": [
    "chanvese_segmentations = []\n",
    "\n",
    "for particle in particles:\n",
    "\n",
    "    particle = np.squeeze(particle)\n",
    "\n",
    "    blur = cv2.GaussianBlur(particle.astype(np.uint8), (5, 5), 0)\n",
    "\n",
    "    ret, thres = cv2.threshold(blur, 0, 255, cv2.THRESH_BINARY + cv2.THRESH_OTSU)\n",
    "\n",
    "    mask = np.zeros(thres.shape)\n",
    "    mask[20:100, 20:100] = 1\n",
    "\n",
    "    seg, phi, its = utils.chanvese(thres, mask, max_its=1000, alpha=1.0)\n",
    "    \n",
    "    chanvese_segmentations.append(np.stack((seg, phi), -1))\n",
    "\n",
    "chanvese_segmentations = np.stack(chanvese_segmentations)"
   ]
  },
  {
   "cell_type": "code",
   "execution_count": 21,
   "metadata": {
    "scrolled": true
   },
   "outputs": [
    {
     "data": {
      "text/plain": [
       "<matplotlib.image.AxesImage at 0x7f9d21544ed0>"
      ]
     },
     "execution_count": 21,
     "metadata": {},
     "output_type": "execute_result"
    },
    {
     "data": {
      "image/png": "[encoded data removed]",
      "text/plain": [
       "<matplotlib.figure.Figure at 0x7f9da82aee50>"
      ]
     },
     "metadata": {},
     "output_type": "display_data"
    }
   ],
   "source": [
    "plt.imshow(chanvese_segmentations[0, :, :, 0])"
   ]
  },
  {
   "cell_type": "code",
   "execution_count": 24,
   "metadata": {},
   "outputs": [
    {
     "data": {
      "text/plain": [
       "((6, 32, 32, 2), (6, 32, 32, 1))"
      ]
     },
     "execution_count": 24,
     "metadata": {},
     "output_type": "execute_result"
    }
   ],
   "source": [
    "chanvese_segmentations.shape, particles.shape"
   ]
  },
  {
   "cell_type": "code",
   "execution_count": 28,
   "metadata": {},
   "outputs": [
    {
     "name": "stdout",
     "output_type": "stream",
     "text": [
      "pic5_385_385_431_431_gt.jpg\n",
      "pic5_385_385_431_431.jpg\n",
      "pic5_385_385_431_431_augmentation.jpg\n",
      "pic5_378_385_424_431_gt.jpg\n",
      "pic5_378_385_424_431.jpg\n",
      "pic5_378_385_424_431_augmentation.jpg\n",
      "pic5_371_385_417_431_gt.jpg\n",
      "pic5_371_385_417_431.jpg\n",
      "pic5_371_385_417_431_augmentation.jpg\n",
      "pic5_385_378_431_424_gt.jpg\n",
      "pic5_385_378_431_424.jpg\n",
      "pic5_385_378_431_424_augmentation.jpg\n",
      "pic5_378_378_424_424_gt.jpg\n",
      "pic5_378_378_424_424.jpg\n",
      "pic5_378_378_424_424_augmentation.jpg\n",
      "pic5_371_378_417_424_gt.jpg\n",
      "pic5_371_378_417_424.jpg\n",
      "pic5_371_378_417_424_augmentation.jpg\n",
      "pic3_385_385_431_431_gt.jpg\n",
      "pic3_385_385_431_431.jpg\n",
      "pic3_385_385_431_431_augmentation.jpg\n",
      "pic3_378_385_424_431_gt.jpg\n",
      "pic3_378_385_424_431.jpg\n",
      "pic3_378_385_424_431_augmentation.jpg\n",
      "pic3_371_385_417_431_gt.jpg\n",
      "pic3_371_385_417_431.jpg\n",
      "pic3_371_385_417_431_augmentation.jpg\n",
      "pic3_385_378_431_424_gt.jpg\n",
      "pic3_385_378_431_424.jpg\n",
      "pic3_385_378_431_424_augmentation.jpg\n",
      "pic3_378_378_424_424_gt.jpg\n",
      "pic3_378_378_424_424.jpg\n",
      "pic3_378_378_424_424_augmentation.jpg\n",
      "pic3_371_378_417_424_gt.jpg\n",
      "pic3_371_378_417_424.jpg\n",
      "pic3_371_378_417_424_augmentation.jpg\n",
      "pic4_385_385_431_431_gt.jpg\n",
      "pic4_385_385_431_431.jpg\n",
      "pic4_385_385_431_431_augmentation.jpg\n",
      "pic4_378_385_424_431_gt.jpg\n",
      "pic4_378_385_424_431.jpg\n",
      "pic4_378_385_424_431_augmentation.jpg\n",
      "pic4_371_385_417_431_gt.jpg\n",
      "pic4_371_385_417_431.jpg\n",
      "pic4_371_385_417_431_augmentation.jpg\n",
      "pic4_385_378_431_424_gt.jpg\n",
      "pic4_385_378_431_424.jpg\n",
      "pic4_385_378_431_424_augmentation.jpg\n",
      "pic4_378_378_424_424_gt.jpg\n",
      "pic4_378_378_424_424.jpg\n",
      "pic4_378_378_424_424_augmentation.jpg\n",
      "pic4_371_378_417_424_gt.jpg\n",
      "pic4_371_378_417_424.jpg\n",
      "pic4_371_378_417_424_augmentation.jpg\n",
      "pic2_385_385_431_431_gt.jpg\n",
      "pic2_385_385_431_431.jpg\n",
      "pic2_385_385_431_431_augmentation.jpg\n",
      "pic2_378_385_424_431_gt.jpg\n",
      "pic2_378_385_424_431.jpg\n",
      "pic2_378_385_424_431_augmentation.jpg\n",
      "pic2_371_385_417_431_gt.jpg\n",
      "pic2_371_385_417_431.jpg\n",
      "pic2_371_385_417_431_augmentation.jpg\n",
      "pic2_385_378_431_424_gt.jpg\n",
      "pic2_385_378_431_424.jpg\n",
      "pic2_385_378_431_424_augmentation.jpg\n",
      "pic2_378_378_424_424_gt.jpg\n",
      "pic2_378_378_424_424.jpg\n",
      "pic2_378_378_424_424_augmentation.jpg\n",
      "pic2_371_378_417_424_gt.jpg\n",
      "pic2_371_378_417_424.jpg\n",
      "pic2_371_378_417_424_augmentation.jpg\n",
      "pic1_385_385_431_431_gt.jpg\n",
      "pic1_385_385_431_431.jpg\n",
      "pic1_385_385_431_431_augmentation.jpg\n",
      "pic1_378_385_424_431_gt.jpg\n",
      "pic1_378_385_424_431.jpg\n",
      "pic1_378_385_424_431_augmentation.jpg\n",
      "pic1_371_385_417_431_gt.jpg\n",
      "pic1_371_385_417_431.jpg\n",
      "pic1_371_385_417_431_augmentation.jpg\n",
      "pic1_385_378_431_424_gt.jpg\n",
      "pic1_385_378_431_424.jpg\n",
      "pic1_385_378_431_424_augmentation.jpg\n",
      "pic1_378_378_424_424_gt.jpg\n",
      "pic1_378_378_424_424.jpg\n",
      "pic1_378_378_424_424_augmentation.jpg\n",
      "pic1_371_378_417_424_gt.jpg\n",
      "pic1_371_378_417_424.jpg\n",
      "pic1_371_378_417_424_augmentation.jpg\n",
      "pic6_385_385_431_431_gt.jpg\n",
      "pic6_385_385_431_431.jpg\n",
      "pic6_385_385_431_431_augmentation.jpg\n",
      "pic6_378_385_424_431_gt.jpg\n",
      "pic6_378_385_424_431.jpg\n",
      "pic6_378_385_424_431_augmentation.jpg\n",
      "pic6_371_385_417_431_gt.jpg\n",
      "pic6_371_385_417_431.jpg\n",
      "pic6_371_385_417_431_augmentation.jpg\n",
      "pic6_385_378_431_424_gt.jpg\n",
      "pic6_385_378_431_424.jpg\n",
      "pic6_385_378_431_424_augmentation.jpg\n",
      "pic6_378_378_424_424_gt.jpg\n",
      "pic6_378_378_424_424.jpg\n",
      "pic6_378_378_424_424_augmentation.jpg\n",
      "pic6_371_378_417_424_gt.jpg\n",
      "pic6_371_378_417_424.jpg\n",
      "pic6_371_378_417_424_augmentation.jpg\n",
      "pic8_385_385_431_431_gt.jpg\n",
      "pic8_385_385_431_431.jpg\n",
      "pic8_385_385_431_431_augmentation.jpg\n",
      "pic8_378_385_424_431_gt.jpg\n",
      "pic8_378_385_424_431.jpg\n",
      "pic8_378_385_424_431_augmentation.jpg\n",
      "pic8_371_385_417_431_gt.jpg\n",
      "pic8_371_385_417_431.jpg\n",
      "pic8_371_385_417_431_augmentation.jpg\n",
      "pic8_385_378_431_424_gt.jpg\n",
      "pic8_385_378_431_424.jpg\n",
      "pic8_385_378_431_424_augmentation.jpg\n",
      "pic8_378_378_424_424_gt.jpg\n",
      "pic8_378_378_424_424.jpg\n",
      "pic8_378_378_424_424_augmentation.jpg\n",
      "pic8_371_378_417_424_gt.jpg\n",
      "pic8_371_378_417_424.jpg\n",
      "pic8_371_378_417_424_augmentation.jpg\n",
      "pic7_385_385_431_431_gt.jpg\n",
      "pic7_385_385_431_431.jpg\n",
      "pic7_385_385_431_431_augmentation.jpg\n",
      "pic7_378_385_424_431_gt.jpg\n",
      "pic7_378_385_424_431.jpg\n",
      "pic7_378_385_424_431_augmentation.jpg\n",
      "pic7_371_385_417_431_gt.jpg\n",
      "pic7_371_385_417_431.jpg\n",
      "pic7_371_385_417_431_augmentation.jpg\n",
      "pic7_385_378_431_424_gt.jpg\n",
      "pic7_385_378_431_424.jpg\n",
      "pic7_385_378_431_424_augmentation.jpg\n",
      "pic7_378_378_424_424_gt.jpg\n",
      "pic7_378_378_424_424.jpg\n",
      "pic7_378_378_424_424_augmentation.jpg\n",
      "pic7_371_378_417_424_gt.jpg\n",
      "pic7_371_378_417_424.jpg\n",
      "pic7_371_378_417_424_augmentation.jpg\n"
     ]
    }
   ],
   "source": [
    "if not os.path.exists(segmented_particles_path):\n",
    "    os.mkdir(segmented_particles_path)\n",
    "\n",
    "for f_name, i in zip(names, images):\n",
    "    for coords, segs, particle in zip(coordinates, chanvese_segmentations, particles):\n",
    "        \n",
    "        s = segs[:, :, 0]\n",
    "        phi = segs[:, :, 1]\n",
    "        \n",
    "        seeds = [np.unravel_index(phi.argmax(), phi.shape), np.unravel_index(phi.argmin(), phi.shape)]\n",
    "        \n",
    "        s = utils.ids_to_segmentation(s).astype(np.uint8)\n",
    "        s[s == 1] = 255\n",
    "        \n",
    "        # Save the detected detections to disk.\n",
    "        x_start = coords[0]\n",
    "        y_start = coords[1]\n",
    "        x_end = coords[2]\n",
    "        y_end = coords[3]\n",
    "        \n",
    "        dp_f_name = '{}_{}_{}_{}_{}_gt.{}'.format(f_name, x_start, y_start, x_end, y_end, \"jpg\")\n",
    "        print(dp_f_name)\n",
    "        cv2.imwrite(os.path.join(segmented_particles_path, dp_f_name), s)\n",
    "        \n",
    "        dp_f_name = '{}_{}_{}_{}_{}.{}'.format(f_name, x_start, y_start, x_end, y_end, \"jpg\")\n",
    "        print(dp_f_name)\n",
    "        cv2.imwrite(os.path.join(segmented_particles_path, dp_f_name), particle)\n",
    "        \n",
    "        dp_f_name = '{}_{}_{}_{}_{}_augmentation.{}'.format(f_name, x_start, y_start, x_end, y_end, \"jpg\")\n",
    "        print(dp_f_name)\n",
    "        cv2.imwrite(os.path.join(segmented_particles_path, dp_f_name), s)\n",
    "        \n",
    "        \n",
    "        \n",
    "        \n",
    "#         dp_f_name = '{}_{}_{}_{}_{}_phi.{}'.format(f_name, x_start, y_start, x_end, y_end, \"jpg\")\n",
    "#         cv2.imwrite(os.path.join(segmented_particles_path, dp_f_name), p)"
   ]
  },
  {
   "cell_type": "code",
   "execution_count": 40,
   "metadata": {},
   "outputs": [],
   "source": [
    "dp_f_name = '{}_{}_{}_{}_{}_seeds.{}'.format(f_name, x_start, y_start, x_end, y_end, \"txt\")\n",
    "\n",
    "\n",
    "with open(dp_f_name, 'w') as seed_file:\n",
    "    for x, y in seeds:\n",
    "        seed_file.write('{} {}'.format(x, y))"
   ]
  },
  {
   "cell_type": "code",
   "execution_count": 39,
   "metadata": {},
   "outputs": [
    {
     "data": {
      "text/plain": [
       "(15, 22)"
      ]
     },
     "execution_count": 39,
     "metadata": {},
     "output_type": "execute_result"
    }
   ],
   "source": [
    "x, y"
   ]
  },
  {
   "cell_type": "code",
   "execution_count": 33,
   "metadata": {},
   "outputs": [
    {
     "data": {
      "text/plain": [
       "(0, 7)"
      ]
     },
     "execution_count": 33,
     "metadata": {},
     "output_type": "execute_result"
    }
   ],
   "source": [
    "seed"
   ]
  },
  {
   "cell_type": "code",
   "execution_count": 29,
   "metadata": {},
   "outputs": [
    {
     "data": {
      "text/plain": [
       "[(0, 7), (15, 22)]"
      ]
     },
     "execution_count": 29,
     "metadata": {},
     "output_type": "execute_result"
    }
   ],
   "source": [
    "seeds"
   ]
  },
  {
   "cell_type": "code",
   "execution_count": 23,
   "metadata": {},
   "outputs": [
    {
     "name": "stdout",
     "output_type": "stream",
     "text": [
      "pic5_385_385_431_431_chanvese.jpg\n",
      "pic5_378_385_424_431_chanvese.jpg\n",
      "pic5_371_385_417_431_chanvese.jpg\n",
      "pic5_385_378_431_424_chanvese.jpg\n",
      "pic5_378_378_424_424_chanvese.jpg\n",
      "pic5_371_378_417_424_chanvese.jpg\n",
      "pic3_385_385_431_431_chanvese.jpg\n",
      "pic3_378_385_424_431_chanvese.jpg\n",
      "pic3_371_385_417_431_chanvese.jpg\n",
      "pic3_385_378_431_424_chanvese.jpg\n",
      "pic3_378_378_424_424_chanvese.jpg\n",
      "pic3_371_378_417_424_chanvese.jpg\n",
      "pic4_385_385_431_431_chanvese.jpg\n",
      "pic4_378_385_424_431_chanvese.jpg\n",
      "pic4_371_385_417_431_chanvese.jpg\n",
      "pic4_385_378_431_424_chanvese.jpg\n",
      "pic4_378_378_424_424_chanvese.jpg\n",
      "pic4_371_378_417_424_chanvese.jpg\n",
      "pic2_385_385_431_431_chanvese.jpg\n",
      "pic2_378_385_424_431_chanvese.jpg\n",
      "pic2_371_385_417_431_chanvese.jpg\n",
      "pic2_385_378_431_424_chanvese.jpg\n",
      "pic2_378_378_424_424_chanvese.jpg\n",
      "pic2_371_378_417_424_chanvese.jpg\n",
      "pic1_385_385_431_431_chanvese.jpg\n",
      "pic1_378_385_424_431_chanvese.jpg\n",
      "pic1_371_385_417_431_chanvese.jpg\n",
      "pic1_385_378_431_424_chanvese.jpg\n",
      "pic1_378_378_424_424_chanvese.jpg\n",
      "pic1_371_378_417_424_chanvese.jpg\n",
      "pic6_385_385_431_431_chanvese.jpg\n",
      "pic6_378_385_424_431_chanvese.jpg\n",
      "pic6_371_385_417_431_chanvese.jpg\n",
      "pic6_385_378_431_424_chanvese.jpg\n",
      "pic6_378_378_424_424_chanvese.jpg\n",
      "pic6_371_378_417_424_chanvese.jpg\n",
      "pic8_385_385_431_431_chanvese.jpg\n",
      "pic8_378_385_424_431_chanvese.jpg\n",
      "pic8_371_385_417_431_chanvese.jpg\n",
      "pic8_385_378_431_424_chanvese.jpg\n",
      "pic8_378_378_424_424_chanvese.jpg\n",
      "pic8_371_378_417_424_chanvese.jpg\n",
      "pic7_385_385_431_431_chanvese.jpg\n",
      "pic7_378_385_424_431_chanvese.jpg\n",
      "pic7_371_385_417_431_chanvese.jpg\n",
      "pic7_385_378_431_424_chanvese.jpg\n",
      "pic7_378_378_424_424_chanvese.jpg\n",
      "pic7_371_378_417_424_chanvese.jpg\n"
     ]
    }
   ],
   "source": [
    "if not os.path.exists(segmented_particles_path):\n",
    "    os.mkdir(segmented_particles_path)\n",
    "\n",
    "for f_name, i in zip(names, images):\n",
    "    for coords, segs in zip(coordinates, chanvese_segmentations):\n",
    "        \n",
    "        s = segs[:, :, 0]\n",
    "        p = segs[:, :, 1]\n",
    "        \n",
    "        s = utils.ids_to_segmentation(s).astype(np.uint8)\n",
    "        s[s == 1] = 255\n",
    "        \n",
    "        # Save the detected detections to disk.\n",
    "        x_start = coords[0]\n",
    "        y_start = coords[1]\n",
    "        x_end = coords[2]\n",
    "        y_end = coords[3]\n",
    "        \n",
    "        dp_f_name = '{}_{}_{}_{}_{}_chanvese.{}'.format(f_name, x_start, y_start, x_end, y_end, \"jpg\")\n",
    "        print(dp_f_name)\n",
    "        cv2.imwrite(os.path.join(segmented_particles_path, dp_f_name), s)\n",
    "        \n",
    "#         dp_f_name = '{}_{}_{}_{}_{}_phi.{}'.format(f_name, x_start, y_start, x_end, y_end, \"jpg\")\n",
    "#         cv2.imwrite(os.path.join(segmented_particles_path, dp_f_name), p)"
   ]
  },
  {
   "cell_type": "markdown",
   "metadata": {},
   "source": [
    "## Learned Watershed"
   ]
  },
  {
   "cell_type": "code",
   "execution_count": 15,
   "metadata": {
    "collapsed": true
   },
   "outputs": [],
   "source": [
    "from learnedwatershed.utils import prediction_utils, display_utils, preprocessing_utils, graph_utils\n",
    "from learnedwatershed import ChopinNet"
   ]
  },
  {
   "cell_type": "code",
   "execution_count": 16,
   "metadata": {},
   "outputs": [
    {
     "name": "stdout",
     "output_type": "stream",
     "text": [
      "Starting gradient segmentation...\n",
      "Segmentation done: 12.236564s\n",
      "Starting gradient segmentation...\n",
      "Segmentation done: 12.072335s\n"
     ]
    }
   ],
   "source": [
    "receptive_field_shape = (23, 23)\n",
    "\n",
    "chopin = ChopinNet.Chopin()\n",
    "chopin.build(receptive_field_shape)\n",
    "chopin.initialize_session()\n",
    "\n",
    "lws_segmentations = []\n",
    "\n",
    "for particle, segs in zip(particles, chanvese_segmentations):\n",
    "    \n",
    "    s = segs[:, :, 0]\n",
    "    p = segs[:, :, 1]\n",
    "    particle = particle[:, :, 0]\n",
    "    \n",
    "    seeds = [np.unravel_index(p.argmax(), p.shape), np.unravel_index(p.argmin(), p.shape)]\n",
    "\n",
    "    i_a = np.stack((particle, s), -1)\n",
    "\n",
    "    i_a = preprocessing_utils.pad_for_window(i_a,\n",
    "                                             chopin.receptive_field_shape[0],\n",
    "                                             chopin.receptive_field_shape[1])\n",
    "\n",
    "    graph = graph_utils.prims_initialize(particle)\n",
    "\n",
    "    msf = prediction_utils.minimum_spanning_forest(chopin, i_a, graph, seeds)\n",
    "\n",
    "    segmentation = display_utils.assignments(particle, msf, seeds)\n",
    "\n",
    "    lws_segmentations.append(segmentation)"
   ]
  },
  {
   "cell_type": "code",
   "execution_count": 17,
   "metadata": {},
   "outputs": [
    {
     "name": "stdout",
     "output_type": "stream",
     "text": [
      "test1-0_000000e-00-14_807_307_852_352_lws.jpg\n",
      "test1-0_000000e-00-14_800_307_845_352_lws.jpg\n"
     ]
    }
   ],
   "source": [
    "for f_name, i in zip(names, images):\n",
    "    for coords, segs in zip(coordinates, lws_segmentations):\n",
    "        \n",
    "        s = segs[:, :, 0]\n",
    "        p = segs[:, :, 1]\n",
    "        \n",
    "        s = utils.ids_to_segmentation(s).astype(np.uint8)\n",
    "        s[s == 1] = 255\n",
    "        \n",
    "        # Save the detected detections to disk.\n",
    "        x_start = coords[0]\n",
    "        y_start = coords[1]\n",
    "        x_end = coords[2]\n",
    "        y_end = coords[3]\n",
    "        \n",
    "        dp_f_name = '{}_{}_{}_{}_{}_lws.{}'.format(f_name, x_start, y_start, x_end, y_end, \"jpg\")\n",
    "        print(dp_f_name)\n",
    "        cv2.imwrite(os.path.join(segmented_particles_path, dp_f_name), s)"
   ]
  },
  {
   "cell_type": "code",
   "execution_count": null,
   "metadata": {
    "collapsed": true
   },
   "outputs": [],
   "source": []
  },
  {
   "cell_type": "code",
   "execution_count": null,
   "metadata": {
    "collapsed": true
   },
   "outputs": [],
   "source": []
  },
  {
   "cell_type": "code",
   "execution_count": null,
   "metadata": {
    "collapsed": true
   },
   "outputs": [],
   "source": []
  },
  {
   "cell_type": "code",
   "execution_count": null,
   "metadata": {
    "collapsed": true
   },
   "outputs": [],
   "source": []
  },
  {
   "cell_type": "code",
   "execution_count": null,
   "metadata": {
    "collapsed": true
   },
   "outputs": [],
   "source": []
  },
  {
   "cell_type": "code",
   "execution_count": null,
   "metadata": {
    "collapsed": true
   },
   "outputs": [],
   "source": []
  },
  {
   "cell_type": "code",
   "execution_count": null,
   "metadata": {
    "collapsed": true
   },
   "outputs": [],
   "source": []
  },
  {
   "cell_type": "code",
   "execution_count": null,
   "metadata": {
    "collapsed": true
   },
   "outputs": [],
   "source": []
  },
  {
   "cell_type": "code",
   "execution_count": null,
   "metadata": {
    "collapsed": true
   },
   "outputs": [],
   "source": []
  },
  {
   "cell_type": "code",
   "execution_count": null,
   "metadata": {
    "collapsed": true
   },
   "outputs": [],
   "source": []
  },
  {
   "cell_type": "code",
   "execution_count": null,
   "metadata": {
    "collapsed": true
   },
   "outputs": [],
   "source": []
  },
  {
   "cell_type": "code",
   "execution_count": null,
   "metadata": {
    "collapsed": true
   },
   "outputs": [],
   "source": []
  },
  {
   "cell_type": "code",
   "execution_count": null,
   "metadata": {
    "collapsed": true
   },
   "outputs": [],
   "source": []
  },
  {
   "cell_type": "code",
   "execution_count": null,
   "metadata": {
    "collapsed": true
   },
   "outputs": [],
   "source": []
  },
  {
   "cell_type": "code",
   "execution_count": null,
   "metadata": {
    "collapsed": true
   },
   "outputs": [],
   "source": []
  },
  {
   "cell_type": "code",
   "execution_count": null,
   "metadata": {
    "collapsed": true
   },
   "outputs": [],
   "source": []
  },
  {
   "cell_type": "code",
   "execution_count": null,
   "metadata": {
    "collapsed": true
   },
   "outputs": [],
   "source": []
  },
  {
   "cell_type": "code",
   "execution_count": null,
   "metadata": {
    "collapsed": true
   },
   "outputs": [],
   "source": []
  },
  {
   "cell_type": "code",
   "execution_count": null,
   "metadata": {
    "collapsed": true
   },
   "outputs": [],
   "source": []
  },
  {
   "cell_type": "code",
   "execution_count": 9,
   "metadata": {
    "scrolled": true
   },
   "outputs": [
    {
     "ename": "KeyboardInterrupt",
     "evalue": "",
     "output_type": "error",
     "traceback": [
      "\u001b[0;31m---------------------------------------------------------------------------\u001b[0m",
      "\u001b[0;31mKeyboardInterrupt\u001b[0m                         Traceback (most recent call last)",
      "\u001b[0;32m<ipython-input-9-9272333f72ea>\u001b[0m in \u001b[0;36m<module>\u001b[0;34m()\u001b[0m\n\u001b[0;32m----> 1\u001b[0;31m \u001b[0mcvs\u001b[0m\u001b[0;34m,\u001b[0m \u001b[0mlws\u001b[0m \u001b[0;34m=\u001b[0m \u001b[0msegmentation\u001b[0m\u001b[0;34m.\u001b[0m\u001b[0msegment_particles\u001b[0m\u001b[0;34m(\u001b[0m\u001b[0mnp\u001b[0m\u001b[0;34m.\u001b[0m\u001b[0mexpand_dims\u001b[0m\u001b[0;34m(\u001b[0m\u001b[0mparticles\u001b[0m\u001b[0;34m[\u001b[0m\u001b[0;36m0\u001b[0m\u001b[0;34m]\u001b[0m\u001b[0;34m,\u001b[0m \u001b[0;36m0\u001b[0m\u001b[0;34m)\u001b[0m\u001b[0;34m)\u001b[0m\u001b[0;34m\u001b[0m\u001b[0m\n\u001b[0m",
      "\u001b[0;32m/home/collin/GitHub/Particle-Detector/Particle-Detector/segmentation.pyc\u001b[0m in \u001b[0;36msegment_particles\u001b[0;34m(detections)\u001b[0m\n\u001b[1;32m     28\u001b[0m         \u001b[0mmask\u001b[0m\u001b[0;34m[\u001b[0m\u001b[0;36m20\u001b[0m\u001b[0;34m:\u001b[0m\u001b[0;36m100\u001b[0m\u001b[0;34m,\u001b[0m \u001b[0;36m20\u001b[0m\u001b[0;34m:\u001b[0m\u001b[0;36m100\u001b[0m\u001b[0;34m]\u001b[0m \u001b[0;34m=\u001b[0m \u001b[0;36m1\u001b[0m\u001b[0;34m\u001b[0m\u001b[0m\n\u001b[1;32m     29\u001b[0m \u001b[0;34m\u001b[0m\u001b[0m\n\u001b[0;32m---> 30\u001b[0;31m         \u001b[0mseg\u001b[0m\u001b[0;34m,\u001b[0m \u001b[0mphi\u001b[0m\u001b[0;34m,\u001b[0m \u001b[0mits\u001b[0m \u001b[0;34m=\u001b[0m \u001b[0mutils\u001b[0m\u001b[0;34m.\u001b[0m\u001b[0mchanvese\u001b[0m\u001b[0;34m(\u001b[0m\u001b[0mthres\u001b[0m\u001b[0;34m,\u001b[0m \u001b[0mmask\u001b[0m\u001b[0;34m,\u001b[0m \u001b[0mmax_its\u001b[0m\u001b[0;34m=\u001b[0m\u001b[0;36m1000\u001b[0m\u001b[0;34m,\u001b[0m \u001b[0malpha\u001b[0m\u001b[0;34m=\u001b[0m\u001b[0;36m1.0\u001b[0m\u001b[0;34m)\u001b[0m\u001b[0;34m\u001b[0m\u001b[0m\n\u001b[0m\u001b[1;32m     31\u001b[0m \u001b[0;34m\u001b[0m\u001b[0m\n\u001b[1;32m     32\u001b[0m         \u001b[0mchanvese_boundaries\u001b[0m \u001b[0;34m=\u001b[0m \u001b[0mutils\u001b[0m\u001b[0;34m.\u001b[0m\u001b[0mids_to_segmentation\u001b[0m\u001b[0;34m(\u001b[0m\u001b[0mseg\u001b[0m\u001b[0;34m)\u001b[0m\u001b[0;34m.\u001b[0m\u001b[0mastype\u001b[0m\u001b[0;34m(\u001b[0m\u001b[0mnp\u001b[0m\u001b[0;34m.\u001b[0m\u001b[0muint8\u001b[0m\u001b[0;34m)\u001b[0m\u001b[0;34m\u001b[0m\u001b[0m\n",
      "\u001b[0;32m/home/collin/GitHub/Particle-Detector/Particle-Detector/utils.pyc\u001b[0m in \u001b[0;36mchanvese\u001b[0;34m(I, init_mask, max_its, alpha, thresh, eps)\u001b[0m\n\u001b[1;32m    102\u001b[0m \u001b[0;34m\u001b[0m\u001b[0m\n\u001b[1;32m    103\u001b[0m             \u001b[0;31m# Keep SDF smooth\u001b[0m\u001b[0;34m\u001b[0m\u001b[0;34m\u001b[0m\u001b[0m\n\u001b[0;32m--> 104\u001b[0;31m             \u001b[0mphi\u001b[0m \u001b[0;34m=\u001b[0m \u001b[0msussman\u001b[0m\u001b[0;34m(\u001b[0m\u001b[0mphi\u001b[0m\u001b[0;34m,\u001b[0m \u001b[0;36m0.5\u001b[0m\u001b[0;34m)\u001b[0m\u001b[0;34m\u001b[0m\u001b[0m\n\u001b[0m\u001b[1;32m    105\u001b[0m \u001b[0;34m\u001b[0m\u001b[0m\n\u001b[1;32m    106\u001b[0m             \u001b[0mnew_mask\u001b[0m \u001b[0;34m=\u001b[0m \u001b[0mphi\u001b[0m \u001b[0;34m<=\u001b[0m \u001b[0;36m0\u001b[0m\u001b[0;34m\u001b[0m\u001b[0m\n",
      "\u001b[0;32m/home/collin/GitHub/Particle-Detector/Particle-Detector/utils.pyc\u001b[0m in \u001b[0;36msussman\u001b[0;34m(D, dt)\u001b[0m\n\u001b[1;32m    227\u001b[0m             ([a_p.flat[D_pos_ind] ** 2], [b_n.flat[D_pos_ind] ** 2])), axis=0) +\n\u001b[1;32m    228\u001b[0m         np.max(np.concatenate(\n\u001b[0;32m--> 229\u001b[0;31m             ([c_p.flat[D_pos_ind] ** 2], [d_n.flat[D_pos_ind] ** 2])), axis=0)) - 1\n\u001b[0m\u001b[1;32m    230\u001b[0m     dD.flat[D_neg_ind] = np.sqrt(\n\u001b[1;32m    231\u001b[0m         np.max(np.concatenate(\n",
      "\u001b[0;31mKeyboardInterrupt\u001b[0m: "
     ]
    }
   ],
   "source": [
    "cvs, lws = segmentation.segment_particles(np.expand_dims(particles[0], 0))"
   ]
  },
  {
   "cell_type": "code",
   "execution_count": null,
   "metadata": {
    "collapsed": true
   },
   "outputs": [],
   "source": [
    "        seed_mask = cv2.cvtColor(chanvese_boundaries.copy(), cv2.COLOR_GRAY2BGR)"
   ]
  },
  {
   "cell_type": "code",
   "execution_count": 12,
   "metadata": {},
   "outputs": [
    {
     "data": {
      "text/plain": [
       "(96, 32, 32)"
      ]
     },
     "execution_count": 12,
     "metadata": {},
     "output_type": "execute_result"
    }
   ],
   "source": [
    "cvs.shape"
   ]
  },
  {
   "cell_type": "code",
   "execution_count": 15,
   "metadata": {
    "collapsed": true
   },
   "outputs": [],
   "source": [
    "for f_name, i in zip(names, images):\n",
    "    for a, p, c, l in zip(coordinates, particles, cvs, lws):\n",
    "        \n",
    "        foldername = os.path.join(segmented_particles_path, f_name)\n",
    "\n",
    "        if os.path.exists(foldername):\n",
    "            shutil.rmtree(foldername)\n",
    "\n",
    "        os.makedirs(foldername)\n",
    "\n",
    "        c = c.astype(np.uint8)\n",
    "        l = l.astype(np.uint8)\n",
    "        p = p.astype(np.uint8)\n",
    "\n",
    "        cv2.imwrite(os.path.join(foldername, \"img.jpg\"), p)\n",
    "        cv2.imwrite(os.path.join(foldername, \"chanvese.jpg\"), c)\n",
    "        cv2.imwrite(os.path.join(foldername, \"lws.jpg\"), display_utils.transparent_mask(p, l, alpha=0.5))"
   ]
  },
  {
   "cell_type": "code",
   "execution_count": 10,
   "metadata": {
    "collapsed": true
   },
   "outputs": [],
   "source": [
    "if not os.path.exists(segmented_particles_path):\n",
    "        os.mkdir(segmented_particles_path)\n",
    "\n",
    "for f_name, i, c, l in zip(names, particles, cvs, lws):\n",
    "    \n",
    "    foldername = os.path.join(segmented_particles_path, f_name)\n",
    "\n",
    "    if os.path.exists(foldername):\n",
    "        shutil.rmtree(foldername)\n",
    "\n",
    "    os.makedirs(foldername)\n",
    "    \n",
    "    i = i.astype(np.uint8)\n",
    "    l = l.astype(np.uint8)\n",
    "    \n",
    "    cv2.imwrite(os.path.join(foldername, \"img.jpg\"), i)\n",
    "    cv2.imwrite(os.path.join(foldername, \"chanvese.jpg\"), c)\n",
    "    cv2.imwrite(os.path.join(foldername, \"lws.jpg\"), display_utils.transparent_mask(i, l, alpha=0.5))"
   ]
  },
  {
   "cell_type": "code",
   "execution_count": 32,
   "metadata": {
    "collapsed": true
   },
   "outputs": [],
   "source": [
    "counttop = 3\n",
    "countright = 3\n",
    "countleft = 17\n",
    "countbottom = 15\n",
    "\n",
    "toresize = []\n",
    "\n",
    "for segmented in segmented_data:\n",
    "    \n",
    "    \n",
    "    arr = segmented\n",
    "    \n",
    "    for i in range(counttop):\n",
    "        arr = np.delete(arr, (0), axis=0 )    \n",
    "        \n",
    "    for i in range(countright):\n",
    "        arr = np.delete(arr, (arr.shape[1]-1), axis=1 )\n",
    "    \n",
    "    for i in range(countleft):\n",
    "        arr = np.delete(arr, (0), axis=1 )\n",
    "        \n",
    "    for i in range(countbottom):\n",
    "        arr = np.arr = np.delete(arr, (arr.shape[0]-1), axis=0 )\n",
    "\n",
    "    \n",
    "    toresize.append(arr)\n"
   ]
  },
  {
   "cell_type": "code",
   "execution_count": 31,
   "metadata": {
    "collapsed": true
   },
   "outputs": [],
   "source": [
    "segmented_data = []\n",
    "\n",
    "for Segment in os.listdir(segmented_particles_path):\n",
    "    particle = cv2.imread(os.path.join(segmented_particles_path, Segment))\n",
    "    segmented_data.append(particle)"
   ]
  },
  {
   "cell_type": "markdown",
   "metadata": {},
   "source": [
    "### Resize file to 32, 32"
   ]
  },
  {
   "cell_type": "code",
   "execution_count": 33,
   "metadata": {
    "collapsed": true
   },
   "outputs": [],
   "source": [
    "segmented = []\n",
    "\n",
    "for resize in toresize:\n",
    "    im = resize\n",
    "    resize = cv2.resize(im, (32,32))\n",
    "    segmented.append(resize)"
   ]
  },
  {
   "cell_type": "code",
   "execution_count": 20,
   "metadata": {},
   "outputs": [
    {
     "data": {
      "text/plain": [
       "[array([[  66.,   88.,   67., ...,  145.,  124.,  159.],\n",
       "        [  33.,   62.,   53., ...,  150.,  158.,  123.],\n",
       "        [  84.,   64.,   45., ...,  117.,  156.,  138.],\n",
       "        ..., \n",
       "        [ 138.,  131.,  130., ...,  151.,  150.,  180.],\n",
       "        [ 127.,  135.,  119., ...,  127.,  155.,  146.],\n",
       "        [ 141.,  124.,  114., ...,  132.,  142.,  130.]]),\n",
       " array([[ 162.,  142.,  153., ...,  159.,  160.,  121.],\n",
       "        [ 148.,  131.,  154., ...,  156.,  139.,  124.],\n",
       "        [ 126.,  140.,  158., ...,  143.,  166.,  132.],\n",
       "        ..., \n",
       "        [ 146.,  160.,  121., ...,  132.,  137.,  169.],\n",
       "        [ 142.,  173.,  147., ...,  144.,  147.,  129.],\n",
       "        [ 124.,  195.,  167., ...,  140.,  137.,  122.]]),\n",
       " array([[ 130.,  127.,  147., ...,  160.,  168.,  133.],\n",
       "        [ 129.,  131.,  112., ...,  134.,  187.,  137.],\n",
       "        [ 132.,  126.,  135., ...,  128.,  134.,  164.],\n",
       "        ..., \n",
       "        [ 141.,  162.,  139., ...,  164.,  150.,  145.],\n",
       "        [ 104.,  108.,  140., ...,  133.,  143.,  128.],\n",
       "        [ 127.,  137.,  122., ...,  166.,  140.,  134.]])]"
      ]
     },
     "execution_count": 20,
     "metadata": {},
     "output_type": "execute_result"
    }
   ],
   "source": [
    "particles"
   ]
  },
  {
   "cell_type": "code",
   "execution_count": 19,
   "metadata": {
    "scrolled": true
   },
   "outputs": [
    {
     "data": {
      "text/plain": [
       "array([[[  84.,   86.,   85.],\n",
       "        [  84.,   86.,   85.],\n",
       "        [  84.,   86.,   85.],\n",
       "        ..., \n",
       "        [ 168.,  172.,  170.],\n",
       "        [ 168.,  172.,  170.],\n",
       "        [ 168.,  172.,  170.]],\n",
       "\n",
       "       [[  84.,   86.,   85.],\n",
       "        [  84.,   86.,   85.],\n",
       "        [  84.,   86.,   85.],\n",
       "        ..., \n",
       "        [ 168.,  172.,  170.],\n",
       "        [ 168.,  172.,  170.],\n",
       "        [ 168.,  172.,  170.]],\n",
       "\n",
       "       [[  84.,   86.,   85.],\n",
       "        [  84.,   86.,   85.],\n",
       "        [  84.,   86.,   85.],\n",
       "        ..., \n",
       "        [ 168.,  172.,  170.],\n",
       "        [ 168.,  172.,  170.],\n",
       "        [ 168.,  172.,  170.]],\n",
       "\n",
       "       ..., \n",
       "       [[ 168.,  172.,  170.],\n",
       "        [ 168.,  172.,  170.],\n",
       "        [ 168.,  172.,  170.],\n",
       "        ..., \n",
       "        [ 168.,  172.,  170.],\n",
       "        [ 168.,  172.,  170.],\n",
       "        [ 168.,  172.,  170.]],\n",
       "\n",
       "       [[ 168.,  172.,  170.],\n",
       "        [ 168.,  172.,  170.],\n",
       "        [ 168.,  172.,  170.],\n",
       "        ..., \n",
       "        [ 168.,  172.,  170.],\n",
       "        [ 168.,  172.,  170.],\n",
       "        [ 168.,  172.,  170.]],\n",
       "\n",
       "       [[ 168.,  172.,  170.],\n",
       "        [ 168.,  172.,  170.],\n",
       "        [ 168.,  172.,  170.],\n",
       "        ..., \n",
       "        [ 168.,  172.,  170.],\n",
       "        [ 168.,  172.,  170.],\n",
       "        [ 168.,  172.,  170.]]])"
      ]
     },
     "execution_count": 19,
     "metadata": {},
     "output_type": "execute_result"
    }
   ],
   "source": [
    "lws"
   ]
  },
  {
   "cell_type": "code",
   "execution_count": 11,
   "metadata": {},
   "outputs": [
    {
     "data": {
      "text/plain": [
       "'data/validation/segmented_particles'"
      ]
     },
     "execution_count": 11,
     "metadata": {},
     "output_type": "execute_result"
    }
   ],
   "source": [
    "segmented_particles_path"
   ]
  },
  {
   "cell_type": "markdown",
   "metadata": {},
   "source": [
    "### Save file to \"Segmented_Particle\""
   ]
  },
  {
   "cell_type": "code",
   "execution_count": 47,
   "metadata": {
    "collapsed": true
   },
   "outputs": [],
   "source": [
    "for i in range(len(segmented)):\n",
    "    Segmented_particle = segmented_particles_path\n",
    "    x_start = names[i][0]\n",
    "    y_start = names[i][1]\n",
    "    \n",
    "    output_file_name = '{}_{}.jpg'.format(x_start, y_start)\n",
    "    output_full_path = Segmented_particle + output_file_name\n",
    "    \n",
    "    cv2.imwrite(output_full_path, segmented[i])"
   ]
  },
  {
   "cell_type": "code",
   "execution_count": 28,
   "metadata": {},
   "outputs": [
    {
     "data": {
      "text/plain": [
       "array([[[  84.,   86.,   85.],\n",
       "        [  84.,   86.,   85.],\n",
       "        [  84.,   86.,   85.],\n",
       "        ..., \n",
       "        [ 168.,  172.,  170.],\n",
       "        [ 168.,  172.,  170.],\n",
       "        [ 168.,  172.,  170.]],\n",
       "\n",
       "       [[  84.,   86.,   85.],\n",
       "        [  84.,   86.,   85.],\n",
       "        [  84.,   86.,   85.],\n",
       "        ..., \n",
       "        [ 168.,  172.,  170.],\n",
       "        [ 168.,  172.,  170.],\n",
       "        [ 168.,  172.,  170.]],\n",
       "\n",
       "       [[  84.,   86.,   85.],\n",
       "        [  84.,   86.,   85.],\n",
       "        [  84.,   86.,   85.],\n",
       "        ..., \n",
       "        [ 168.,  172.,  170.],\n",
       "        [ 168.,  172.,  170.],\n",
       "        [ 168.,  172.,  170.]],\n",
       "\n",
       "       ..., \n",
       "       [[ 168.,  172.,  170.],\n",
       "        [ 168.,  172.,  170.],\n",
       "        [ 168.,  172.,  170.],\n",
       "        ..., \n",
       "        [ 168.,  172.,  170.],\n",
       "        [ 168.,  172.,  170.],\n",
       "        [ 168.,  172.,  170.]],\n",
       "\n",
       "       [[ 168.,  172.,  170.],\n",
       "        [ 168.,  172.,  170.],\n",
       "        [ 168.,  172.,  170.],\n",
       "        ..., \n",
       "        [ 168.,  172.,  170.],\n",
       "        [ 168.,  172.,  170.],\n",
       "        [ 168.,  172.,  170.]],\n",
       "\n",
       "       [[ 168.,  172.,  170.],\n",
       "        [ 168.,  172.,  170.],\n",
       "        [ 168.,  172.,  170.],\n",
       "        ..., \n",
       "        [ 168.,  172.,  170.],\n",
       "        [ 168.,  172.,  170.],\n",
       "        [ 168.,  172.,  170.]]])"
      ]
     },
     "execution_count": 28,
     "metadata": {},
     "output_type": "execute_result"
    }
   ],
   "source": [
    "l"
   ]
  },
  {
   "cell_type": "code",
   "execution_count": 27,
   "metadata": {},
   "outputs": [
    {
     "data": {
      "text/plain": [
       "(32, 32, 3)"
      ]
     },
     "execution_count": 27,
     "metadata": {},
     "output_type": "execute_result"
    }
   ],
   "source": [
    "l.shape"
   ]
  },
  {
   "cell_type": "code",
   "execution_count": 26,
   "metadata": {},
   "outputs": [
    {
     "data": {
      "text/plain": [
       "(32, 32, 3)"
      ]
     },
     "execution_count": 26,
     "metadata": {},
     "output_type": "execute_result"
    }
   ],
   "source": [
    "i.shape"
   ]
  },
  {
   "cell_type": "markdown",
   "metadata": {},
   "source": [
    "### Contour extraction"
   ]
  },
  {
   "cell_type": "code",
   "execution_count": 29,
   "metadata": {},
   "outputs": [
    {
     "ename": "ImportError",
     "evalue": "No module named cufflinks",
     "output_type": "error",
     "traceback": [
      "\u001b[0;31m---------------------------------------------------------------------------\u001b[0m",
      "\u001b[0;31mImportError\u001b[0m                               Traceback (most recent call last)",
      "\u001b[0;32m<ipython-input-29-a17a83eabc75>\u001b[0m in \u001b[0;36m<module>\u001b[0;34m()\u001b[0m\n\u001b[1;32m      1\u001b[0m \u001b[0;32mimport\u001b[0m \u001b[0mpandas\u001b[0m \u001b[0;32mas\u001b[0m \u001b[0mpd\u001b[0m\u001b[0;34m\u001b[0m\u001b[0m\n\u001b[1;32m      2\u001b[0m \u001b[0;34m\u001b[0m\u001b[0m\n\u001b[0;32m----> 3\u001b[0;31m \u001b[0;32mimport\u001b[0m \u001b[0mcufflinks\u001b[0m \u001b[0;32mas\u001b[0m \u001b[0mcf\u001b[0m\u001b[0;34m\u001b[0m\u001b[0m\n\u001b[0m\u001b[1;32m      4\u001b[0m \u001b[0;32mfrom\u001b[0m \u001b[0mplotly\u001b[0m\u001b[0;34m.\u001b[0m\u001b[0moffline\u001b[0m \u001b[0;32mimport\u001b[0m \u001b[0mdownload_plotlyjs\u001b[0m\u001b[0;34m,\u001b[0m \u001b[0minit_notebook_mode\u001b[0m\u001b[0;34m,\u001b[0m \u001b[0mplot\u001b[0m\u001b[0;34m,\u001b[0m \u001b[0miplot\u001b[0m\u001b[0;34m\u001b[0m\u001b[0m\n\u001b[1;32m      5\u001b[0m \u001b[0minit_notebook_mode\u001b[0m\u001b[0;34m(\u001b[0m\u001b[0mconnected\u001b[0m\u001b[0;34m=\u001b[0m\u001b[0mTrue\u001b[0m\u001b[0;34m)\u001b[0m\u001b[0;34m\u001b[0m\u001b[0m\n",
      "\u001b[0;31mImportError\u001b[0m: No module named cufflinks"
     ]
    }
   ],
   "source": [
    "%matplotlib inline\n",
    "import cv2\n",
    "import numpy as np\n",
    "import matplotlib.pyplot as plt\n",
    "import os\n",
    "import pandas as pd\n",
    "\n",
    "import cufflinks as cf\n",
    "from plotly.offline import download_plotlyjs, init_notebook_mode, plot, iplot\n",
    "init_notebook_mode(connected=True)\n",
    "cf.go_offline()"
   ]
  },
  {
   "cell_type": "code",
   "execution_count": 58,
   "metadata": {},
   "outputs": [
    {
     "data": {
      "text/html": [
       "<h1>checking the proper directories\"</h1>"
      ],
      "text/plain": [
       "<IPython.core.display.HTML object>"
      ]
     },
     "metadata": {},
     "output_type": "display_data"
    }
   ],
   "source": [
    "display(HTML('<h1>checking the proper directories\"</h1>'))"
   ]
  },
  {
   "cell_type": "code",
   "execution_count": 59,
   "metadata": {
    "collapsed": true
   },
   "outputs": [],
   "source": [
    "Base_address = \"\"\n",
    "Segmented_Particle_path = \"Segmented_Particle/\"\n",
    "Segmented_Particle_Rectangle_path = \"Segmented_Particle_Rectangle/\""
   ]
  },
  {
   "cell_type": "code",
   "execution_count": null,
   "metadata": {
    "collapsed": true
   },
   "outputs": [],
   "source": []
  },
  {
   "cell_type": "code",
   "execution_count": 36,
   "metadata": {},
   "outputs": [
    {
     "ename": "NameError",
     "evalue": "name 'Base_address' is not defined",
     "output_type": "error",
     "traceback": [
      "\u001b[0;31m---------------------------------------------------------------------------\u001b[0m",
      "\u001b[0;31mNameError\u001b[0m                                 Traceback (most recent call last)",
      "\u001b[0;32m<ipython-input-36-2dd3828c6a3a>\u001b[0m in \u001b[0;36m<module>\u001b[0;34m()\u001b[0m\n\u001b[0;32m----> 1\u001b[0;31m \u001b[0mSegmented_Particle_Rectangle_dir\u001b[0m \u001b[0;34m=\u001b[0m \u001b[0mos\u001b[0m\u001b[0;34m.\u001b[0m\u001b[0mpath\u001b[0m\u001b[0;34m.\u001b[0m\u001b[0mdirname\u001b[0m\u001b[0;34m(\u001b[0m\u001b[0mBase_address\u001b[0m \u001b[0;34m+\u001b[0m \u001b[0mSegmented_Particle_Rectangle_path\u001b[0m\u001b[0;34m)\u001b[0m\u001b[0;34m\u001b[0m\u001b[0m\n\u001b[0m\u001b[1;32m      2\u001b[0m \u001b[0;34m\u001b[0m\u001b[0m\n\u001b[1;32m      3\u001b[0m \u001b[0;32mif\u001b[0m \u001b[0;32mnot\u001b[0m \u001b[0mos\u001b[0m\u001b[0;34m.\u001b[0m\u001b[0mpath\u001b[0m\u001b[0;34m.\u001b[0m\u001b[0mexists\u001b[0m\u001b[0;34m(\u001b[0m\u001b[0mSegmented_Particle_Rectangle_dir\u001b[0m\u001b[0;34m)\u001b[0m\u001b[0;34m:\u001b[0m\u001b[0;34m\u001b[0m\u001b[0m\n\u001b[1;32m      4\u001b[0m     \u001b[0mos\u001b[0m\u001b[0;34m.\u001b[0m\u001b[0mmakedirs\u001b[0m\u001b[0;34m(\u001b[0m\u001b[0mSegmented_Particle_Rectangle_dir\u001b[0m\u001b[0;34m)\u001b[0m\u001b[0;34m\u001b[0m\u001b[0m\n\u001b[1;32m      5\u001b[0m     \u001b[0;32mprint\u001b[0m\u001b[0;34m(\u001b[0m\u001b[0;34m\"Making Segmented_Particle_Rectangle file.\"\u001b[0m\u001b[0;34m)\u001b[0m\u001b[0;34m\u001b[0m\u001b[0m\n",
      "\u001b[0;31mNameError\u001b[0m: name 'Base_address' is not defined"
     ]
    }
   ],
   "source": [
    "Segmented_Particle_Rectangle_dir = os.path.dirname(Base_address + Segmented_Particle_Rectangle_path)\n",
    "\n",
    "if not os.path.exists(Segmented_Particle_Rectangle_dir):\n",
    "    os.makedirs(Segmented_Particle_Rectangle_dir)\n",
    "    print(\"Making Segmented_Particle_Rectangle file.\")\n",
    "    "
   ]
  },
  {
   "cell_type": "code",
   "execution_count": 61,
   "metadata": {},
   "outputs": [
    {
     "data": {
      "text/html": [
       "<h1>Loading from directory</h1>"
      ],
      "text/plain": [
       "<IPython.core.display.HTML object>"
      ]
     },
     "metadata": {},
     "output_type": "display_data"
    }
   ],
   "source": [
    "display(HTML('<h1>Loading from directory</h1>'))"
   ]
  },
  {
   "cell_type": "code",
   "execution_count": 50,
   "metadata": {
    "collapsed": true
   },
   "outputs": [],
   "source": [
    "direc = segmented_particles_path\n",
    "\n",
    "Segmented = [f for f in os.listdir(direc) if os.path.isfile(os.path.join(direc, f))]\n",
    "\n",
    "data = []\n",
    "name_set = []\n",
    "\n",
    "#load Positives\n",
    "for Segment in Segmented:\n",
    "    particle = cv2.imread(os.path.join(segmented_particles_path, Segment), 1)\n",
    "    data.append(particle)\n",
    "    "
   ]
  },
  {
   "cell_type": "code",
   "execution_count": 39,
   "metadata": {},
   "outputs": [
    {
     "data": {
      "text/plain": [
       "['test1-0', '000000e-00-20', 'jpg', '660', '822', '692', '854', 'jpg']"
      ]
     },
     "execution_count": 39,
     "metadata": {},
     "output_type": "execute_result"
    }
   ],
   "source": [
    "array_offsets"
   ]
  },
  {
   "cell_type": "code",
   "execution_count": 63,
   "metadata": {},
   "outputs": [
    {
     "data": {
      "text/html": [
       "<h1>Mask boundaries\"</h1>"
      ],
      "text/plain": [
       "<IPython.core.display.HTML object>"
      ]
     },
     "metadata": {},
     "output_type": "display_data"
    }
   ],
   "source": [
    "display(HTML('<h1>Mask boundaries\"</h1>'))"
   ]
  },
  {
   "cell_type": "code",
   "execution_count": 41,
   "metadata": {
    "collapsed": true
   },
   "outputs": [],
   "source": [
    "lower = np.array([0, 15, 100])\n",
    "upper = np.array([255, 80, 255])"
   ]
  },
  {
   "cell_type": "code",
   "execution_count": 42,
   "metadata": {},
   "outputs": [
    {
     "ename": "NameError",
     "evalue": "name 'display' is not defined",
     "output_type": "error",
     "traceback": [
      "\u001b[0;31m---------------------------------------------------------------------------\u001b[0m",
      "\u001b[0;31mNameError\u001b[0m                                 Traceback (most recent call last)",
      "\u001b[0;32m<ipython-input-42-2312c307cae9>\u001b[0m in \u001b[0;36m<module>\u001b[0;34m()\u001b[0m\n\u001b[0;32m----> 1\u001b[0;31m \u001b[0mdisplay\u001b[0m\u001b[0;34m(\u001b[0m\u001b[0mHTML\u001b[0m\u001b[0;34m(\u001b[0m\u001b[0;34m'<h1>Calculating the size distribution for the segmented particles</h1>'\u001b[0m\u001b[0;34m)\u001b[0m\u001b[0;34m)\u001b[0m\u001b[0;34m\u001b[0m\u001b[0m\n\u001b[0m",
      "\u001b[0;31mNameError\u001b[0m: name 'display' is not defined"
     ]
    }
   ],
   "source": [
    "display(HTML('<h1>Calculating the size distribution for the segmented particles</h1>'))"
   ]
  },
  {
   "cell_type": "code",
   "execution_count": 15,
   "metadata": {
    "scrolled": true
   },
   "outputs": [
    {
     "data": {
      "text/plain": [
       "array([[[  0,   0,   0, ...,   0,   0,   0],\n",
       "        [  0,   0,   0, ...,   0,   0,   0],\n",
       "        [  0,   0,   0, ...,   0,   0,   0],\n",
       "        ..., \n",
       "        [  0,   0,   0, ...,   0,   0,   0],\n",
       "        [  0,   0,   0, ...,   0,   0,   0],\n",
       "        [  0,   0,   0, ...,   0,   0,   0]],\n",
       "\n",
       "       [[  0,   0,   0, ...,   0,   0,   0],\n",
       "        [  0,   0,   0, ...,   0,   0,   0],\n",
       "        [  0,   0,   0, ...,   0,   0,   0],\n",
       "        ..., \n",
       "        [  0,   0,   0, ...,   0,   0,   0],\n",
       "        [  0,   0,   0, ...,   0,   0,   0],\n",
       "        [  0,   0,   0, ...,   0,   0,   0]],\n",
       "\n",
       "       [[  0,   0,   0, ...,   0,   0,   0],\n",
       "        [  0,   0,   0, ...,   0,   0,   0],\n",
       "        [  0,   0,   0, ...,   0,   0,   0],\n",
       "        ..., \n",
       "        [  0,   0,   0, ...,   0,   0,   0],\n",
       "        [  0,   0,   0, ...,   0,   0,   0],\n",
       "        [  0,   0,   0, ...,   0,   0,   0]],\n",
       "\n",
       "       ..., \n",
       "       [[  0,   0,   0, ...,   0,   0,   0],\n",
       "        [  0,   0,   0, ...,   0,   0,   0],\n",
       "        [  0,   0,   0, ...,   0,   0,   0],\n",
       "        ..., \n",
       "        [  0,   0,   0, ...,   0,   0,   0],\n",
       "        [  0,   0,   0, ...,   0,   0,   0],\n",
       "        [  0,   0,   0, ...,   0,   0,   0]],\n",
       "\n",
       "       [[  0,   0,   0, ...,   0,   0,   0],\n",
       "        [  0,   0,   0, ...,   0,   0,   0],\n",
       "        [  0,   0,   0, ...,   0,   0,   0],\n",
       "        ..., \n",
       "        [  0,   0,   0, ...,   0,   0,   0],\n",
       "        [  0,   0,   0, ...,   0,   0,   0],\n",
       "        [  0,   0,   0, ...,   0,   0,   0]],\n",
       "\n",
       "       [[  0, 255, 255, ...,   0,   0,   0],\n",
       "        [255, 255,   0, ...,   0,   0,   0],\n",
       "        [255,   0,   0, ...,   0,   0,   0],\n",
       "        ..., \n",
       "        [  0,   0,   0, ...,   0,   0,   0],\n",
       "        [  0,   0,   0, ...,   0,   0,   0],\n",
       "        [  0,   0,   0, ...,   0,   0,   0]]], dtype=uint8)"
      ]
     },
     "execution_count": 15,
     "metadata": {},
     "output_type": "execute_result"
    }
   ],
   "source": [
    "cvs"
   ]
  },
  {
   "cell_type": "code",
   "execution_count": 26,
   "metadata": {
    "scrolled": true
   },
   "outputs": [
    {
     "data": {
      "text/plain": [
       "array([[[  0,   0,   0, ...,   0,   0,   0],\n",
       "        [  0,   0,   0, ...,   0,   0,   0],\n",
       "        [  0,   0,   0, ...,   0,   0,   0],\n",
       "        ..., \n",
       "        [  0,   0,   0, ...,   0,   0,   0],\n",
       "        [  0,   0,   0, ...,   0,   0,   0],\n",
       "        [  0,   0,   0, ...,   0,   0,   0]],\n",
       "\n",
       "       [[  0,   0,   0, ...,   0,   0,   0],\n",
       "        [  0,   0,   0, ...,   0,   0,   0],\n",
       "        [  0,   0,   0, ...,   0,   0,   0],\n",
       "        ..., \n",
       "        [  0,   0,   0, ...,   0,   0,   0],\n",
       "        [  0,   0,   0, ...,   0,   0,   0],\n",
       "        [  0,   0,   0, ...,   0,   0,   0]],\n",
       "\n",
       "       [[  0,   0,   0, ...,   0,   0,   0],\n",
       "        [  0,   0,   0, ...,   0,   0,   0],\n",
       "        [  0,   0,   0, ...,   0,   0,   0],\n",
       "        ..., \n",
       "        [  0,   0,   0, ...,   0,   0,   0],\n",
       "        [  0,   0,   0, ...,   0,   0,   0],\n",
       "        [  0,   0,   0, ...,   0,   0,   0]],\n",
       "\n",
       "       ..., \n",
       "       [[  0,   0,   0, ...,   0,   0,   0],\n",
       "        [  0,   0,   0, ...,   0,   0,   0],\n",
       "        [  0,   0,   0, ...,   0,   0,   0],\n",
       "        ..., \n",
       "        [  0,   0,   0, ...,   0,   0,   0],\n",
       "        [  0,   0,   0, ...,   0,   0,   0],\n",
       "        [  0,   0,   0, ...,   0,   0,   0]],\n",
       "\n",
       "       [[  0,   0,   0, ...,   0,   0,   0],\n",
       "        [  0,   0,   0, ...,   0,   0,   0],\n",
       "        [  0,   0,   0, ...,   0,   0,   0],\n",
       "        ..., \n",
       "        [  0,   0,   0, ...,   0,   0,   0],\n",
       "        [  0,   0,   0, ...,   0,   0,   0],\n",
       "        [  0,   0,   0, ...,   0,   0,   0]],\n",
       "\n",
       "       [[  0, 255, 255, ...,   0,   0,   0],\n",
       "        [255, 255,   0, ...,   0,   0,   0],\n",
       "        [255,   0,   0, ...,   0,   0,   0],\n",
       "        ..., \n",
       "        [  0,   0,   0, ...,   0,   0,   0],\n",
       "        [  0,   0,   0, ...,   0,   0,   0],\n",
       "        [  0,   0,   0, ...,   0,   0,   0]]], dtype=uint8)"
      ]
     },
     "execution_count": 26,
     "metadata": {},
     "output_type": "execute_result"
    }
   ],
   "source": [
    "cvs"
   ]
  },
  {
   "cell_type": "code",
   "execution_count": 23,
   "metadata": {},
   "outputs": [
    {
     "data": {
      "text/plain": [
       "dtype('uint8')"
      ]
     },
     "execution_count": 23,
     "metadata": {},
     "output_type": "execute_result"
    }
   ],
   "source": [
    "cvs.dtype"
   ]
  },
  {
   "cell_type": "code",
   "execution_count": 36,
   "metadata": {
    "collapsed": true
   },
   "outputs": [],
   "source": [
    "data = cvs"
   ]
  },
  {
   "cell_type": "code",
   "execution_count": 21,
   "metadata": {
    "collapsed": true
   },
   "outputs": [],
   "source": [
    "data = np.expand_dims(cvs, -1)"
   ]
  },
  {
   "cell_type": "code",
   "execution_count": 33,
   "metadata": {},
   "outputs": [
    {
     "data": {
      "text/plain": [
       "(96, 32, 32, 1)"
      ]
     },
     "execution_count": 33,
     "metadata": {},
     "output_type": "execute_result"
    }
   ],
   "source": [
    "data.shape"
   ]
  },
  {
   "cell_type": "code",
   "execution_count": 39,
   "metadata": {},
   "outputs": [
    {
     "data": {
      "text/plain": [
       "(32, 32)"
      ]
     },
     "execution_count": 39,
     "metadata": {},
     "output_type": "execute_result"
    }
   ],
   "source": [
    "d.shape"
   ]
  },
  {
   "cell_type": "code",
   "execution_count": 41,
   "metadata": {},
   "outputs": [
    {
     "data": {
      "text/plain": [
       "(960, 1280)"
      ]
     },
     "execution_count": 41,
     "metadata": {},
     "output_type": "execute_result"
    }
   ],
   "source": [
    "blur.shape"
   ]
  },
  {
   "cell_type": "code",
   "execution_count": null,
   "metadata": {
    "collapsed": true
   },
   "outputs": [],
   "source": [
    "ret3,th3 = cv2.threshold(blur,0,255,cv2.THRESH_BINARY+cv2.THRESH_OTSU)"
   ]
  },
  {
   "cell_type": "code",
   "execution_count": 40,
   "metadata": {},
   "outputs": [
    {
     "data": {
      "text/plain": [
       "dtype('uint8')"
      ]
     },
     "execution_count": 40,
     "metadata": {},
     "output_type": "execute_result"
    }
   ],
   "source": [
    "data.dtype"
   ]
  },
  {
   "cell_type": "code",
   "execution_count": 43,
   "metadata": {},
   "outputs": [
    {
     "data": {
      "text/plain": [
       "(32, 32)"
      ]
     },
     "execution_count": 43,
     "metadata": {},
     "output_type": "execute_result"
    }
   ],
   "source": [
    "output.shape"
   ]
  },
  {
   "cell_type": "code",
   "execution_count": 51,
   "metadata": {
    "collapsed": true
   },
   "outputs": [],
   "source": [
    "largest_cnt = 15"
   ]
  },
  {
   "cell_type": "code",
   "execution_count": 52,
   "metadata": {},
   "outputs": [
    {
     "ename": "error",
     "evalue": "/io/opencv/modules/imgproc/src/convhull.cpp:136: error: (-215) total >= 0 && (depth == CV_32F || depth == CV_32S) in function convexHull\n",
     "output_type": "error",
     "traceback": [
      "\u001b[0;31m---------------------------------------------------------------------------\u001b[0m",
      "\u001b[0;31merror\u001b[0m                                     Traceback (most recent call last)",
      "\u001b[0;32m<ipython-input-52-e2b9543a2525>\u001b[0m in \u001b[0;36m<module>\u001b[0;34m()\u001b[0m\n\u001b[1;32m     34\u001b[0m         \u001b[0;31m#cv2.rectangle(img,(x,y),(x+w,y+h),(0,255,0),2)\u001b[0m\u001b[0;34m\u001b[0m\u001b[0;34m\u001b[0m\u001b[0m\n\u001b[1;32m     35\u001b[0m \u001b[0;34m\u001b[0m\u001b[0m\n\u001b[0;32m---> 36\u001b[0;31m     \u001b[0mrect\u001b[0m \u001b[0;34m=\u001b[0m \u001b[0mcv2\u001b[0m\u001b[0;34m.\u001b[0m\u001b[0mminAreaRect\u001b[0m\u001b[0;34m(\u001b[0m\u001b[0mlargest_cnt\u001b[0m\u001b[0;34m)\u001b[0m\u001b[0;34m\u001b[0m\u001b[0m\n\u001b[0m\u001b[1;32m     37\u001b[0m     \u001b[0mbox\u001b[0m \u001b[0;34m=\u001b[0m \u001b[0mcv2\u001b[0m\u001b[0;34m.\u001b[0m\u001b[0mboxPoints\u001b[0m\u001b[0;34m(\u001b[0m\u001b[0mrect\u001b[0m\u001b[0;34m)\u001b[0m\u001b[0;34m\u001b[0m\u001b[0m\n\u001b[1;32m     38\u001b[0m     \u001b[0mp1\u001b[0m\u001b[0;34m,\u001b[0m \u001b[0mp2\u001b[0m\u001b[0;34m,\u001b[0m \u001b[0mp3\u001b[0m\u001b[0;34m,\u001b[0m \u001b[0mp4\u001b[0m \u001b[0;34m=\u001b[0m \u001b[0mnp\u001b[0m\u001b[0;34m.\u001b[0m\u001b[0mint0\u001b[0m\u001b[0;34m(\u001b[0m\u001b[0mbox\u001b[0m\u001b[0;34m)\u001b[0m\u001b[0;34m\u001b[0m\u001b[0m\n",
      "\u001b[0;31merror\u001b[0m: /io/opencv/modules/imgproc/src/convhull.cpp:136: error: (-215) total >= 0 && (depth == CV_32F || depth == CV_32S) in function convexHull\n"
     ]
    }
   ],
   "source": [
    "size_dist = []\n",
    "images = []\n",
    "\n",
    "for d in data:\n",
    "\n",
    "    image = d\n",
    "\n",
    "    mask = cv2.inRange(image, 0, 1)\n",
    "    output = cv2.bitwise_and(image, image, mask=mask)\n",
    "    width, height = output.shape[:2]\n",
    "\n",
    "    #img = cv2.cvtColor(output, cv2.COLOR_BGR2GRAY)\n",
    "\n",
    "    blur = cv2.GaussianBlur(output,(5,5),0)\n",
    "    ret3,th3 = cv2.threshold(blur,0,255,cv2.THRESH_BINARY+cv2.THRESH_OTSU)\n",
    "\n",
    "    im2, contours, hierarchy = cv2.findContours(th3, cv2.RETR_TREE, cv2.CHAIN_APPROX_SIMPLE)\n",
    "\n",
    "\n",
    "    largest_area = 0\n",
    "\n",
    "    for contour in contours:\n",
    "\n",
    "        cnt = contour\n",
    "        x,y,w,h = cv2.boundingRect(cnt)\n",
    "        area = w*h\n",
    "\n",
    "        if (area > largest_area):\n",
    "\n",
    "            largest_area = area\n",
    "            index_of_largest_area = contour\n",
    "            largest_cnt = cnt\n",
    "\n",
    "        #cv2.rectangle(img,(x,y),(x+w,y+h),(0,255,0),2)\n",
    "\n",
    "    rect = cv2.minAreaRect(largest_cnt)\n",
    "    box = cv2.boxPoints(rect)\n",
    "    p1, p2, p3, p4 = np.int0(box)\n",
    "    \n",
    "    # start shoelace calculation\n",
    "    area = ((p1[0]*p2[1] - p2[0]*p1[1]) + (p2[0]*p3[1] - p3[0]*p2[1]) + (p3[0]*p4[1] - p4[0]*p3[1]) + (p4[0]*p1[1] - p1[0]*p4[1]))/2\n",
    "    box = np.int0(box)\n",
    "\n",
    "    cv2.drawContours(image,[box],0,(0,255,0),1)\n",
    "    #showim(image)\n",
    "    \n",
    "    images.append(image)\n",
    "\n",
    "    size_dist.append(area)"
   ]
  },
  {
   "cell_type": "code",
   "execution_count": 54,
   "metadata": {},
   "outputs": [
    {
     "data": {
      "text/plain": [
       "array([[[[ 142.8012331 ],\n",
       "         [ 154.63270164],\n",
       "         [ 135.96935475],\n",
       "         ..., \n",
       "         [ 150.14252581],\n",
       "         [ 130.11692125],\n",
       "         [ 139.07150269]],\n",
       "\n",
       "        [[ 128.84728381],\n",
       "         [ 128.8572998 ],\n",
       "         [ 132.47492514],\n",
       "         ..., \n",
       "         [ 132.76564742],\n",
       "         [ 155.75997675],\n",
       "         [ 137.82156372]],\n",
       "\n",
       "        [[ 151.56088942],\n",
       "         [ 140.31146488],\n",
       "         [ 134.30586834],\n",
       "         ..., \n",
       "         [ 136.06699168],\n",
       "         [ 136.75551808],\n",
       "         [ 127.92858887]],\n",
       "\n",
       "        ..., \n",
       "        [[ 127.12776775],\n",
       "         [ 139.19903939],\n",
       "         [ 137.36730708],\n",
       "         ..., \n",
       "         [ 127.06651211],\n",
       "         [ 132.54618805],\n",
       "         [ 119.67868042]],\n",
       "\n",
       "        [[ 113.97992442],\n",
       "         [ 143.87769799],\n",
       "         [ 161.80146197],\n",
       "         ..., \n",
       "         [ 127.53557478],\n",
       "         [ 129.53090248],\n",
       "         [ 125.10739136]],\n",
       "\n",
       "        [[ 136.91839413],\n",
       "         [ 137.68316961],\n",
       "         [ 130.67849078],\n",
       "         ..., \n",
       "         [ 134.66304608],\n",
       "         [ 147.10729763],\n",
       "         [ 140.42861938]]],\n",
       "\n",
       "\n",
       "       [[[ 137.70872186],\n",
       "         [ 139.41334035],\n",
       "         [ 137.89279393],\n",
       "         ..., \n",
       "         [ 146.17344136],\n",
       "         [ 135.81619387],\n",
       "         [ 125.31616772]],\n",
       "\n",
       "        [[ 109.8053975 ],\n",
       "         [ 124.07677226],\n",
       "         [ 143.34163495],\n",
       "         ..., \n",
       "         [ 114.33720678],\n",
       "         [ 116.41334253],\n",
       "         [ 122.75043597]],\n",
       "\n",
       "        [[ 145.71879236],\n",
       "         [ 115.82196916],\n",
       "         [ 132.57663275],\n",
       "         ..., \n",
       "         [ 134.77048539],\n",
       "         [ 135.59698736],\n",
       "         [ 143.53578403]],\n",
       "\n",
       "        ..., \n",
       "        [[ 139.40257668],\n",
       "         [ 148.61212905],\n",
       "         [ 110.41366515],\n",
       "         ..., \n",
       "         [ 142.37224096],\n",
       "         [ 128.93353147],\n",
       "         [ 127.98995786]],\n",
       "\n",
       "        [[ 156.83251703],\n",
       "         [ 127.62260717],\n",
       "         [ 115.45443539],\n",
       "         ..., \n",
       "         [ 142.23459672],\n",
       "         [ 137.0104258 ],\n",
       "         [ 137.00900456]],\n",
       "\n",
       "        [[ 139.0256438 ],\n",
       "         [ 136.36225767],\n",
       "         [ 125.40304971],\n",
       "         ..., \n",
       "         [ 137.14280047],\n",
       "         [ 139.67837743],\n",
       "         [ 134.43898851]]],\n",
       "\n",
       "\n",
       "       [[[ 109.        ],\n",
       "         [ 127.        ],\n",
       "         [ 151.        ],\n",
       "         ..., \n",
       "         [ 142.        ],\n",
       "         [ 166.        ],\n",
       "         [ 150.        ]],\n",
       "\n",
       "        [[ 121.        ],\n",
       "         [ 130.        ],\n",
       "         [ 115.        ],\n",
       "         ..., \n",
       "         [ 107.        ],\n",
       "         [ 139.        ],\n",
       "         [ 159.        ]],\n",
       "\n",
       "        [[ 140.        ],\n",
       "         [ 158.        ],\n",
       "         [  82.        ],\n",
       "         ..., \n",
       "         [ 122.        ],\n",
       "         [ 125.        ],\n",
       "         [ 153.        ]],\n",
       "\n",
       "        ..., \n",
       "        [[ 124.        ],\n",
       "         [ 147.        ],\n",
       "         [ 143.        ],\n",
       "         ..., \n",
       "         [ 135.        ],\n",
       "         [ 146.        ],\n",
       "         [ 127.        ]],\n",
       "\n",
       "        [[ 135.        ],\n",
       "         [ 139.        ],\n",
       "         [ 146.        ],\n",
       "         ..., \n",
       "         [ 110.        ],\n",
       "         [ 134.        ],\n",
       "         [ 145.        ]],\n",
       "\n",
       "        [[ 152.        ],\n",
       "         [ 150.        ],\n",
       "         [ 125.        ],\n",
       "         ..., \n",
       "         [ 125.        ],\n",
       "         [ 116.        ],\n",
       "         [ 133.        ]]],\n",
       "\n",
       "\n",
       "       ..., \n",
       "       [[[ 115.22527246],\n",
       "         [ 146.73627539],\n",
       "         [ 137.10159627],\n",
       "         ..., \n",
       "         [ 132.56854934],\n",
       "         [ 146.76877066],\n",
       "         [ 132.92307693]],\n",
       "\n",
       "        [[ 107.44371314],\n",
       "         [ 153.74860864],\n",
       "         [ 133.75796997],\n",
       "         ..., \n",
       "         [ 138.54545096],\n",
       "         [ 163.6911809 ],\n",
       "         [ 119.07663199]],\n",
       "\n",
       "        [[ 118.19157998],\n",
       "         [ 145.11615928],\n",
       "         [ 130.01552596],\n",
       "         ..., \n",
       "         [ 128.25615487],\n",
       "         [ 138.05524893],\n",
       "         [ 118.58858026]],\n",
       "\n",
       "        ..., \n",
       "        [[ 132.28663555],\n",
       "         [ 140.86692891],\n",
       "         [ 139.58865068],\n",
       "         ..., \n",
       "         [ 139.66386866],\n",
       "         [ 129.92316144],\n",
       "         [ 123.00026762]],\n",
       "\n",
       "        [[ 130.54772732],\n",
       "         [ 120.60620334],\n",
       "         [ 137.72550991],\n",
       "         ..., \n",
       "         [ 132.68976606],\n",
       "         [ 146.85358072],\n",
       "         [ 151.49849209]],\n",
       "\n",
       "        [[ 139.06799533],\n",
       "         [ 139.778074  ],\n",
       "         [ 134.35188267],\n",
       "         ..., \n",
       "         [ 130.6183394 ],\n",
       "         [ 128.9540975 ],\n",
       "         [ 123.53996006]]],\n",
       "\n",
       "\n",
       "       [[[ 132.66584842],\n",
       "         [ 130.94950803],\n",
       "         [ 130.66721548],\n",
       "         ..., \n",
       "         [ 125.15363957],\n",
       "         [ 118.09787421],\n",
       "         [ 129.10385421]],\n",
       "\n",
       "        [[ 140.28916461],\n",
       "         [ 119.90312665],\n",
       "         [ 133.69582588],\n",
       "         ..., \n",
       "         [ 135.54381241],\n",
       "         [ 122.98558288],\n",
       "         [ 142.15698405]],\n",
       "\n",
       "        [[ 126.05763714],\n",
       "         [ 128.7500716 ],\n",
       "         [ 118.84287041],\n",
       "         ..., \n",
       "         [ 135.07093368],\n",
       "         [ 131.09156556],\n",
       "         [ 124.22778158]],\n",
       "\n",
       "        ..., \n",
       "        [[ 133.12885722],\n",
       "         [ 130.90980855],\n",
       "         [ 145.36431216],\n",
       "         ..., \n",
       "         [ 112.905536  ],\n",
       "         [ 121.56720105],\n",
       "         [ 153.37132353]],\n",
       "\n",
       "        [[ 134.09151392],\n",
       "         [ 135.98496313],\n",
       "         [ 150.17657048],\n",
       "         ..., \n",
       "         [ 115.22906882],\n",
       "         [ 126.46489234],\n",
       "         [ 159.24629907]],\n",
       "\n",
       "        [[ 141.35488442],\n",
       "         [ 146.79868004],\n",
       "         [ 144.92420337],\n",
       "         ..., \n",
       "         [ 131.56812209],\n",
       "         [ 134.66718144],\n",
       "         [ 143.33595177]]],\n",
       "\n",
       "\n",
       "       [[[ 122.74104056],\n",
       "         [ 125.37440744],\n",
       "         [ 113.9493085 ],\n",
       "         ..., \n",
       "         [ 149.96279519],\n",
       "         [ 147.52198484],\n",
       "         [ 145.30297138]],\n",
       "\n",
       "        [[ 116.22539253],\n",
       "         [ 105.92908745],\n",
       "         [ 102.22210205],\n",
       "         ..., \n",
       "         [ 134.27436485],\n",
       "         [ 140.18419922],\n",
       "         [ 158.76351603]],\n",
       "\n",
       "        [[ 108.5556953 ],\n",
       "         [  83.02127003],\n",
       "         [  83.19060845],\n",
       "         ..., \n",
       "         [ 108.17218992],\n",
       "         [ 120.77585867],\n",
       "         [ 153.26026076]],\n",
       "\n",
       "        ..., \n",
       "        [[ 144.31422633],\n",
       "         [ 128.45481664],\n",
       "         [ 130.93047681],\n",
       "         ..., \n",
       "         [ 133.99373829],\n",
       "         [ 127.18220421],\n",
       "         [ 145.91002335]],\n",
       "\n",
       "        [[ 126.13589676],\n",
       "         [ 128.32552902],\n",
       "         [ 124.80604002],\n",
       "         ..., \n",
       "         [ 132.06307839],\n",
       "         [ 122.22674669],\n",
       "         [ 146.51657177]],\n",
       "\n",
       "        [[ 133.15356445],\n",
       "         [ 140.84643555],\n",
       "         [ 137.09597778],\n",
       "         ..., \n",
       "         [ 126.07617187],\n",
       "         [ 111.65447998],\n",
       "         [ 146.26965332]]]])"
      ]
     },
     "execution_count": 54,
     "metadata": {},
     "output_type": "execute_result"
    }
   ],
   "source": [
    "particles"
   ]
  },
  {
   "cell_type": "code",
   "execution_count": 53,
   "metadata": {},
   "outputs": [
    {
     "data": {
      "text/plain": [
       "[]"
      ]
     },
     "execution_count": 53,
     "metadata": {},
     "output_type": "execute_result"
    }
   ],
   "source": [
    "contours"
   ]
  },
  {
   "cell_type": "code",
   "execution_count": 32,
   "metadata": {},
   "outputs": [
    {
     "data": {
      "text/plain": [
       "(960, 1280)"
      ]
     },
     "execution_count": 32,
     "metadata": {},
     "output_type": "execute_result"
    }
   ],
   "source": [
    "img.shape"
   ]
  },
  {
   "cell_type": "code",
   "execution_count": 30,
   "metadata": {},
   "outputs": [
    {
     "data": {
      "text/plain": [
       "(960, 1280)"
      ]
     },
     "execution_count": 30,
     "metadata": {},
     "output_type": "execute_result"
    }
   ],
   "source": [
    "blur.shape"
   ]
  },
  {
   "cell_type": "code",
   "execution_count": 63,
   "metadata": {},
   "outputs": [
    {
     "data": {
      "text/plain": [
       "<matplotlib.image.AxesImage at 0x7f6ec04221d0>"
      ]
     },
     "execution_count": 63,
     "metadata": {},
     "output_type": "execute_result"
    },
    {
     "data": {
      "image/png": "[encoded data removed]",
      "text/plain": [
       "<matplotlib.figure.Figure at 0x7f6ec049e490>"
      ]
     },
     "metadata": {},
     "output_type": "display_data"
    }
   ],
   "source": [
    "plt.imshow(output)"
   ]
  },
  {
   "cell_type": "code",
   "execution_count": 65,
   "metadata": {},
   "outputs": [
    {
     "data": {
      "text/plain": [
       "<matplotlib.image.AxesImage at 0x7f6ef45d2f50>"
      ]
     },
     "execution_count": 65,
     "metadata": {},
     "output_type": "execute_result"
    },
    {
     "data": {
      "image/png": "[encoded data removed]",
      "text/plain": [
       "<matplotlib.figure.Figure at 0x7f6ec03132d0>"
      ]
     },
     "metadata": {},
     "output_type": "display_data"
    }
   ],
   "source": [
    "plt.imshow(image)"
   ]
  },
  {
   "cell_type": "code",
   "execution_count": 67,
   "metadata": {},
   "outputs": [
    {
     "data": {
      "text/html": [
       "<h1>Generating the distribution Dataframe & plots</h1>"
      ],
      "text/plain": [
       "<IPython.core.display.HTML object>"
      ]
     },
     "metadata": {},
     "output_type": "display_data"
    }
   ],
   "source": [
    "display(HTML('<h1>Generating the distribution Dataframe & plots</h1>'))"
   ]
  },
  {
   "cell_type": "code",
   "execution_count": 68,
   "metadata": {
    "collapsed": true
   },
   "outputs": [],
   "source": [
    "df = pd.DataFrame(size_dist, columns=['Area'])"
   ]
  },
  {
   "cell_type": "code",
   "execution_count": 69,
   "metadata": {},
   "outputs": [
    {
     "data": {
      "application/vnd.plotly.v1+json": {
       "data": [
        {
         "histfunc": "count",
         "histnorm": "",
         "marker": {
          "color": "rgba(255, 153, 51, 1.0)",
          "line": {
           "color": "#4D5663",
           "width": 1.3
          }
         },
         "name": "Area",
         "opacity": 0.8,
         "orientation": "v",
         "type": "histogram",
         "x": [
          480.5,
          700,
          384,
          567
         ]
        }
       ],
       "layout": {
        "barmode": "overlay",
        "legend": {
         "bgcolor": "#F5F6F9",
         "font": {
          "color": "#4D5663"
         }
        },
        "paper_bgcolor": "#F5F6F9",
        "plot_bgcolor": "#F5F6F9",
        "titlefont": {
         "color": "#4D5663"
        },
        "xaxis1": {
         "gridcolor": "#E1E5ED",
         "showgrid": true,
         "tickfont": {
          "color": "#4D5663"
         },
         "title": "Size of Particle",
         "titlefont": {
          "color": "#4D5663"
         },
         "zerolinecolor": "#E1E5ED"
        },
        "yaxis1": {
         "gridcolor": "#E1E5ED",
         "showgrid": true,
         "tickfont": {
          "color": "#4D5663"
         },
         "title": "Frequency of Size",
         "titlefont": {
          "color": "#4D5663"
         },
         "zerolinecolor": "#E1E5ED"
        }
       }
      },
      "text/html": [
       "<div id=\"fa0de3f2-240f-43f4-b145-3690f65da460\" style=\"height: 525px; width: 100%;\" class=\"plotly-graph-div\"></div><script type=\"text/javascript\">require([\"plotly\"], function(Plotly) { window.PLOTLYENV=window.PLOTLYENV || {};window.PLOTLYENV.BASE_URL=\"https://plot.ly\";Plotly.newPlot(\"fa0de3f2-240f-43f4-b145-3690f65da460\", [{\"type\": \"histogram\", \"x\": [480.5, 700.0, 384.0, 567.0], \"name\": \"Area\", \"marker\": {\"color\": \"rgba(255, 153, 51, 1.0)\", \"line\": {\"width\": 1.3, \"color\": \"#4D5663\"}}, \"orientation\": \"v\", \"opacity\": 0.8, \"histfunc\": \"count\", \"histnorm\": \"\"}], {\"legend\": {\"bgcolor\": \"#F5F6F9\", \"font\": {\"color\": \"#4D5663\"}}, \"paper_bgcolor\": \"#F5F6F9\", \"plot_bgcolor\": \"#F5F6F9\", \"yaxis1\": {\"tickfont\": {\"color\": \"#4D5663\"}, \"gridcolor\": \"#E1E5ED\", \"titlefont\": {\"color\": \"#4D5663\"}, \"zerolinecolor\": \"#E1E5ED\", \"showgrid\": true, \"title\": \"Frequency of Size\"}, \"xaxis1\": {\"tickfont\": {\"color\": \"#4D5663\"}, \"gridcolor\": \"#E1E5ED\", \"titlefont\": {\"color\": \"#4D5663\"}, \"zerolinecolor\": \"#E1E5ED\", \"showgrid\": true, \"title\": \"Size of Particle\"}, \"titlefont\": {\"color\": \"#4D5663\"}, \"barmode\": \"overlay\"}, {\"showLink\": true, \"linkText\": \"Export to plot.ly\"})});</script>"
      ],
      "text/vnd.plotly.v1+html": [
       "<div id=\"fa0de3f2-240f-43f4-b145-3690f65da460\" style=\"height: 525px; width: 100%;\" class=\"plotly-graph-div\"></div><script type=\"text/javascript\">require([\"plotly\"], function(Plotly) { window.PLOTLYENV=window.PLOTLYENV || {};window.PLOTLYENV.BASE_URL=\"https://plot.ly\";Plotly.newPlot(\"fa0de3f2-240f-43f4-b145-3690f65da460\", [{\"type\": \"histogram\", \"x\": [480.5, 700.0, 384.0, 567.0], \"name\": \"Area\", \"marker\": {\"color\": \"rgba(255, 153, 51, 1.0)\", \"line\": {\"width\": 1.3, \"color\": \"#4D5663\"}}, \"orientation\": \"v\", \"opacity\": 0.8, \"histfunc\": \"count\", \"histnorm\": \"\"}], {\"legend\": {\"bgcolor\": \"#F5F6F9\", \"font\": {\"color\": \"#4D5663\"}}, \"paper_bgcolor\": \"#F5F6F9\", \"plot_bgcolor\": \"#F5F6F9\", \"yaxis1\": {\"tickfont\": {\"color\": \"#4D5663\"}, \"gridcolor\": \"#E1E5ED\", \"titlefont\": {\"color\": \"#4D5663\"}, \"zerolinecolor\": \"#E1E5ED\", \"showgrid\": true, \"title\": \"Frequency of Size\"}, \"xaxis1\": {\"tickfont\": {\"color\": \"#4D5663\"}, \"gridcolor\": \"#E1E5ED\", \"titlefont\": {\"color\": \"#4D5663\"}, \"zerolinecolor\": \"#E1E5ED\", \"showgrid\": true, \"title\": \"Size of Particle\"}, \"titlefont\": {\"color\": \"#4D5663\"}, \"barmode\": \"overlay\"}, {\"showLink\": true, \"linkText\": \"Export to plot.ly\"})});</script>"
      ]
     },
     "metadata": {},
     "output_type": "display_data"
    }
   ],
   "source": [
    "df.iplot(kind='hist', xTitle='Size of Particle', yTitle='Frequency of Size')"
   ]
  },
  {
   "cell_type": "code",
   "execution_count": 70,
   "metadata": {},
   "outputs": [
    {
     "data": {
      "text/plain": [
       "<matplotlib.axes._subplots.AxesSubplot at 0x7f974f821e48>"
      ]
     },
     "execution_count": 70,
     "metadata": {},
     "output_type": "execute_result"
    },
    {
     "data": {
      "image/png": "[encoded data removed]",
      "text/plain": [
       "<matplotlib.figure.Figure at 0x7f974f8219b0>"
      ]
     },
     "metadata": {},
     "output_type": "display_data"
    }
   ],
   "source": [
    "df.plot.bar()"
   ]
  },
  {
   "cell_type": "code",
   "execution_count": 71,
   "metadata": {},
   "outputs": [
    {
     "data": {
      "application/vnd.plotly.v1+json": {
       "data": [
        {
         "histfunc": "count",
         "histnorm": "",
         "marker": {
          "color": "rgba(255, 153, 51, 1.0)",
          "line": {
           "color": "#4D5663",
           "width": 1.3
          }
         },
         "name": "Area",
         "opacity": 0.8,
         "orientation": "v",
         "type": "histogram",
         "x": [
          480.5,
          700,
          384,
          567
         ]
        }
       ],
       "layout": {
        "barmode": "overlay",
        "legend": {
         "bgcolor": "#F5F6F9",
         "font": {
          "color": "#4D5663"
         }
        },
        "paper_bgcolor": "#F5F6F9",
        "plot_bgcolor": "#F5F6F9",
        "titlefont": {
         "color": "#4D5663"
        },
        "xaxis1": {
         "gridcolor": "#E1E5ED",
         "showgrid": true,
         "tickfont": {
          "color": "#4D5663"
         },
         "title": "Size of Particle",
         "titlefont": {
          "color": "#4D5663"
         },
         "zerolinecolor": "#E1E5ED"
        },
        "yaxis1": {
         "gridcolor": "#E1E5ED",
         "showgrid": true,
         "tickfont": {
          "color": "#4D5663"
         },
         "title": "Frequency of Size",
         "titlefont": {
          "color": "#4D5663"
         },
         "zerolinecolor": "#E1E5ED"
        }
       }
      },
      "text/html": [
       "<div id=\"ea1b28c2-6da3-4842-8414-2944880faa00\" style=\"height: 525px; width: 100%;\" class=\"plotly-graph-div\"></div><script type=\"text/javascript\">require([\"plotly\"], function(Plotly) { window.PLOTLYENV=window.PLOTLYENV || {};window.PLOTLYENV.BASE_URL=\"https://plot.ly\";Plotly.newPlot(\"ea1b28c2-6da3-4842-8414-2944880faa00\", [{\"type\": \"histogram\", \"x\": [480.5, 700.0, 384.0, 567.0], \"name\": \"Area\", \"marker\": {\"color\": \"rgba(255, 153, 51, 1.0)\", \"line\": {\"width\": 1.3, \"color\": \"#4D5663\"}}, \"orientation\": \"v\", \"opacity\": 0.8, \"histfunc\": \"count\", \"histnorm\": \"\"}], {\"legend\": {\"bgcolor\": \"#F5F6F9\", \"font\": {\"color\": \"#4D5663\"}}, \"paper_bgcolor\": \"#F5F6F9\", \"plot_bgcolor\": \"#F5F6F9\", \"yaxis1\": {\"tickfont\": {\"color\": \"#4D5663\"}, \"gridcolor\": \"#E1E5ED\", \"titlefont\": {\"color\": \"#4D5663\"}, \"zerolinecolor\": \"#E1E5ED\", \"showgrid\": true, \"title\": \"Frequency of Size\"}, \"xaxis1\": {\"tickfont\": {\"color\": \"#4D5663\"}, \"gridcolor\": \"#E1E5ED\", \"titlefont\": {\"color\": \"#4D5663\"}, \"zerolinecolor\": \"#E1E5ED\", \"showgrid\": true, \"title\": \"Size of Particle\"}, \"titlefont\": {\"color\": \"#4D5663\"}, \"barmode\": \"overlay\"}, {\"showLink\": true, \"linkText\": \"Export to plot.ly\"})});</script>"
      ],
      "text/vnd.plotly.v1+html": [
       "<div id=\"ea1b28c2-6da3-4842-8414-2944880faa00\" style=\"height: 525px; width: 100%;\" class=\"plotly-graph-div\"></div><script type=\"text/javascript\">require([\"plotly\"], function(Plotly) { window.PLOTLYENV=window.PLOTLYENV || {};window.PLOTLYENV.BASE_URL=\"https://plot.ly\";Plotly.newPlot(\"ea1b28c2-6da3-4842-8414-2944880faa00\", [{\"type\": \"histogram\", \"x\": [480.5, 700.0, 384.0, 567.0], \"name\": \"Area\", \"marker\": {\"color\": \"rgba(255, 153, 51, 1.0)\", \"line\": {\"width\": 1.3, \"color\": \"#4D5663\"}}, \"orientation\": \"v\", \"opacity\": 0.8, \"histfunc\": \"count\", \"histnorm\": \"\"}], {\"legend\": {\"bgcolor\": \"#F5F6F9\", \"font\": {\"color\": \"#4D5663\"}}, \"paper_bgcolor\": \"#F5F6F9\", \"plot_bgcolor\": \"#F5F6F9\", \"yaxis1\": {\"tickfont\": {\"color\": \"#4D5663\"}, \"gridcolor\": \"#E1E5ED\", \"titlefont\": {\"color\": \"#4D5663\"}, \"zerolinecolor\": \"#E1E5ED\", \"showgrid\": true, \"title\": \"Frequency of Size\"}, \"xaxis1\": {\"tickfont\": {\"color\": \"#4D5663\"}, \"gridcolor\": \"#E1E5ED\", \"titlefont\": {\"color\": \"#4D5663\"}, \"zerolinecolor\": \"#E1E5ED\", \"showgrid\": true, \"title\": \"Size of Particle\"}, \"titlefont\": {\"color\": \"#4D5663\"}, \"barmode\": \"overlay\"}, {\"showLink\": true, \"linkText\": \"Export to plot.ly\"})});</script>"
      ]
     },
     "metadata": {},
     "output_type": "display_data"
    }
   ],
   "source": [
    "df.iplot(kind='hist', xTitle='Size of Particle', yTitle='Frequency of Size')"
   ]
  },
  {
   "cell_type": "code",
   "execution_count": 72,
   "metadata": {},
   "outputs": [
    {
     "data": {
      "text/html": [
       "<h1>Saving files to \"Segmented_Particle_rectangle\" folder</h1>"
      ],
      "text/plain": [
       "<IPython.core.display.HTML object>"
      ]
     },
     "metadata": {},
     "output_type": "display_data"
    }
   ],
   "source": [
    "display(HTML('<h1>Saving files to \"Segmented_Particle_rectangle\" folder</h1>'))"
   ]
  },
  {
   "cell_type": "code",
   "execution_count": 73,
   "metadata": {
    "collapsed": true
   },
   "outputs": [],
   "source": [
    "for i in range(len(size_dist)):\n",
    "    Segmented_particle = Base_address + 'Segmented_Particle_Rectangle/'\n",
    "    x_start = name_set[i][0]\n",
    "    y_start = name_set[i][1]\n",
    "    \n",
    "    output_file_name = '{}_{}_size.jpg'.format(x_start, y_start)\n",
    "    output_full_path = Segmented_particle + output_file_name\n",
    "    \n",
    "    cv2.imwrite(output_full_path, images[i])"
   ]
  },
  {
   "cell_type": "code",
   "execution_count": null,
   "metadata": {
    "collapsed": true
   },
   "outputs": [],
   "source": []
  }
 ],
 "metadata": {
  "anaconda-cloud": {},
  "kernelspec": {
   "display_name": "Python 2",
   "language": "python",
   "name": "python2"
  },
  "language_info": {
   "codemirror_mode": {
    "name": "ipython",
    "version": 2
   },
   "file_extension": ".py",
   "mimetype": "text/x-python",
   "name": "python",
   "nbconvert_exporter": "python",
   "pygments_lexer": "ipython2",
   "version": "2.7.13"
  }
 },
 "nbformat": 4,
 "nbformat_minor": 1
}
