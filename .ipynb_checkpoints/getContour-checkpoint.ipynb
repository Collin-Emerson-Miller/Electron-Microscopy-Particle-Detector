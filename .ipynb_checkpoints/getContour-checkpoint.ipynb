{
 "cells": [
  {
   "cell_type": "markdown",
   "metadata": {},
   "source": [
    "## Imports"
   ]
  },
  {
   "cell_type": "code",
   "execution_count": 1,
   "metadata": {
    "collapsed": false
   },
   "outputs": [
    {
     "data": {
      "text/html": [
       "<script>requirejs.config({paths: { 'plotly': ['https://cdn.plot.ly/plotly-latest.min']},});if(!window.Plotly) {{require(['plotly'],function(plotly) {window.Plotly=plotly;});}}</script>"
      ],
      "text/vnd.plotly.v1+html": [
       "<script>requirejs.config({paths: { 'plotly': ['https://cdn.plot.ly/plotly-latest.min']},});if(!window.Plotly) {{require(['plotly'],function(plotly) {window.Plotly=plotly;});}}</script>"
      ]
     },
     "metadata": {},
     "output_type": "display_data"
    },
    {
     "name": "stderr",
     "output_type": "stream",
     "text": [
      "IOPub data rate exceeded.\n",
      "The notebook server will temporarily stop sending output\n",
      "to the client in order to avoid crashing it.\n",
      "To change this limit, set the config variable\n",
      "`--NotebookApp.iopub_data_rate_limit`.\n"
     ]
    }
   ],
   "source": [
    "%matplotlib inline\n",
    "import cv2\n",
    "import numpy as np\n",
    "import matplotlib.pyplot as plt\n",
    "import os\n",
    "import pandas as pd\n",
    "\n",
    "import cufflinks as cf\n",
    "from plotly.offline import download_plotlyjs, init_notebook_mode, plot, iplot\n",
    "init_notebook_mode(connected=True)\n",
    "cf.go_offline()"
   ]
  },
  {
   "cell_type": "markdown",
   "metadata": {},
   "source": [
    "## Helper function"
   ]
  },
  {
   "cell_type": "code",
   "execution_count": 2,
   "metadata": {
    "collapsed": true
   },
   "outputs": [],
   "source": [
    "def showim(imgpassed):\n",
    "    \n",
    "    cv2.imshow('image', imgpassed)\n",
    "    k = cv2.waitKey(0)\n",
    "    if k == 27:         # wait for ESC key to exit\n",
    "        cv2.destroyAllWindows()\n",
    "    elif k == ord('s'): # wait for 's' key to save and exit\n",
    "        cv2.imwrite('particle',img)\n",
    "        cv2.destroyAllWindows()\n",
    "    "
   ]
  },
  {
   "cell_type": "markdown",
   "metadata": {},
   "source": [
    "## Directory"
   ]
  },
  {
   "cell_type": "code",
   "execution_count": 3,
   "metadata": {
    "collapsed": true
   },
   "outputs": [],
   "source": [
    "Base_address = \"/home/matthew/Documents/COMP 496ML/\"\n",
    "Segmented_Particle_path = \"Segmented_Particle/\"\n",
    "Segmented_Particle_Rectangle_path = \"Segmented_Particle_Rectangle/\""
   ]
  },
  {
   "cell_type": "markdown",
   "metadata": {},
   "source": [
    "## Check if Directory Exists"
   ]
  },
  {
   "cell_type": "code",
   "execution_count": 4,
   "metadata": {
    "collapsed": true
   },
   "outputs": [],
   "source": [
    "Segmented_Particle_Rectangle_dir = os.path.dirname(Base_address + Segmented_Particle_Rectangle_path)\n",
    "\n",
    "if not os.path.exists(Segmented_Particle_Rectangle_dir):\n",
    "    os.makedirs(Segmented_Particle_Rectangle_dir)\n",
    "    print(\"Making Segmented_Particle_Rectangle file.\")\n",
    "    "
   ]
  },
  {
   "cell_type": "markdown",
   "metadata": {},
   "source": [
    "## Pull files from directory"
   ]
  },
  {
   "cell_type": "code",
   "execution_count": 5,
   "metadata": {
    "collapsed": false
   },
   "outputs": [
    {
     "name": "stdout",
     "output_type": "stream",
     "text": [
      "['2_14.jpg', '4_15.jpg', '2_8.jpg', '2_5.jpg', '3_16.jpg', '3_7.jpg', '6_25.jpg', '3_4.jpg', '7_17.jpg', '8_14.jpg', '6_3.jpg', '1_17.jpg', '4_18.jpg', '9_9.jpg', '8_6.jpg', '4_8.jpg', '5_11.jpg', '1_12.jpg', '1_9.jpg', '9_3.jpg', '7_9.jpg', '4_3.jpg', '4_11.jpg', '1_14.jpg', '3_13.jpg', '6_14.jpg', '2_3.jpg', '3_2.jpg', '5_2.jpg', '7_6.jpg', '4_6.jpg', '2_17.jpg']\n",
      "<type 'list'>\n",
      "32\n",
      "[[2, 14], [4, 15], [2, 8], [2, 5], [3, 16], [3, 7], [6, 25], [3, 4], [7, 17], [8, 14], [6, 3], [1, 17], [4, 18], [9, 9], [8, 6], [4, 8], [5, 11], [1, 12], [1, 9], [9, 3], [7, 9], [4, 3], [4, 11], [1, 14], [3, 13], [6, 14], [2, 3], [3, 2], [5, 2], [7, 6], [4, 6], [2, 17]]\n"
     ]
    }
   ],
   "source": [
    "direc = Base_address + Segmented_Particle_path\n",
    "\n",
    "Segmented = [f for f in os.listdir(direc) if os.path.isfile(os.path.join(direc, f))]\n",
    "print(Segmented)\n",
    "print(type(Segmented))\n",
    "\n",
    "numImages = len(Segmented)\n",
    "print(numImages)\n",
    "data = []\n",
    "name_set = []\n",
    "\n",
    "#load Positives\n",
    "for i in range(len(Segmented)):\n",
    "    path = direc + Segmented[i]\n",
    "    \n",
    "    particle = cv2.imread(path, 1)\n",
    "    \n",
    "    \n",
    "    file_name = Segmented[i]\n",
    "    replace = file_name.replace('.','_')\n",
    "    array_offsets = replace.split('_')\n",
    "    \n",
    "    x_offset = int(array_offsets[0])\n",
    "    y_offset = int(array_offsets[1])\n",
    "    \n",
    "    name_set.append([x_offset, y_offset])\n",
    "    data.append(particle)\n",
    "    \n",
    "print name_set"
   ]
  },
  {
   "cell_type": "markdown",
   "metadata": {},
   "source": [
    "## Set boundaries for mask"
   ]
  },
  {
   "cell_type": "code",
   "execution_count": 6,
   "metadata": {
    "collapsed": true
   },
   "outputs": [],
   "source": [
    "lower = np.array([0, 15, 100])\n",
    "upper = np.array([255, 80, 255])"
   ]
  },
  {
   "cell_type": "markdown",
   "metadata": {},
   "source": [
    "## Calculate the size distribution for all the segmented particles"
   ]
  },
  {
   "cell_type": "code",
   "execution_count": 7,
   "metadata": {
    "collapsed": true
   },
   "outputs": [],
   "source": [
    "size_dist = []\n",
    "images = []\n",
    "\n",
    "for i in range(len(data)):\n",
    "\n",
    "    image = data[i]\n",
    "\n",
    "    mask = cv2.inRange(image, lower, upper)\n",
    "    output = cv2.bitwise_and(image, image, mask=mask)\n",
    "    width, height = output.shape[:2]\n",
    "\n",
    "    img = cv2.cvtColor(output, cv2.COLOR_BGR2GRAY)\n",
    "\n",
    "    blur = cv2.GaussianBlur(img,(5,5),0)\n",
    "    ret3,th3 = cv2.threshold(blur,0,255,cv2.THRESH_BINARY+cv2.THRESH_OTSU)\n",
    "\n",
    "    im2, contours, hierarchy = cv2.findContours(th3, cv2.RETR_TREE, cv2.CHAIN_APPROX_SIMPLE)\n",
    "\n",
    "\n",
    "    largest_area = 0\n",
    "\n",
    "    for i in range(len(contours)):\n",
    "\n",
    "        cnt = contours[i]\n",
    "        x,y,w,h = cv2.boundingRect(cnt)\n",
    "        area = w*h\n",
    "\n",
    "        if (area > largest_area):\n",
    "\n",
    "            largest_area = area\n",
    "            index_of_largest_area = i\n",
    "            largest_cnt = cnt\n",
    "\n",
    "        #cv2.rectangle(img,(x,y),(x+w,y+h),(0,255,0),2)\n",
    "\n",
    "    rect = cv2.minAreaRect(largest_cnt)\n",
    "    box = cv2.boxPoints(rect)\n",
    "    p1, p2, p3, p4 = np.int0(box)\n",
    "    area = ((p1[0]*p2[1] - p2[0]*p1[1]) + (p2[0]*p3[1] - p3[0]*p2[1]) + (p3[0]*p4[1] - p4[0]*p3[1]) + (p4[0]*p1[1] - p1[0]*p4[1]))/2\n",
    "    box = np.int0(box)\n",
    "\n",
    "    cv2.drawContours(image,[box],0,(0,255,0),1)\n",
    "    #showim(image)\n",
    "    \n",
    "    images.append(image)\n",
    "\n",
    "    size_dist.append(area)"
   ]
  },
  {
   "cell_type": "markdown",
   "metadata": {},
   "source": [
    "## Create pandas dataframe"
   ]
  },
  {
   "cell_type": "code",
   "execution_count": 8,
   "metadata": {
    "collapsed": true
   },
   "outputs": [],
   "source": [
    "df = pd.DataFrame(size_dist, columns=['Area'])"
   ]
  },
  {
   "cell_type": "code",
   "execution_count": 9,
   "metadata": {
    "collapsed": false
   },
   "outputs": [
    {
     "data": {
      "application/vnd.plotly.v1+json": {
       "data": [
        {
         "histfunc": "count",
         "histnorm": "",
         "marker": {
          "color": "rgba(255, 153, 51, 1.0)",
          "line": {
           "color": "#4D5663",
           "width": 1.3
          }
         },
         "name": "Area",
         "opacity": 0.8,
         "orientation": "v",
         "type": "histogram",
         "x": [
          274,
          220,
          502,
          293,
          394,
          361,
          592,
          240,
          624,
          218,
          375,
          364,
          118,
          140,
          217,
          352,
          488,
          466,
          403,
          169,
          858,
          368,
          225,
          357,
          140,
          148,
          252,
          260,
          507,
          384,
          195,
          148
         ]
        }
       ],
       "layout": {
        "barmode": "overlay",
        "legend": {
         "bgcolor": "#F5F6F9",
         "font": {
          "color": "#4D5663"
         }
        },
        "paper_bgcolor": "#F5F6F9",
        "plot_bgcolor": "#F5F6F9",
        "titlefont": {
         "color": "#4D5663"
        },
        "xaxis1": {
         "gridcolor": "#E1E5ED",
         "showgrid": true,
         "tickfont": {
          "color": "#4D5663"
         },
         "title": "Size of Particle",
         "titlefont": {
          "color": "#4D5663"
         },
         "zerolinecolor": "#E1E5ED"
        },
        "yaxis1": {
         "gridcolor": "#E1E5ED",
         "showgrid": true,
         "tickfont": {
          "color": "#4D5663"
         },
         "title": "Frequency of Size",
         "titlefont": {
          "color": "#4D5663"
         },
         "zerolinecolor": "#E1E5ED"
        }
       }
      },
      "text/html": [
       "<div id=\"c9d5f81b-4296-4a93-8a42-64ecae69f20c\" style=\"height: 525px; width: 100%;\" class=\"plotly-graph-div\"></div><script type=\"text/javascript\">require([\"plotly\"], function(Plotly) { window.PLOTLYENV=window.PLOTLYENV || {};window.PLOTLYENV.BASE_URL=\"https://plot.ly\";Plotly.newPlot(\"c9d5f81b-4296-4a93-8a42-64ecae69f20c\", [{\"opacity\": 0.8, \"name\": \"Area\", \"histnorm\": \"\", \"histfunc\": \"count\", \"marker\": {\"color\": \"rgba(255, 153, 51, 1.0)\", \"line\": {\"color\": \"#4D5663\", \"width\": 1.3}}, \"x\": [274, 220, 502, 293, 394, 361, 592, 240, 624, 218, 375, 364, 118, 140, 217, 352, 488, 466, 403, 169, 858, 368, 225, 357, 140, 148, 252, 260, 507, 384, 195, 148], \"type\": \"histogram\", \"orientation\": \"v\"}], {\"yaxis1\": {\"tickfont\": {\"color\": \"#4D5663\"}, \"title\": \"Frequency of Size\", \"showgrid\": true, \"zerolinecolor\": \"#E1E5ED\", \"gridcolor\": \"#E1E5ED\", \"titlefont\": {\"color\": \"#4D5663\"}}, \"paper_bgcolor\": \"#F5F6F9\", \"plot_bgcolor\": \"#F5F6F9\", \"xaxis1\": {\"tickfont\": {\"color\": \"#4D5663\"}, \"title\": \"Size of Particle\", \"showgrid\": true, \"zerolinecolor\": \"#E1E5ED\", \"gridcolor\": \"#E1E5ED\", \"titlefont\": {\"color\": \"#4D5663\"}}, \"barmode\": \"overlay\", \"titlefont\": {\"color\": \"#4D5663\"}, \"legend\": {\"bgcolor\": \"#F5F6F9\", \"font\": {\"color\": \"#4D5663\"}}}, {\"linkText\": \"Export to plot.ly\", \"showLink\": true})});</script>"
      ],
      "text/vnd.plotly.v1+html": [
       "<div id=\"c9d5f81b-4296-4a93-8a42-64ecae69f20c\" style=\"height: 525px; width: 100%;\" class=\"plotly-graph-div\"></div><script type=\"text/javascript\">require([\"plotly\"], function(Plotly) { window.PLOTLYENV=window.PLOTLYENV || {};window.PLOTLYENV.BASE_URL=\"https://plot.ly\";Plotly.newPlot(\"c9d5f81b-4296-4a93-8a42-64ecae69f20c\", [{\"opacity\": 0.8, \"name\": \"Area\", \"histnorm\": \"\", \"histfunc\": \"count\", \"marker\": {\"color\": \"rgba(255, 153, 51, 1.0)\", \"line\": {\"color\": \"#4D5663\", \"width\": 1.3}}, \"x\": [274, 220, 502, 293, 394, 361, 592, 240, 624, 218, 375, 364, 118, 140, 217, 352, 488, 466, 403, 169, 858, 368, 225, 357, 140, 148, 252, 260, 507, 384, 195, 148], \"type\": \"histogram\", \"orientation\": \"v\"}], {\"yaxis1\": {\"tickfont\": {\"color\": \"#4D5663\"}, \"title\": \"Frequency of Size\", \"showgrid\": true, \"zerolinecolor\": \"#E1E5ED\", \"gridcolor\": \"#E1E5ED\", \"titlefont\": {\"color\": \"#4D5663\"}}, \"paper_bgcolor\": \"#F5F6F9\", \"plot_bgcolor\": \"#F5F6F9\", \"xaxis1\": {\"tickfont\": {\"color\": \"#4D5663\"}, \"title\": \"Size of Particle\", \"showgrid\": true, \"zerolinecolor\": \"#E1E5ED\", \"gridcolor\": \"#E1E5ED\", \"titlefont\": {\"color\": \"#4D5663\"}}, \"barmode\": \"overlay\", \"titlefont\": {\"color\": \"#4D5663\"}, \"legend\": {\"bgcolor\": \"#F5F6F9\", \"font\": {\"color\": \"#4D5663\"}}}, {\"linkText\": \"Export to plot.ly\", \"showLink\": true})});</script>"
      ]
     },
     "metadata": {},
     "output_type": "display_data"
    }
   ],
   "source": [
    "df.iplot(kind='hist', xTitle='Size of Particle', yTitle='Frequency of Size')"
   ]
  },
  {
   "cell_type": "code",
   "execution_count": 10,
   "metadata": {
    "collapsed": true
   },
   "outputs": [],
   "source": [
    "## Save files to \"Segmented_Particle_Rectan"
   ]
  },
  {
   "cell_type": "code",
   "execution_count": 13,
   "metadata": {
    "collapsed": true
   },
   "outputs": [],
   "source": [
    "len_ = len(images)\n",
    "\n",
    "for i in range(len_):\n",
    "    Rectangled_particle = Base_address + 'Segmented_Particle_Rectangle/'\n",
    "    x_start = name_set[i][0]\n",
    "    y_start = name_set[i][1]\n",
    "    \n",
    "    output_file_name = '{}_{}_size.jpg'.format(x_start, y_start)\n",
    "    output_full_path = Rectangled_particle + output_file_name\n",
    "    \n",
    "    cv2.imwrite(output_full_path, images[i])"
   ]
  },
  {
   "cell_type": "code",
   "execution_count": null,
   "metadata": {
    "collapsed": true
   },
   "outputs": [],
   "source": []
  }
 ],
 "metadata": {
  "anaconda-cloud": {},
  "kernelspec": {
   "display_name": "Python [default]",
   "language": "python",
   "name": "python2"
  },
  "language_info": {
   "codemirror_mode": {
    "name": "ipython",
    "version": 2
   },
   "file_extension": ".py",
   "mimetype": "text/x-python",
   "name": "python",
   "nbconvert_exporter": "python",
   "pygments_lexer": "ipython2",
   "version": "2.7.12"
  }
 },
 "nbformat": 4,
 "nbformat_minor": 2
}
