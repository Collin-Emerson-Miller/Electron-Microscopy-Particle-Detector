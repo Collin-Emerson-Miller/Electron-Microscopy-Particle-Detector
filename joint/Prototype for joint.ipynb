{
 "cells": [
  {
   "cell_type": "markdown",
   "metadata": {},
   "source": [
    "This notebook will serve as a prototype for the joining of detection and segmentation.\n",
    "\n",
    "I plan to create the joint class and fill in all of the methods defined in the\n",
    "example notebook for how to use the joint class.\n",
    "\n",
    "First I am going to implement the most needed methods.  The priority of the methodes go as such:\n",
    "\n",
    "1. segment\n",
    "2. train_boundary_probabilities\n",
    "3. train_segmentation\n",
    "4. detect\n",
    "5. train_detection"
   ]
  },
  {
   "cell_type": "markdown",
   "metadata": {},
   "source": [
    "### Python Imports"
   ]
  },
  {
   "cell_type": "code",
   "execution_count": 1,
   "metadata": {
    "collapsed": true
   },
   "outputs": [],
   "source": [
    "import detection\n",
    "import segmentation"
   ]
  },
  {
   "cell_type": "code",
   "execution_count": null,
   "metadata": {
    "collapsed": true
   },
   "outputs": [],
   "source": [
    "class Jds:\n",
    "    \n",
    "    def __init__(self):\n",
    "        pass\n",
    "    \n",
    "    def segment(self, images, seeds):\n",
    "        \"\"\"Segments an image.\n",
    "        \n",
    "        Args:\n",
    "            images: A `numpy` array of images.\n",
    "            seeds: A list of seed locations to start region growing.\n",
    "            \n",
    "        Returns:\n",
    "            A numpy array of segmentation labels.\n",
    "        \"\"\"\n",
    "        \n",
    "        \n",
    "    def detect(self, images):\n",
    "        \"\"\"Detects objects in an image.\n",
    "        \n",
    "        Args:\n",
    "            images: a `numpy` array of images for detection.\n",
    "            \n",
    "        Returns:\n",
    "            A 2 dimensional `numpy` array where dimension one is \n",
    "            each for each input image and dimension two is for each\n",
    "            detected object.\n",
    "        \n",
    "        \"\"\"\n",
    "        \n",
    "        \n",
    "    def train_boundary_probabilities(self, X, y, n_epochs):\n",
    "        \"\"\"Trains the boundary probability model for segmentation.\n",
    "        \n",
    "        Args:\n",
    "            X: A `numpy` array of training data.\n",
    "            y: A `numpy` array of training labels.\n",
    "        \"\"\"\n",
    "        \n",
    "        \n",
    "    def train_segmentation(self, X, y):\n",
    "        \"\"\"Trains the segmentation model.\n",
    "        \n",
    "        Args:\n",
    "            X: A `numpy` array of training data.\n",
    "            y: A `numpy` array of training labels.\n",
    "        \"\"\"\n",
    "        \n",
    "        \n",
    "    def train_detection(self, X, y):\n",
    "    \"\"\"Trains the detection model.\n",
    "        \n",
    "        Args:\n",
    "            X: A `numpy` array of training data.\n",
    "            y: A `numpy` array of training labels.\n",
    "        \"\"\"\n",
    "    \n",
    "    "
   ]
  }
 ],
 "metadata": {
  "kernelspec": {
   "display_name": "Python 2",
   "language": "python",
   "name": "python2"
  },
  "language_info": {
   "codemirror_mode": {
    "name": "ipython",
    "version": 2
   },
   "file_extension": ".py",
   "mimetype": "text/x-python",
   "name": "python",
   "nbconvert_exporter": "python",
   "pygments_lexer": "ipython2",
   "version": "2.7.13"
  }
 },
 "nbformat": 4,
 "nbformat_minor": 2
}
