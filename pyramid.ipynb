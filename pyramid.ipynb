{
 "cells": [
  {
   "cell_type": "code",
   "execution_count": 21,
   "metadata": {
    "collapsed": true
   },
   "outputs": [],
   "source": [
    "%matplotlib inline\n",
    "import numpy as np\n",
    "import cv2\n",
    "from cv2 import imread, pyrDown\n",
    "import matplotlib.pyplot as plt\n",
    "\n",
    "A = imread('full_images/pic1.jpg', 0)\n",
    "\n",
    "def getPyramid(img):\n",
    "    pyr = []\n",
    "    pyr.append(img)\n",
    "    \n",
    "    G = img.copy()\n",
    "    \n",
    "    l2 = pyrDown(G)\n",
    "    pyr.append(l2)\n",
    "    pyr.append(pyrDown(l2))\n",
    "    \n",
    "    return pyr"
   ]
  },
  {
   "cell_type": "code",
   "execution_count": 22,
   "metadata": {
    "collapsed": false
   },
   "outputs": [
    {
     "name": "stdout",
     "output_type": "stream",
     "text": [
      "Level 0 image size: \n",
      "(960, 1280)\n",
      "\n",
      "Level 1 image size: \n",
      "(480, 640)\n",
      "\n",
      "Level 2 image size: \n",
      "(240, 320)\n",
      "\n"
     ]
    }
   ],
   "source": [
    "import matplotlib.pyplot as plt\n",
    "\n",
    "imgs = getPyramid(A)\n",
    "\n",
    "for i in range(len(imgs)):\n",
    "    print 'Level ' + str(i) + ' image size: '\n",
    "    print imgs[i].shape\n",
    "    print ''"
   ]
  }
 ],
 "metadata": {
  "kernelspec": {
   "display_name": "Python 2",
   "language": "python",
   "name": "python2"
  },
  "language_info": {
   "codemirror_mode": {
    "name": "ipython",
    "version": 2
   },
   "file_extension": ".py",
   "mimetype": "text/x-python",
   "name": "python",
   "nbconvert_exporter": "python",
   "pygments_lexer": "ipython2",
   "version": "2.7.12"
  }
 },
 "nbformat": 4,
 "nbformat_minor": 2
}
