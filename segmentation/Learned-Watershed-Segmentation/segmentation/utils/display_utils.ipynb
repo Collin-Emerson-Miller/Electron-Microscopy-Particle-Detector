{
 "cells": [
  {
   "cell_type": "code",
   "execution_count": null,
   "metadata": {
    "collapsed": true
   },
   "outputs": [],
   "source": [
    "from __future__ import absolute_import\n",
    "from __future__ import division\n",
    "from __future__ import print_function\n",
    "\n",
    "import networkx as nx\n",
    "import numpy as np"
   ]
  },
  {
   "cell_type": "code",
   "execution_count": null,
   "metadata": {
    "collapsed": true
   },
   "outputs": [],
   "source": [
    "def view_path(image, path):\n",
    "\n",
    "    img = image.copy()\n",
    "\n",
    "    img = cv2.cvtColor(img, cv2.COLOR_GRAY2RGB)\n",
    "\n",
    "    for x, y in path:\n",
    "        img[x, y] = [0, 0, 255]\n",
    "    plt.imshow(img)"
   ]
  },
  {
   "cell_type": "code",
   "execution_count": null,
   "metadata": {
    "collapsed": true
   },
   "outputs": [],
   "source": [
    "def view_boundaries(image, cuts):\n",
    "\n",
    "    img = image.copy()\n",
    "\n",
    "    img = cv2.cvtColor(img, cv2.COLOR_GRAY2RGB)\n",
    "\n",
    "    for x, y in cuts:\n",
    "        img[x[0], x[1]] = [0, 0, 255]\n",
    "        img[y[0], y[1]] = [0, 255, 0]\n",
    "\n",
    "    plt.imshow(img)"
   ]
  },
  {
   "cell_type": "code",
   "execution_count": null,
   "metadata": {
    "collapsed": true
   },
   "outputs": [],
   "source": [
    "def get_spaced_colors(n):\n",
    "    max_value = 16581375  # 255**3\n",
    "    interval = int(max_value / n)\n",
    "    colors = [hex(I)[2:].zfill(6) for I in range(0, max_value, interval)]\n",
    "\n",
    "    return [(int(i[:2], 16), int(i[2:4], 16), int(i[4:], 16)) for i in colors]"
   ]
  },
  {
   "cell_type": "code",
   "execution_count": null,
   "metadata": {
    "collapsed": true
   },
   "outputs": [],
   "source": [
    "def assignments(img, graph, seeds):\n",
    "    assignment_mask = np.zeros((img.shape[0], img.shape[1], 3))\n",
    "\n",
    "    colors = get_spaced_colors(len(seeds) + 1)\n",
    "\n",
    "    for node, d in graph.nodes_iter(data=True):\n",
    "        seed = d['seed']\n",
    "        try:\n",
    "            assignment_mask[node] = colors[seeds.index(seed) + 1]\n",
    "        except ValueError:\n",
    "            assignment_mask[node] = colors[0]\n",
    "            \n",
    "    return assignment_mask"
   ]
  }
 ],
 "metadata": {
  "kernelspec": {
   "display_name": "Python 2",
   "language": "python",
   "name": "python2"
  },
  "language_info": {
   "codemirror_mode": {
    "name": "ipython",
    "version": 2
   },
   "file_extension": ".py",
   "mimetype": "text/x-python",
   "name": "python",
   "nbconvert_exporter": "python",
   "pygments_lexer": "ipython2",
   "version": "2.7.13"
  }
 },
 "nbformat": 4,
 "nbformat_minor": 2
}
